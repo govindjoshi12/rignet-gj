{
 "cells": [
  {
   "cell_type": "code",
   "execution_count": 1,
   "id": "65e884b2",
   "metadata": {},
   "outputs": [],
   "source": [
    "import os\n",
    "import open3d as o3d\n",
    "import numpy as np\n",
    "import glob"
   ]
  },
  {
   "cell_type": "code",
   "execution_count": 2,
   "id": "d33cdd5e",
   "metadata": {},
   "outputs": [],
   "source": [
    "data_root = \"data/ModelResource_RigNetv1_preproccessed\"\n",
    "obj_folder = f'{data_root}/obj'\n",
    "rig_folder = f'{data_root}/rig_info'"
   ]
  },
  {
   "cell_type": "code",
   "execution_count": 3,
   "id": "bf444b83",
   "metadata": {},
   "outputs": [],
   "source": [
    "def get_mesh_joint_pair(obj_index, obj_folder, rig_folder):\n",
    "    \n",
    "    obj_path = f'{obj_folder}/{obj_index}.obj'\n",
    "    rig_path = f'{rig_folder}/{obj_index}.txt'\n",
    "\n",
    "    # Load and pre-process mesh\n",
    "    mesh = o3d.io.read_triangle_mesh(obj_path, enable_post_processing=True)\n",
    "\n",
    "    verts = np.asarray(mesh.vertices)\n",
    "    centroid = verts.mean(axis=0)\n",
    "    mesh.translate(-centroid)\n",
    "\n",
    "    # extraxt join locations\n",
    "    # disregard bone info. Only want joint locations\n",
    "    joints = []\n",
    "    with open(rig_path, \"r\") as f:\n",
    "        tokens = f.readline().split()\n",
    "        while(tokens[0] == \"joints\"):\n",
    "            joints.append(list(map(float, tokens[2:])))\n",
    "            tokens = f.readline().split()\n",
    "\n",
    "    # Return joints as point cloud\n",
    "    pcd = o3d.geometry.PointCloud()\n",
    "    pcd.points = o3d.utility.Vector3dVector(np.asarray(joints))\n",
    "    pcd.translate(-centroid)\n",
    "\n",
    "    return mesh, pcd"
   ]
  },
  {
   "cell_type": "code",
   "execution_count": 4,
   "id": "7bbacd57",
   "metadata": {},
   "outputs": [],
   "source": [
    "def process_and_visualize(mesh: o3d.geometry.TriangleMesh, joints: o3d.geometry.PointCloud):\n",
    "\n",
    "    # Get verices and centroid\n",
    "    verts = np.asarray(mesh.vertices)\n",
    "    centroid = verts.mean(axis=0)   \n",
    "\n",
    "    # Mesh frame\n",
    "    mesh_frame = o3d.geometry.LineSet.create_from_triangle_mesh(mesh)\n",
    "\n",
    "    # Draw joints\n",
    "    spheres = []\n",
    "    for (x, y, z) in np.asarray(joints.points):\n",
    "        sphere = o3d.geometry.TriangleMesh.create_sphere(radius=0.01)\n",
    "        sphere.translate((x, y, z))\n",
    "        sphere.paint_uniform_color([0, 1, 1])\n",
    "        spheres.append(sphere)\n",
    "\n",
    "    # Compute AABB and its longest side\n",
    "    aabb = mesh.get_axis_aligned_bounding_box()\n",
    "    min_bound = aabb.min_bound  # [x_min, y_min, z_min]\n",
    "    max_bound = aabb.max_bound  # [x_max, y_max, z_max]\n",
    "    lengths = max_bound - min_bound  # [Lx, Ly, Lz]\n",
    "    longest = lengths.max()\n",
    "\n",
    "    # Create a box for visualization\n",
    "    box = o3d.geometry.LineSet.create_from_axis_aligned_bounding_box(aabb)\n",
    "    box.translate(-centroid) \n",
    "    box.colors = o3d.utility.Vector3dVector([[1, 0, 0] for _ in box.lines]) \n",
    "\n",
    "    # Axes\n",
    "    axes = o3d.geometry.TriangleMesh.create_coordinate_frame(\n",
    "        size=longest * 0.5,\n",
    "        origin=[0, 0, 0]\n",
    "    )\n",
    "\n",
    "    o3d.visualization.draw_geometries([mesh_frame, *spheres, box, axes],\n",
    "                                      window_name=\"Mesh + AABB\",\n",
    "                                      width=800, height=600)"
   ]
  },
  {
   "cell_type": "code",
   "execution_count": 7,
   "id": "694db38a",
   "metadata": {},
   "outputs": [
    {
     "data": {
      "text/plain": [
       "(TriangleMesh with 4307 points and 8627 triangles., PointCloud with 26 points.)"
      ]
     },
     "execution_count": 7,
     "metadata": {},
     "output_type": "execute_result"
    }
   ],
   "source": [
    "mesh, joints = get_mesh_joint_pair(13, obj_folder, rig_folder)\n",
    "mesh, joints"
   ]
  },
  {
   "cell_type": "code",
   "execution_count": 8,
   "id": "97c15170",
   "metadata": {},
   "outputs": [],
   "source": [
    "process_and_visualize(mesh, joints)"
   ]
  }
 ],
 "metadata": {
  "kernelspec": {
   "display_name": "pytorch-venv-3.11.11",
   "language": "python",
   "name": "python3"
  },
  "language_info": {
   "codemirror_mode": {
    "name": "ipython",
    "version": 3
   },
   "file_extension": ".py",
   "mimetype": "text/x-python",
   "name": "python",
   "nbconvert_exporter": "python",
   "pygments_lexer": "ipython3",
   "version": "3.11.11"
  }
 },
 "nbformat": 4,
 "nbformat_minor": 5
}
