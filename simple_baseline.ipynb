{
 "cells": [
  {
   "cell_type": "markdown",
   "id": "1687bbce",
   "metadata": {},
   "source": [
    "## Simple Baseline\n",
    "\n",
    "Stripped down architecture consisting of a single GMEdgeConv and clustering. Dataset will consist of 5 examples. \n",
    "\n",
    "1. Build a one‑layer GMEdgeConv to be a feature extractor.\n",
    "2. Head: small MLP to predict per‑vertex displacements.\n",
    "3. Cluster displaced vertices via mean‑shift to joint coordinates. \"Naive attention\" (all values are 1)=\n",
    "4. Loss: Chamfer distance between predicted and ground‑truth joints."
   ]
  },
  {
   "cell_type": "code",
   "execution_count": 1,
   "id": "9eeba52e",
   "metadata": {},
   "outputs": [],
   "source": [
    "import open3d as o3d\n",
    "import numpy as np"
   ]
  },
  {
   "cell_type": "code",
   "execution_count": null,
   "id": "5ba15ad7",
   "metadata": {},
   "outputs": [],
   "source": [
    "def points_to_spheres(points, color=[0, 1, 1]):\n",
    "    spheres = []\n",
    "    for (x, y, z) in np.asarray(points):\n",
    "        sphere = o3d.geometry.TriangleMesh.create_sphere(radius=0.01)\n",
    "        sphere.translate((x, y, z))\n",
    "        sphere.paint_uniform_color(color)\n",
    "        spheres.append(sphere)\n",
    "    \n",
    "    return spheres\n",
    "\n",
    "def visualize_mesh_graph(vertices: np.ndarray,\n",
    "                        edge_list: np.ndarray,\n",
    "                        joints_gt: np.ndarray = None, \n",
    "                        joints_pred: np.ndarray = None,\n",
    "                        mesh: o3d.geometry.TriangleMesh = None):\n",
    "\n",
    "    pts = vertices.astype(dtype=np.float64)\n",
    "    lines = edge_list.astype(dtype=np.int32)\n",
    "    \n",
    "    line_set = o3d.geometry.LineSet(\n",
    "        points=o3d.utility.Vector3dVector(pts),\n",
    "        lines=o3d.utility.Vector2iVector(lines)\n",
    "    )\n",
    "\n",
    "    colors = [[1.0, 0.0, 0.0] for _ in lines]\n",
    "    line_set.colors = o3d.utility.Vector3dVector(colors)\n",
    "    \n",
    "    to_draw = []\n",
    "    to_draw.append(line_set)\n",
    "\n",
    "    if joints_gt is not None:\n",
    "        to_draw.extend(points_to_spheres(joints_gt, color=[0, 1, 1]))\n",
    "    \n",
    "    if joints_pred is not None:\n",
    "        to_draw.extend(points_to_spheres(joints_pred, color=[1, 0, 1]))\n",
    "\n",
    "    if mesh is not None:\n",
    "        mesh.compute_vertex_normals()\n",
    "        mesh.paint_uniform_color([0.8, 0.8, 0.8])\n",
    "        to_draw.append(mesh)\n",
    "    \n",
    "    o3d.visualization.draw_geometries(to_draw,\n",
    "                                      mesh_show_back_face=True,\n",
    "                                      window_name=\"Mesh Graph\",\n",
    "                                      width=800, height=600)"
   ]
  },
  {
   "cell_type": "markdown",
   "id": "6bcfb3bd",
   "metadata": {},
   "source": [
    "### Simple Baseline"
   ]
  },
  {
   "cell_type": "code",
   "execution_count": 3,
   "id": "d0c9f596",
   "metadata": {},
   "outputs": [],
   "source": [
    "import torch\n",
    "import torch.nn as nn\n",
    "import torch.nn.functional as F\n",
    "from torch.utils.data import Dataset, DataLoader\n",
    "from torch_scatter import scatter_max\n",
    "\n",
    "import matplotlib.pyplot as plt\n",
    "\n",
    "import random\n",
    "import pickle\n",
    "from tqdm import tqdm\n",
    "\n",
    "from my_rignet_utils import mean_shift_clustering, mode_extraction"
   ]
  },
  {
   "cell_type": "code",
   "execution_count": 4,
   "id": "c52061dd",
   "metadata": {},
   "outputs": [],
   "source": [
    "class RigNetDataset(Dataset):\n",
    "    def __init__(self, file_path, transform=None, seed=42):\n",
    "\n",
    "        with open(file_path, 'rb') as f:\n",
    "            data = pickle.load(f)\n",
    "\n",
    "        random.Random(seed).shuffle(data)\n",
    "        self.examples = data[:5]\n",
    "\n",
    "        self.transform = transform\n",
    "\n",
    "    def __len__(self):\n",
    "        return len(self.examples)\n",
    "\n",
    "    def __getitem__(self, index):\n",
    "        sample = self.examples[index]\n",
    "        if self.transform is not None:\n",
    "            sample = self.transform(sample)\n",
    "        return sample\n"
   ]
  },
  {
   "cell_type": "code",
   "execution_count": 5,
   "id": "d776c4c5",
   "metadata": {},
   "outputs": [
    {
     "data": {
      "text/plain": [
       "dict_keys(['obj_path', 'vertices', 'one_ring', 'centroid', 'geodesic', 'joints'])"
      ]
     },
     "execution_count": 5,
     "metadata": {},
     "output_type": "execute_result"
    }
   ],
   "source": [
    "# Use Val set for training for faster loading, then we'll use test set for testing\n",
    "TRAIN_FILE_PATH = \"data/ModelResource_RigNetv1_preproccessed/mesh_graphs/val.pkl\"\n",
    "VAL_FILE_PATH = \"data/ModelResource_RigNetv1_preproccessed/mesh_graphs/test.pkl\"\n",
    "train_dataset = RigNetDataset(TRAIN_FILE_PATH, seed=0)\n",
    "val_dataset = RigNetDataset(VAL_FILE_PATH, seed=1)\n",
    "train_dataset[0].keys()"
   ]
  },
  {
   "cell_type": "markdown",
   "id": "7238c3b3",
   "metadata": {},
   "source": [
    "### Network Architecture\n",
    "\n",
    "#### GMEdgeConv\n",
    "- Input: vertices of in_dim, one-ring edge list and geodesic edge list\n",
    "\n",
    "Process: MLP(max(MLP(one-ring)) | max(MLP(geodesic)))\n",
    "\n",
    "- output: vertices of out_dim"
   ]
  },
  {
   "cell_type": "code",
   "execution_count": 6,
   "id": "81b97e56",
   "metadata": {},
   "outputs": [],
   "source": [
    "class GMEdgeConv(nn.Module):\n",
    "    def __init__(self, in_channels, out_channels):\n",
    "        \"\"\"\n",
    "        in_channels:  F_in, dimension of input vertex features\n",
    "        out_channels: F_out, dimension of output vertex features\n",
    "        \"\"\"\n",
    "        super().__init__()\n",
    "        hidden = out_channels \n",
    "        # Edge MLPs for topo and geo neighborhoods\n",
    "        self.mlp_topo = nn.Sequential(\n",
    "            nn.Linear(2*in_channels, hidden),\n",
    "            nn.ReLU(),\n",
    "            nn.Linear(hidden, hidden),\n",
    "            nn.ReLU()\n",
    "        )\n",
    "        self.mlp_geo = nn.Sequential(\n",
    "            nn.Linear(2*in_channels, hidden),\n",
    "            nn.ReLU(),\n",
    "            nn.Linear(hidden, hidden),\n",
    "            nn.ReLU()\n",
    "        )\n",
    "        # Fuse MLP to combine topo+geo pooled features\n",
    "        self.mlp_fuse = nn.Sequential(\n",
    "            nn.Linear(2*hidden, out_channels),\n",
    "            nn.ReLU()\n",
    "        )\n",
    "\n",
    "    def forward(self, x, edge_index_topo, edge_index_geo):\n",
    "\n",
    "        N, F_in = x.shape\n",
    "\n",
    "        # --- one-ring ---\n",
    "\n",
    "        # [E_topo] (num one-ring/topological edges)\n",
    "        i_t, j_t = edge_index_topo  \n",
    "\n",
    "        # Index all xi-xj vertex pairs\n",
    "        xi = x[i_t] # [E_topo, F_in]\n",
    "        xj = x[j_t] # [E_topo, F_in]\n",
    "        edge_feat_t = torch.cat([xi, xj - xi], dim=1) # [E_topo, 2*F_in]\n",
    "        # Apply topological convolutional mlp\n",
    "        edge_feat_t = self.mlp_topo(edge_feat_t) # [E_topo, hidden]\n",
    "\n",
    "        # Pool max over neighbors per i_t\n",
    "        # During mesh graph creation, it was guaranteed that each vertex has at least one neighbor (itself)\n",
    "        topo_pooled, _ = scatter_max(edge_feat_t, i_t, dim=0, dim_size=N)\n",
    "\n",
    "        # --- geodesic edges ---\n",
    "        i_g, j_g = edge_index_geo\n",
    "        xi_g = x[i_g]\n",
    "        xj_g = x[j_g]\n",
    "        edge_feat_g = torch.cat([xi_g, xj_g - xi_g], dim=1)  # [E_geo, 2*F_in]\n",
    "        edge_feat_g = self.mlp_geo(edge_feat_g) # [E_geo, hidden]\n",
    "\n",
    "        geo_pooled, _ = scatter_max(edge_feat_g, i_g, dim=0, dim_size=N)\n",
    "        # geo_pooled: [N, hidden]\n",
    "\n",
    "        # --- fuse ---\n",
    "        combined = torch.cat([topo_pooled, geo_pooled], dim=1)  # [N, 2*hidden]\n",
    "        x_out = self.mlp_fuse(combined) # [N, out_channels]\n",
    "\n",
    "        return x_out\n"
   ]
  },
  {
   "cell_type": "code",
   "execution_count": 7,
   "id": "85c59bfa",
   "metadata": {},
   "outputs": [],
   "source": [
    "class SimpleJointNet(nn.Module):\n",
    "    def __init__(self):\n",
    "        super().__init__()\n",
    "        self.conv = GMEdgeConv(in_channels=3, out_channels=64)\n",
    "        self.disp_head = nn.Sequential(\n",
    "            nn.Linear(64, 32),\n",
    "            nn.ReLU(),\n",
    "            nn.Linear(32, 3)\n",
    "        )\n",
    "    def forward(self, x, edges_topo, edges_geo):\n",
    "        # x: [N,3]\n",
    "        N, D = x.shape\n",
    "        feat = self.conv(x, edges_topo, edges_geo) # [N,64]\n",
    "        disp = self.disp_head(feat) # [N,3]\n",
    "        q = x + disp # displaced points [N,3]\n",
    "\n",
    "        # cluster\n",
    "        attention = torch.ones(N)\n",
    "        # h=0.057 learned in paper\n",
    "        T_pred = mean_shift_clustering(q, attention, h=0.057)\n",
    "        T_pred = mode_extraction(T_pred, attention, h=0.057)\n",
    "        return T_pred"
   ]
  },
  {
   "cell_type": "code",
   "execution_count": 8,
   "id": "c396ce35",
   "metadata": {},
   "outputs": [],
   "source": [
    "def chamfer_loss(T_pred, T_gt):\n",
    "    # T_pred: [K,3], T_gt: [M,3]\n",
    "    # compute pairwise distances [K, M]\n",
    "    # Distance between two arbitrary point clouds\n",
    "    d2 = torch.cdist(T_pred, T_gt, p=2)  \n",
    "    loss = d2.min(dim=1)[0].mean() + d2.min(dim=0)[0].mean()\n",
    "    return loss"
   ]
  },
  {
   "cell_type": "markdown",
   "id": "0285d358",
   "metadata": {},
   "source": [
    "### Train"
   ]
  },
  {
   "cell_type": "code",
   "execution_count": 43,
   "id": "4b47560c",
   "metadata": {},
   "outputs": [],
   "source": [
    "model = SimpleJointNet()"
   ]
  },
  {
   "cell_type": "code",
   "execution_count": 44,
   "id": "082f91cf",
   "metadata": {},
   "outputs": [
    {
     "data": {
      "text/plain": [
       "(torch.Size([761, 3]), torch.Size([4977, 2]))"
      ]
     },
     "execution_count": 44,
     "metadata": {},
     "output_type": "execute_result"
    }
   ],
   "source": [
    "G = train_dataset[0]\n",
    "verts = torch.FloatTensor(G['vertices'])\n",
    "one_ring = torch.LongTensor(G['one_ring'])\n",
    "geodesic = torch.LongTensor(G['geodesic'])\n",
    "joints_gt = torch.FloatTensor(G[\"joints\"])\n",
    "\n",
    "verts.shape, one_ring.shape"
   ]
  },
  {
   "cell_type": "code",
   "execution_count": 45,
   "id": "2e44e61f",
   "metadata": {},
   "outputs": [
    {
     "name": "stderr",
     "output_type": "stream",
     "text": [
      "100%|██████████| 100/100 [01:07<00:00,  1.49it/s]\n"
     ]
    },
    {
     "data": {
      "text/plain": [
       "[<matplotlib.lines.Line2D at 0x36f9d5e50>]"
      ]
     },
     "execution_count": 45,
     "metadata": {},
     "output_type": "execute_result"
    },
    {
     "data": {
      "image/png": "[encoded data removed]",
      "text/plain": [
       "<Figure size 640x480 with 1 Axes>"
      ]
     },
     "metadata": {},
     "output_type": "display_data"
    }
   ],
   "source": [
    "epochs = 100\n",
    "lr = 0.001\n",
    "optimizer = torch.optim.Adam(model.parameters(), lr=lr)\n",
    "\n",
    "losses = []\n",
    "for _ in tqdm(range(epochs)):\n",
    "\n",
    "    loss_sum = 0\n",
    "    iters = 0\n",
    "    for i in range(len(train_dataset)):\n",
    "        G = train_dataset[i]\n",
    "\n",
    "        verts = torch.FloatTensor(G['vertices'])\n",
    "        one_ring = torch.LongTensor(G['one_ring']).view(2, -1)\n",
    "        geodesic = torch.LongTensor(G['geodesic']).view(2, -1)\n",
    "        joints_gt = torch.FloatTensor(G[\"joints\"])\n",
    "\n",
    "        joints_pred = model.forward(verts, one_ring, geodesic)\n",
    "        loss = chamfer_loss(joints_pred, joints_gt)\n",
    "        loss_sum += loss.item()\n",
    "\n",
    "        loss.backward()\n",
    "        optimizer.step()\n",
    "        optimizer.zero_grad()\n",
    "\n",
    "        iters += 1\n",
    "    \n",
    "    avg_loss = loss_sum / iters\n",
    "    losses.append(avg_loss)\n",
    "\n",
    "plt.figure()\n",
    "plt.title(\"loss over epochs\")\n",
    "plt.xlabel(\"epochs\")\n",
    "plt.ylabel(\"loss\")\n",
    "plt.plot(losses)"
   ]
  },
  {
   "cell_type": "markdown",
   "id": "28de1ce6",
   "metadata": {},
   "source": [
    "### Testing"
   ]
  },
  {
   "cell_type": "code",
   "execution_count": 50,
   "id": "3c15196d",
   "metadata": {},
   "outputs": [],
   "source": [
    "def validate_model(model: SimpleJointNet):\n",
    "    loss_sum = 0\n",
    "    iters = 0\n",
    "    for i in range(len(val_dataset)):\n",
    "        G = val_dataset[i]\n",
    "\n",
    "        verts = torch.FloatTensor(G['vertices'])\n",
    "        one_ring = torch.LongTensor(G['one_ring']).view(2, -1)\n",
    "        geodesic = torch.LongTensor(G['geodesic']).view(2, -1)\n",
    "        joints_gt = torch.FloatTensor(G[\"joints\"])\n",
    "\n",
    "        joints_pred = model.forward(verts, one_ring, geodesic)\n",
    "        loss = chamfer_loss(joints_pred, joints_gt)\n",
    "        loss_sum += loss.item()\n",
    "\n",
    "        loss.backward()\n",
    "        optimizer.step()\n",
    "        optimizer.zero_grad()\n",
    "\n",
    "        iters += 1\n",
    "\n",
    "    print(\"val loss\")\n",
    "    print(loss_sum / iters)"
   ]
  },
  {
   "cell_type": "code",
   "execution_count": 52,
   "id": "538d8d0f",
   "metadata": {},
   "outputs": [
    {
     "name": "stdout",
     "output_type": "stream",
     "text": [
      "trained model\n",
      "val loss\n",
      "0.17849247455596923\n",
      "---\n",
      "untrained model\n",
      "val loss\n",
      "0.33026050329208373\n"
     ]
    }
   ],
   "source": [
    "untrained_model = SimpleJointNet()\n",
    "print('trained model')\n",
    "validate_model(model)\n",
    "print('---\\nuntrained model')\n",
    "validate_model(untrained_model)"
   ]
  },
  {
   "cell_type": "code",
   "execution_count": 53,
   "id": "e30a2ed6",
   "metadata": {},
   "outputs": [],
   "source": [
    "G = train_dataset[0]\n",
    "verts = torch.FloatTensor(G['vertices'])\n",
    "one_ring = torch.LongTensor(G['one_ring'])\n",
    "geodesic = torch.LongTensor(G['geodesic'])\n",
    "joints_gt = torch.FloatTensor(G[\"joints\"])"
   ]
  },
  {
   "cell_type": "code",
   "execution_count": 54,
   "id": "e32045d8",
   "metadata": {},
   "outputs": [
    {
     "name": "stdout",
     "output_type": "stream",
     "text": [
      "38 16\n"
     ]
    }
   ],
   "source": [
    "joints_pred = model(verts, one_ring.view(2, -1), geodesic.view(2, -1))\n",
    "\n",
    "print(len(joints_pred), len(joints_gt))\n",
    "\n",
    "visualize_mesh_graph(verts.detach().numpy(), \n",
    "                     one_ring.detach().numpy(), \n",
    "                     joints_gt.detach().numpy(), \n",
    "                     joints_pred.detach().numpy())\n"
   ]
  },
  {
   "cell_type": "markdown",
   "id": "3b2a564f",
   "metadata": {},
   "source": [
    "### Val dataset "
   ]
  },
  {
   "cell_type": "code",
   "execution_count": 55,
   "id": "7685d8ba",
   "metadata": {},
   "outputs": [],
   "source": [
    "G = val_dataset[0]\n",
    "verts = torch.FloatTensor(G['vertices'])\n",
    "one_ring = torch.LongTensor(G['one_ring'])\n",
    "geodesic = torch.LongTensor(G['geodesic'])\n",
    "joints_gt = torch.FloatTensor(G[\"joints\"])"
   ]
  },
  {
   "cell_type": "code",
   "execution_count": 56,
   "id": "47235645",
   "metadata": {},
   "outputs": [],
   "source": [
    "joints_pred = model(verts, one_ring.view(2, -1), geodesic.view(2, -1))\n",
    "\n",
    "visualize_mesh_graph(verts.detach().numpy(), \n",
    "                     one_ring.detach().numpy(), \n",
    "                     joints_gt.detach().numpy(), \n",
    "                     joints_pred.detach().numpy())"
   ]
  },
  {
   "cell_type": "code",
   "execution_count": 57,
   "id": "3b02f394",
   "metadata": {},
   "outputs": [],
   "source": [
    "joints_pred = untrained_model(verts, one_ring.view(2, -1), geodesic.view(2, -1))\n",
    "\n",
    "visualize_mesh_graph(verts.detach().numpy(), \n",
    "                     one_ring.detach().numpy(), \n",
    "                     joints_gt.detach().numpy(), \n",
    "                     joints_pred.detach().numpy())"
   ]
  }
 ],
 "metadata": {
  "kernelspec": {
   "display_name": "pytorch-venv-3.11.11",
   "language": "python",
   "name": "python3"
  },
  "language_info": {
   "codemirror_mode": {
    "name": "ipython",
    "version": 3
   },
   "file_extension": ".py",
   "mimetype": "text/x-python",
   "name": "python",
   "nbconvert_exporter": "python",
   "pygments_lexer": "ipython3",
   "version": "3.11.11"
  }
 },
 "nbformat": 4,
 "nbformat_minor": 5
}
