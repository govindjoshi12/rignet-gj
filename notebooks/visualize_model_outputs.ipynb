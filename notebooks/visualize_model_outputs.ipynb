{
 "cells": [
  {
   "cell_type": "code",
   "execution_count": 1,
   "id": "b9101df5",
   "metadata": {},
   "outputs": [],
   "source": [
    "import sys\n",
    "# caution: path[0] is reserved for script path (or '' in REPL)\n",
    "sys.path.insert(1, '../utils')\n",
    "\n",
    "import torch\n",
    "import torch.nn as nn\n",
    "import torch.nn.functional as F\n",
    "from torch.utils.data import Dataset, DataLoader\n",
    "\n",
    "from dataset import RigNetDataset, collate_fn, FILE_PATHS, POS_ATTN_AVG\n",
    "from models import JointNet, JointDisplacementModule, VertexAttentionModule, GMEdgeConv, GMEdgeNet\n",
    "from visualization_utils import visualize_mesh_graph, visualize_attention_heatmap\n",
    "from training_utils import chamfer_loss, save_model, dict_to_device\n",
    "\n",
    "import matplotlib.pyplot as plt\n",
    "import numpy as np\n",
    "from tqdm import tqdm\n",
    "from sklearn.metrics import accuracy_score, confusion_matrix, precision_recall_fscore_support, precision_recall_curve"
   ]
  },
  {
   "cell_type": "code",
   "execution_count": 2,
   "id": "ed6c7969",
   "metadata": {},
   "outputs": [
    {
     "data": {
      "text/plain": [
       "device(type='cpu')"
      ]
     },
     "execution_count": 2,
     "metadata": {},
     "output_type": "execute_result"
    }
   ],
   "source": [
    "device = torch.device(\"cuda\" if torch.cuda.is_available() else \"cpu\")\n",
    "device"
   ]
  },
  {
   "cell_type": "markdown",
   "id": "70101312",
   "metadata": {},
   "source": [
    "### Test Dataset"
   ]
  },
  {
   "cell_type": "code",
   "execution_count": 3,
   "id": "5a722c10",
   "metadata": {},
   "outputs": [],
   "source": [
    "dataset = RigNetDataset(\n",
    "    FILE_PATHS['val'],\n",
    "    num_samples=16,\n",
    "    seed=42\n",
    ")\n",
    "\n",
    "dl = DataLoader(\n",
    "    dataset=dataset,\n",
    "    batch_size=1,\n",
    "    shuffle=False,\n",
    "    collate_fn=collate_fn\n",
    ")"
   ]
  },
  {
   "cell_type": "code",
   "execution_count": 4,
   "id": "7c2c79ae",
   "metadata": {},
   "outputs": [],
   "source": [
    "def index_iterator(iterator, index):\n",
    "    for i, item in enumerate(iterator):\n",
    "        if i == index:\n",
    "            break\n",
    "    return item"
   ]
  },
  {
   "cell_type": "markdown",
   "id": "cc1f34c1",
   "metadata": {},
   "source": [
    "### Vertex Attention Module"
   ]
  },
  {
   "cell_type": "code",
   "execution_count": 5,
   "id": "6218b400",
   "metadata": {},
   "outputs": [
    {
     "data": {
      "text/plain": [
       "<All keys matched successfully>"
      ]
     },
     "execution_count": 5,
     "metadata": {},
     "output_type": "execute_result"
    }
   ],
   "source": [
    "model_path = 'models/attn_module_20250702-030900.pt'\n",
    "attn_module = VertexAttentionModule()\n",
    "attn_module.load_state_dict(torch.load(model_path, map_location=device))"
   ]
  },
  {
   "cell_type": "code",
   "execution_count": 6,
   "id": "bf02ecbc",
   "metadata": {},
   "outputs": [],
   "source": [
    "mesh_idx = 1\n",
    "\n",
    "batch = index_iterator(dl, mesh_idx)\n",
    "\n",
    "attn_module.to(device)\n",
    "batch = dict_to_device(batch, device)\n",
    "\n",
    "# predict\n",
    "attn_pred_probs = F.sigmoid(attn_module(\n",
    "    batch['vertices'],\n",
    "    batch['one_ring'],\n",
    "    batch['geodesic']\n",
    ").squeeze())\n",
    "\n",
    "visualize_attention_heatmap(\n",
    "    verts=batch['vertices'].detach().numpy(),\n",
    "    edges=batch['one_ring'].T.detach().numpy(),\n",
    "    attn_pred=attn_pred_probs.detach().numpy(),\n",
    "    joints_gt=batch['joints_list'][0],\n",
    ")\n"
   ]
  },
  {
   "cell_type": "markdown",
   "id": "fb926cdc",
   "metadata": {},
   "source": [
    "### Vertex Displacement"
   ]
  },
  {
   "cell_type": "code",
   "execution_count": 5,
   "id": "4edf3fb1",
   "metadata": {},
   "outputs": [
    {
     "data": {
      "text/plain": [
       "<All keys matched successfully>"
      ]
     },
     "execution_count": 5,
     "metadata": {},
     "output_type": "execute_result"
    }
   ],
   "source": [
    "model_path = 'models/disp_module_20250702-031409.pt'\n",
    "disp_module = JointDisplacementModule()\n",
    "disp_module.load_state_dict(torch.load(model_path, map_location=device))"
   ]
  },
  {
   "cell_type": "code",
   "execution_count": 7,
   "id": "ab7635b7",
   "metadata": {},
   "outputs": [],
   "source": [
    "mesh_idx = 7\n",
    "\n",
    "batch = index_iterator(dl, mesh_idx)\n",
    "\n",
    "disp_module.to(device)\n",
    "batch = dict_to_device(batch, device)\n",
    "\n",
    "# predict\n",
    "disp = disp_module(\n",
    "    batch['vertices'],\n",
    "    batch['one_ring'],\n",
    "    batch['geodesic']\n",
    ").squeeze()\n",
    "q = batch['vertices'] + disp\n",
    "\n",
    "visualize_mesh_graph(\n",
    "    vertices=batch['vertices'].detach().numpy(),\n",
    "    edge_list=batch['one_ring'].T.detach().numpy(),\n",
    "    joints_gt=batch['joints_list'][0],\n",
    "    displaced_verts=q.detach().numpy()\n",
    ")\n"
   ]
  },
  {
   "cell_type": "code",
   "execution_count": null,
   "id": "99b6ca84",
   "metadata": {},
   "outputs": [],
   "source": []
  }
 ],
 "metadata": {
  "kernelspec": {
   "display_name": "pytorch-venv-3.11.11",
   "language": "python",
   "name": "python3"
  },
  "language_info": {
   "codemirror_mode": {
    "name": "ipython",
    "version": 3
   },
   "file_extension": ".py",
   "mimetype": "text/x-python",
   "name": "python",
   "nbconvert_exporter": "python",
   "pygments_lexer": "ipython3",
   "version": "3.11.11"
  }
 },
 "nbformat": 4,
 "nbformat_minor": 5
}
