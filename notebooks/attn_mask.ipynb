{
 "cells": [
  {
   "cell_type": "markdown",
   "id": "e8b945e5",
   "metadata": {},
   "source": [
    "### Constructing Per-Pixel Binary Attention Masks from Joint and Bone Information\n",
    "\n",
    "The RigNet paper finds that pre-training the attention modules weights with a cross-entropy loss function with a per-vertex attention mask can improve performance. In this notebook, we explore how to construct these masks.\n",
    "\n",
    "The main idea is that vertices orthogonal to bones at joint locations should have higher attention values as compared to other verticies. \n",
    "\n",
    "The paper doesn't explicitly say how it constructs these masks. I have two main ideas.\n",
    "\n",
    "**Ideas**\n",
    "- For each joint, pick one connected bone and find the orthogonal plane.\n",
    "    - Idea 1: Pick all mesh vertices within some radius r that lie on this plane\n",
    "    - Idea 2: Find the vertex p_min closest to joint j that lies on the plane (d = || j - p_min ||). Pick all mesh vertices \n",
    "    that lie at a distance of d + eps fom the joint, where eps is some \"slack\" threshold. \n",
    "\n",
    "The main issue is that this introduces yet another hyperparameter that may need to be tuned. \n",
    "\n",
    "**RigNet Implementation: Ray-casting**\n",
    "\n",
    "Found their actual impl. \n",
    "- Cast K rays from the joint in the direction of the plane orthogonal to the bone centered at the joint (K=14)\n",
    "- Perform triangle-ray intersection and gather vertices closest to intersection points.\n",
    "    - If <6 vertices found, just to kNN centered at the joint with k=6\n",
    "    - If triangle-ray intersection fails, do a \"nearby triangle\" search \n",
    "        - We need this because there ARE rare instances where we rays won't intersect with triangles. This ensures that there at least some training signal retained for each joint\n",
    "- Find the 20th percentile distance of vertices. Multiply this distance by 2. This distance is threshold for retaining points.\n",
    "\n",
    "Notes: \n",
    "- RigNet decimates meshes to 3k verts before doing this. Why? If computation time is available, what's the need for this? The max number of verts in the dataset is already only 5k. "
   ]
  },
  {
   "cell_type": "code",
   "execution_count": 1,
   "id": "1caa92fa",
   "metadata": {},
   "outputs": [],
   "source": [
    "import os\n",
    "import glob\n",
    "import numpy as np\n",
    "from collections import defaultdict\n",
    "from tqdm import tqdm\n",
    "import open3d as o3d\n",
    "import trimesh"
   ]
  },
  {
   "cell_type": "code",
   "execution_count": 2,
   "id": "bc13df03",
   "metadata": {},
   "outputs": [],
   "source": [
    "data_root = \"../data/ModelResource_RigNetv1_preproccessed\"\n",
    "obj_folder = f'{data_root}/obj'\n",
    "rig_folder = f'{data_root}/rig_info'"
   ]
  },
  {
   "cell_type": "code",
   "execution_count": 3,
   "id": "677685a4",
   "metadata": {},
   "outputs": [
    {
     "data": {
      "text/plain": [
       "2703"
      ]
     },
     "execution_count": 3,
     "metadata": {},
     "output_type": "execute_result"
    }
   ],
   "source": [
    "obj_files = glob.glob(os.path.join(obj_folder, \"*.obj\"))\n",
    "len(obj_files)"
   ]
  },
  {
   "cell_type": "code",
   "execution_count": 4,
   "id": "3e1a434f",
   "metadata": {},
   "outputs": [],
   "source": [
    "def get_obj_path_from_idx(idx: int):\n",
    "    return os.path.join(obj_folder, f\"{idx}.obj\")\n",
    "\n",
    "def get_rig_path_from_idx(idx: int):\n",
    "    return os.path.join(rig_folder, f\"{idx}.txt\")"
   ]
  },
  {
   "cell_type": "code",
   "execution_count": 5,
   "id": "a93a0adb",
   "metadata": {},
   "outputs": [
    {
     "data": {
      "text/plain": [
       "('../data/ModelResource_RigNetv1_preproccessed/obj/13.obj',\n",
       " '../data/ModelResource_RigNetv1_preproccessed/rig_info/13.txt')"
      ]
     },
     "execution_count": 5,
     "metadata": {},
     "output_type": "execute_result"
    }
   ],
   "source": [
    "mesh_idx = 13\n",
    "obj_path = get_obj_path_from_idx(mesh_idx)\n",
    "rig_path = get_rig_path_from_idx(mesh_idx)\n",
    "obj_path, rig_path"
   ]
  },
  {
   "cell_type": "markdown",
   "id": "a5649968",
   "metadata": {},
   "source": [
    "### Visualization Code from `visualization.ipynb`"
   ]
  },
  {
   "cell_type": "code",
   "execution_count": 30,
   "id": "4eb46514",
   "metadata": {},
   "outputs": [],
   "source": [
    "def get_mesh_joint_pair(obj_index, obj_folder, rig_folder):\n",
    "    \n",
    "    obj_path = f'{obj_folder}/{obj_index}.obj'\n",
    "    rig_path = f'{rig_folder}/{obj_index}.txt'\n",
    "\n",
    "    # Load and pre-process mesh\n",
    "    mesh = o3d.io.read_triangle_mesh(obj_path, enable_post_processing=True)\n",
    "\n",
    "    verts = np.asarray(mesh.vertices)\n",
    "    centroid = verts.mean(axis=0)\n",
    "    mesh.translate(-centroid)\n",
    "\n",
    "    # extraxt join locations\n",
    "    # disregard bone info. Only want joint locations\n",
    "    joints = []\n",
    "    with open(rig_path, \"r\") as f:\n",
    "        tokens = f.readline().split()\n",
    "        while(tokens[0] == \"joints\"):\n",
    "            joints.append(list(map(float, tokens[2:])))\n",
    "            tokens = f.readline().split()\n",
    "\n",
    "    # Return joints as point cloud\n",
    "    pcd = o3d.geometry.PointCloud()\n",
    "    pcd.points = o3d.utility.Vector3dVector(np.asarray(joints))\n",
    "    pcd.translate(-centroid)\n",
    "\n",
    "    return mesh, pcd"
   ]
  },
  {
   "cell_type": "code",
   "execution_count": 31,
   "id": "7bd68134",
   "metadata": {},
   "outputs": [],
   "source": [
    "def process_and_visualize(mesh: o3d.geometry.TriangleMesh, joints: o3d.geometry.PointCloud):\n",
    "\n",
    "    # Get verices and centroid\n",
    "    verts = np.asarray(mesh.vertices)\n",
    "    centroid = verts.mean(axis=0)   \n",
    "\n",
    "    # Mesh frame\n",
    "    mesh_frame = o3d.geometry.LineSet.create_from_triangle_mesh(mesh)\n",
    "\n",
    "    # Draw joints\n",
    "    spheres = []\n",
    "    for (x, y, z) in np.asarray(joints.points):\n",
    "        sphere = o3d.geometry.TriangleMesh.create_sphere(radius=0.01)\n",
    "        sphere.translate((x, y, z))\n",
    "        sphere.paint_uniform_color([0, 1, 1])\n",
    "        spheres.append(sphere)\n",
    "\n",
    "    # Compute AABB and its longest side\n",
    "    aabb = mesh.get_axis_aligned_bounding_box()\n",
    "    min_bound = aabb.min_bound  # [x_min, y_min, z_min]\n",
    "    max_bound = aabb.max_bound  # [x_max, y_max, z_max]\n",
    "    lengths = max_bound - min_bound  # [Lx, Ly, Lz]\n",
    "    longest = lengths.max()\n",
    "\n",
    "    # Create a box for visualization\n",
    "    box = o3d.geometry.LineSet.create_from_axis_aligned_bounding_box(aabb)\n",
    "    box.translate(-centroid) \n",
    "    box.colors = o3d.utility.Vector3dVector([[1, 0, 0] for _ in box.lines]) \n",
    "\n",
    "    # Axes\n",
    "    axes = o3d.geometry.TriangleMesh.create_coordinate_frame(\n",
    "        size=longest * 0.5,\n",
    "        origin=[0, 0, 0]\n",
    "    )\n",
    "\n",
    "    o3d.visualization.draw_geometries([mesh_frame, *spheres, box, axes],\n",
    "                                      window_name=\"Mesh + AABB\",\n",
    "                                      width=800, height=600)"
   ]
  },
  {
   "cell_type": "markdown",
   "id": "079befd6",
   "metadata": {},
   "source": [
    "### Visualization"
   ]
  },
  {
   "cell_type": "code",
   "execution_count": 33,
   "id": "83b1f511",
   "metadata": {},
   "outputs": [
    {
     "name": "stderr",
     "output_type": "stream",
     "text": [
      "2025-04-24 06:16:15.299 python3[42968:1348644] +[IMKClient subclass]: chose IMKClient_Modern\n",
      "2025-04-24 06:16:15.299 python3[42968:1348644] +[IMKInputSession subclass]: chose IMKInputSession_Modern\n"
     ]
    }
   ],
   "source": [
    "mesh, pcd = get_mesh_joint_pair(mesh_idx, obj_folder, rig_folder)\n",
    "process_and_visualize(mesh, pcd)"
   ]
  },
  {
   "cell_type": "markdown",
   "id": "e897f6d4",
   "metadata": {},
   "source": [
    "### Ray Casting"
   ]
  },
  {
   "cell_type": "code",
   "execution_count": 37,
   "id": "0998f9f1",
   "metadata": {},
   "outputs": [
    {
     "data": {
      "text/plain": [
       "<trimesh.Trimesh(vertices.shape=(4307, 3), faces.shape=(8627, 3))>"
      ]
     },
     "execution_count": 37,
     "metadata": {},
     "output_type": "execute_result"
    }
   ],
   "source": [
    "mesh = trimesh.load_mesh(obj_path)\n",
    "mesh"
   ]
  },
  {
   "cell_type": "code",
   "execution_count": 38,
   "id": "f8d88eed",
   "metadata": {},
   "outputs": [
    {
     "data": {
      "text/plain": [
       "array([1.30718479e-17, 1.82078577e-15, 4.37174042e-17])"
      ]
     },
     "execution_count": 38,
     "metadata": {},
     "output_type": "execute_result"
    }
   ],
   "source": [
    "# center mesh\n",
    "mesh.apply_translation(-mesh.centroid)\n",
    "mesh.centroid"
   ]
  },
  {
   "cell_type": "code",
   "execution_count": 39,
   "id": "5aaf8204",
   "metadata": {},
   "outputs": [],
   "source": [
    "def parse_rig(rig_path: str, centroid):\n",
    "    # extraxt join locations\n",
    "    # disregard bone info. Only want joint locations\n",
    "\n",
    "    # file structure:\n",
    "    # joint name x y z\n",
    "    # root name\n",
    "    # skin name1 weight1 name2 weight2 ...\n",
    "    # hier name1 name2\n",
    "\n",
    "    # Will assume this rigid order\n",
    "\n",
    "    jointname2idx = {}\n",
    "    joints = []\n",
    "    bones = []\n",
    "    root_idx = \"\"\n",
    "    with open(rig_path, \"r\") as f:\n",
    "        tokens = f.readline().split()\n",
    "        while(tokens[0] == \"joints\"):\n",
    "            name = tokens[1]\n",
    "            loc = list(map(float, tokens[2:]))\n",
    "\n",
    "            # name to index mapping\n",
    "            next_idx = len(joints)\n",
    "            jointname2idx[name] = next_idx\n",
    "\n",
    "            joints.append(loc)\n",
    "\n",
    "            tokens = f.readline().split()\n",
    "        \n",
    "        # root\n",
    "        root_idx = jointname2idx[tokens[1]]\n",
    "\n",
    "        # Skip skin info\n",
    "        while tokens[0] != \"hier\":\n",
    "            tokens = f.readline().split()\n",
    "        \n",
    "        # Hier info\n",
    "        while tokens:\n",
    "            b1 = jointname2idx[tokens[1]]\n",
    "            b2 = jointname2idx[tokens[2]]\n",
    "            bones.append([b1, b2])\n",
    "            tokens = f.readline().split()\n",
    "\n",
    "    joints = np.array(joints) - centroid\n",
    "    \n",
    "    return joints, bones, root_idx"
   ]
  },
  {
   "cell_type": "code",
   "execution_count": 40,
   "id": "48d7404a",
   "metadata": {},
   "outputs": [
    {
     "data": {
      "text/plain": [
       "(26,\n",
       " [[0, 1],\n",
       "  [0, 2],\n",
       "  [0, 3],\n",
       "  [1, 4],\n",
       "  [2, 5],\n",
       "  [3, 6],\n",
       "  [4, 7],\n",
       "  [5, 8],\n",
       "  [6, 9],\n",
       "  [6, 10],\n",
       "  [6, 11],\n",
       "  [7, 12],\n",
       "  [8, 13],\n",
       "  [9, 14],\n",
       "  [10, 15],\n",
       "  [11, 16],\n",
       "  [14, 17],\n",
       "  [15, 18],\n",
       "  [16, 19],\n",
       "  [18, 20],\n",
       "  [19, 21],\n",
       "  [20, 22],\n",
       "  [20, 23],\n",
       "  [21, 24],\n",
       "  [21, 25]],\n",
       " 0)"
      ]
     },
     "execution_count": 40,
     "metadata": {},
     "output_type": "execute_result"
    }
   ],
   "source": [
    "joints, bones, root_idx = parse_rig(rig_path, mesh.centroid)\n",
    "len(joints), bones, root_idx"
   ]
  },
  {
   "cell_type": "markdown",
   "id": "5a076a43",
   "metadata": {},
   "source": [
    "### Form Rays"
   ]
  },
  {
   "cell_type": "code",
   "execution_count": 41,
   "id": "9342bd69",
   "metadata": {},
   "outputs": [],
   "source": [
    "# Method for finding orthonormal plane to v\n",
    "\n",
    "def pick_arbitrary(v):\n",
    "    # pick axis least aligned with v\n",
    "    abs_v = np.abs(v)\n",
    "\n",
    "    # If the x-component is the smallest, pick the x-axis\n",
    "    if abs_v[0] <= abs_v[1] and abs_v[0] <= abs_v[2]:\n",
    "        return np.array([1.0, 0.0, 0.0])\n",
    "    # x-component is not the smallest. Check if y is smaller than z. \n",
    "    elif abs_v[1] <= abs_v[2]:\n",
    "        return np.array([0.0, 1.0, 0.0])\n",
    "    # z-component is the smallest.\n",
    "    else:\n",
    "        return np.array([0.0, 0.0, 1.0])\n",
    "\n",
    "def get_orthonormal_plane(v):\n",
    "    # assume v is already unit length\n",
    "    a = pick_arbitrary(v)\n",
    "    # project a on-to v, then remove component along v\n",
    "    u0 = a - np.dot(a, v) * v\n",
    "    # normalize\n",
    "    u0 /= np.linalg.norm(u0)\n",
    "    # second orthonormal vector\n",
    "    w = np.cross(v, u0)\n",
    "    w /= np.linalg.norm(w)\n",
    "    return u0, w"
   ]
  },
  {
   "cell_type": "code",
   "execution_count": 42,
   "id": "7bf2cf34",
   "metadata": {},
   "outputs": [
    {
     "data": {
      "text/plain": [
       "(array([-1.30718479e-17,  4.61480000e-01,  1.29070000e-02]),\n",
       " array([0.0453662, 0.4405827, 0.0022953]))"
      ]
     },
     "execution_count": 42,
     "metadata": {},
     "output_type": "execute_result"
    }
   ],
   "source": [
    "p, c = 0, 1\n",
    "\n",
    "p_pos = np.array(joints[p])\n",
    "c_pos = np.array(joints[c])\n",
    "p_pos, c_pos"
   ]
  },
  {
   "cell_type": "code",
   "execution_count": 43,
   "id": "c536996e",
   "metadata": {},
   "outputs": [
    {
     "data": {
      "text/plain": [
       "array([ 0.8884414 , -0.40924799, -0.20781713])"
      ]
     },
     "execution_count": 43,
     "metadata": {},
     "output_type": "execute_result"
    }
   ],
   "source": [
    "# bone direction\n",
    "v = c_pos - p_pos\n",
    "v = v / (np.linalg.norm(v) + 1e-10)\n",
    "v"
   ]
  },
  {
   "cell_type": "code",
   "execution_count": 44,
   "id": "1ac88f2d",
   "metadata": {},
   "outputs": [
    {
     "data": {
      "text/plain": [
       "(array([ 0.18875428, -0.086947  ,  0.9781677 ]),\n",
       " array([-0.41838224, -0.90827105,  0.        ]))"
      ]
     },
     "execution_count": 44,
     "metadata": {},
     "output_type": "execute_result"
    }
   ],
   "source": [
    "# orthonormal plane basis\n",
    "u0, w = get_orthonormal_plane(v)\n",
    "u0, w"
   ]
  },
  {
   "cell_type": "code",
   "execution_count": 45,
   "id": "a139ce27",
   "metadata": {},
   "outputs": [
    {
     "data": {
      "text/plain": [
       "((3, 3),\n",
       " array([[ 0.18875428, -0.086947  ,  0.9781677 ],\n",
       "        [-0.45670679, -0.7431123 , -0.48908385],\n",
       "        [ 0.26795251,  0.8300593 , -0.48908385]]))"
      ]
     },
     "execution_count": 45,
     "metadata": {},
     "output_type": "execute_result"
    }
   ],
   "source": [
    "K = 3\n",
    "\n",
    "# sample K angles around the circle\n",
    "# np.linspace lets you specify the number of points you want in an interval\n",
    "# np.arange lets you specify the step size when you don't know your sample size\n",
    "thetas = np.linspace(0, 2*np.pi, K, endpoint=False)\n",
    "\n",
    "# [K, 3]\n",
    "circle_points = [np.cos(t) * u0 + np.sin(t) * w for t in thetas]\n",
    "dirs_k = np.stack(circle_points, axis=0)\n",
    "\n",
    "# Normalize each ray\n",
    "dirs_k /= (np.linalg.norm(dirs_k, axis=1, keepdims=True) + 1e-10)\n",
    "\n",
    "dirs_k.shape, dirs_k"
   ]
  },
  {
   "cell_type": "code",
   "execution_count": 46,
   "id": "fc90fd3b",
   "metadata": {},
   "outputs": [
    {
     "data": {
      "text/plain": [
       "((2, 3),\n",
       " array([[-1.30718479e-17,  4.61480000e-01,  1.29070000e-02],\n",
       "        [ 4.53662000e-02,  4.40582700e-01,  2.29530000e-03]]))"
      ]
     },
     "execution_count": 46,
     "metadata": {},
     "output_type": "execute_result"
    }
   ],
   "source": [
    "# We are shooting rays from both ends of the bone at once. \n",
    "# create 2 origins (parent & child), each repeated K times\n",
    "bone_origins = np.vstack([p_pos, c_pos]) # shape [2,3]\n",
    "bone_origins.shape, bone_origins"
   ]
  },
  {
   "cell_type": "code",
   "execution_count": 47,
   "id": "fc2b23f9",
   "metadata": {},
   "outputs": [
    {
     "data": {
      "text/plain": [
       "((6, 3),\n",
       " array([[-1.30718479e-17,  4.61480000e-01,  1.29070000e-02],\n",
       "        [-1.30718479e-17,  4.61480000e-01,  1.29070000e-02],\n",
       "        [-1.30718479e-17,  4.61480000e-01,  1.29070000e-02],\n",
       "        [ 4.53662000e-02,  4.40582700e-01,  2.29530000e-03],\n",
       "        [ 4.53662000e-02,  4.40582700e-01,  2.29530000e-03],\n",
       "        [ 4.53662000e-02,  4.40582700e-01,  2.29530000e-03]]))"
      ]
     },
     "execution_count": 47,
     "metadata": {},
     "output_type": "execute_result"
    }
   ],
   "source": [
    "# np.repeat repeats entries along an existing dimension\n",
    "# For each item in bone_origins, it will repeat it K times before moving on to the next one\n",
    "origin_2K = np.repeat(bone_origins, K, axis=0) # [2*K,3]\n",
    "origin_2K.shape, origin_2K"
   ]
  },
  {
   "cell_type": "code",
   "execution_count": 48,
   "id": "59bd027a",
   "metadata": {},
   "outputs": [
    {
     "data": {
      "text/plain": [
       "((6, 3),\n",
       " array([[ 0.18875428, -0.086947  ,  0.9781677 ],\n",
       "        [-0.45670679, -0.7431123 , -0.48908385],\n",
       "        [ 0.26795251,  0.8300593 , -0.48908385],\n",
       "        [ 0.18875428, -0.086947  ,  0.9781677 ],\n",
       "        [-0.45670679, -0.7431123 , -0.48908385],\n",
       "        [ 0.26795251,  0.8300593 , -0.48908385]]))"
      ]
     },
     "execution_count": 48,
     "metadata": {},
     "output_type": "execute_result"
    }
   ],
   "source": [
    "# tile dirs twice to match origins\n",
    "# in this case tile repeats the \"block\" represented by dirs_k twice\n",
    "# reps takes the repetitions for each dimension.\n",
    "# reps=(2, 1): repeat dim_0 twice, repeat dim_1 once\n",
    "# reps=(1, 2): repeat dim_0 once, repeat dim_1 twice\n",
    "# reps=2: repeat dim_1 twice \n",
    "\n",
    "dirs_2K = np.tile(dirs_k, (2, 1)) # [2*K,3]\n",
    "dirs_2K.shape, dirs_2K"
   ]
  },
  {
   "cell_type": "code",
   "execution_count": 49,
   "id": "564b555f",
   "metadata": {},
   "outputs": [
    {
     "data": {
      "text/plain": [
       "array([[0],\n",
       "       [0],\n",
       "       [0],\n",
       "       [1],\n",
       "       [1],\n",
       "       [1]])"
      ]
     },
     "execution_count": 49,
     "metadata": {},
     "output_type": "execute_result"
    }
   ],
   "source": [
    "# joint indices \n",
    "joint_idxs = np.vstack([p, c])\n",
    "joints_2K = np.repeat(joint_idxs, K, axis=0)\n",
    "joints_2K"
   ]
  },
  {
   "cell_type": "code",
   "execution_count": 50,
   "id": "2ab4b4b1",
   "metadata": {},
   "outputs": [],
   "source": [
    "def form_rays(joints, bones, K=14):\n",
    "    \"\"\"\n",
    "    joints: list of (x,y,z) arrays, shape [J,3]\n",
    "    bones: list of (parent_idx, child_idx) pairs\n",
    "    K: number of rays per bone-end\n",
    "    \n",
    "    Returns:\n",
    "      origins: np.ndarray [2*K*len(bones), 3]\n",
    "      dirs: np.ndarray [2*K*len(bones), 3]\n",
    "    \"\"\"\n",
    "    origins_list = []\n",
    "    dirs_list = []\n",
    "    joint_idx_list = []\n",
    "    \n",
    "    for p_idx, c_idx in bones:\n",
    "        p_pos = np.array(joints[p_idx])\n",
    "        c_pos = np.array(joints[c_idx])\n",
    "        \n",
    "        # bone direction\n",
    "        v = c_pos - p_pos\n",
    "        v = v / (np.linalg.norm(v) + 1e-10)\n",
    "        \n",
    "        # orthonormal plane basis\n",
    "        u0, w = get_orthonormal_plane(v)\n",
    "        \n",
    "        # sample K angles around the circle\n",
    "        thetas = np.linspace(0, 2*np.pi, K, endpoint=False)\n",
    "\n",
    "        # [K, 3]\n",
    "        dirs_k = np.stack([np.cos(t) * u0 + np.sin(t) * w for t in thetas], axis=0)\n",
    "        dirs_k /= (np.linalg.norm(dirs_k, axis=1, keepdims=True) + 1e-10)\n",
    "        \n",
    "        # create 2 origins (parent & child), each repeated K times\n",
    "        bone_origins = np.vstack([p_pos, c_pos]) # [2,3]\n",
    "        origin_2K = np.repeat(bone_origins, K, axis=0) # [2*K,3]\n",
    "\n",
    "        # joint indices \n",
    "        joint_idxs = np.vstack([p_idx, c_idx])\n",
    "        joints_2K = np.repeat(joint_idxs, K, axis=0)\n",
    "        \n",
    "        # tile dirs twice to match origins\n",
    "        dirs_2K = np.tile(dirs_k, (2, 1)) # [2*K,3]\n",
    "        \n",
    "        origins_list.append(origin_2K)\n",
    "        dirs_list.append(dirs_2K)\n",
    "        joint_idx_list.append(joints_2K)\n",
    "    \n",
    "    # concatenate all bones so we can shoot all rays from every joint together\n",
    "    origins = np.concatenate(origins_list, axis=0)\n",
    "    dirs = np.concatenate(dirs_list, axis=0)\n",
    "    joint_idxs = np.concatenate(joint_idx_list, axis=0)\n",
    "    \n",
    "    return origins, dirs, joint_idxs"
   ]
  },
  {
   "cell_type": "code",
   "execution_count": 51,
   "id": "c171059a",
   "metadata": {},
   "outputs": [
    {
     "data": {
      "text/plain": [
       "(26, 25, (700, 3), (700, 3), (700, 1))"
      ]
     },
     "execution_count": 51,
     "metadata": {},
     "output_type": "execute_result"
    }
   ],
   "source": [
    "origins, dirs, joint_idxs = form_rays(joints, bones, K=14)\n",
    "\n",
    "# origins and dirs should be (2 x K x #Bones, 3)\n",
    "len(joints), len(bones), origins.shape, dirs.shape, joint_idxs.shape"
   ]
  },
  {
   "cell_type": "markdown",
   "id": "d2306d73",
   "metadata": {},
   "source": [
    "### Shoot Rays"
   ]
  },
  {
   "cell_type": "code",
   "execution_count": 52,
   "id": "eaf98253",
   "metadata": {},
   "outputs": [],
   "source": [
    "# current variables\n",
    "mesh, joints, origins, dirs, joint_idxs;"
   ]
  },
  {
   "cell_type": "code",
   "execution_count": null,
   "id": "84b683a1",
   "metadata": {},
   "outputs": [
    {
     "data": {
      "text/plain": [
       "((171, 3), (171,), (171,))"
      ]
     },
     "execution_count": 53,
     "metadata": {},
     "output_type": "execute_result"
    }
   ],
   "source": [
    "intersector = trimesh.ray.ray_triangle.RayMeshIntersector(mesh)\n",
    "locs, ray_ids, tri_ids = intersector.intersects_location(origins, dirs)\n",
    "\n",
    "# locs: coords of every intersection [M, 3]\n",
    "# ray_ids: which ray produced each hit [M]\n",
    "# tri_ids: which triangle was hit [M]\n",
    "\n",
    "# M=32 with K=2, and M=171 with K=14\n",
    "\n",
    "locs.shape, ray_ids.shape, tri_ids.shape"
   ]
  },
  {
   "cell_type": "code",
   "execution_count": 63,
   "id": "e8a7934e",
   "metadata": {},
   "outputs": [
    {
     "data": {
      "text/plain": [
       "(98,\n",
       " [2,\n",
       "  2,\n",
       "  3,\n",
       "  1,\n",
       "  1,\n",
       "  1,\n",
       "  5,\n",
       "  3,\n",
       "  3,\n",
       "  1,\n",
       "  3,\n",
       "  2,\n",
       "  2,\n",
       "  2,\n",
       "  1,\n",
       "  1,\n",
       "  1,\n",
       "  6,\n",
       "  1,\n",
       "  1,\n",
       "  1,\n",
       "  1,\n",
       "  2,\n",
       "  2,\n",
       "  1,\n",
       "  3,\n",
       "  3,\n",
       "  1,\n",
       "  3,\n",
       "  3,\n",
       "  5,\n",
       "  1,\n",
       "  4,\n",
       "  2,\n",
       "  5,\n",
       "  2,\n",
       "  3,\n",
       "  1,\n",
       "  1,\n",
       "  3,\n",
       "  3,\n",
       "  2,\n",
       "  1,\n",
       "  1,\n",
       "  1,\n",
       "  1,\n",
       "  3,\n",
       "  3,\n",
       "  1,\n",
       "  1,\n",
       "  1,\n",
       "  3,\n",
       "  1,\n",
       "  1,\n",
       "  1,\n",
       "  1,\n",
       "  1,\n",
       "  3,\n",
       "  1,\n",
       "  1,\n",
       "  3,\n",
       "  1,\n",
       "  1,\n",
       "  1,\n",
       "  1,\n",
       "  1,\n",
       "  1,\n",
       "  3,\n",
       "  1,\n",
       "  2,\n",
       "  2,\n",
       "  2,\n",
       "  1,\n",
       "  1,\n",
       "  1,\n",
       "  1,\n",
       "  1,\n",
       "  1,\n",
       "  3,\n",
       "  1,\n",
       "  2,\n",
       "  2,\n",
       "  1,\n",
       "  1,\n",
       "  1,\n",
       "  1,\n",
       "  1,\n",
       "  1,\n",
       "  1,\n",
       "  3,\n",
       "  1,\n",
       "  1,\n",
       "  1,\n",
       "  1,\n",
       "  1,\n",
       "  1,\n",
       "  1,\n",
       "  1])"
      ]
     },
     "execution_count": 63,
     "metadata": {},
     "output_type": "execute_result"
    }
   ],
   "source": [
    "hits_by_ray = defaultdict(list)\n",
    "tris_by_ray = defaultdict(list)\n",
    "\n",
    "# iterate over every intersection\n",
    "for pt, r, t in zip(locs, ray_ids, tri_ids):\n",
    "    hits_by_ray[r].append(pt)\n",
    "    tris_by_ray[r].append(t)\n",
    "\n",
    "# We want to pick the closest of each ray's hits \n",
    "\n",
    "len(hits_by_ray.keys()), list(map(len, hits_by_ray.values()))"
   ]
  },
  {
   "cell_type": "markdown",
   "id": "caf10e54",
   "metadata": {},
   "source": [
    "For each of 171 rays, we have\n",
    "- hits_by_ray[r]: list of points where ray r intersected the mesh\n",
    "- tris: corresponding triangle idxs\n",
    "- origins: origin joints of ray r\n",
    "\n",
    "For each ray: \n",
    "- compute euc. dist. from each hit point to origin[r] and pick the hit with the min dist.\n",
    "- If there are no hits (empty list, since hits_by_ray is a defaultdict), use \"nearby_faces\" fallback"
   ]
  },
  {
   "cell_type": "code",
   "execution_count": null,
   "id": "f5742572",
   "metadata": {},
   "outputs": [],
   "source": []
  }
 ],
 "metadata": {
  "kernelspec": {
   "display_name": "pytorch-venv-3.11.11",
   "language": "python",
   "name": "python3"
  },
  "language_info": {
   "codemirror_mode": {
    "name": "ipython",
    "version": 3
   },
   "file_extension": ".py",
   "mimetype": "text/x-python",
   "name": "python",
   "nbconvert_exporter": "python",
   "pygments_lexer": "ipython3",
   "version": "3.11.11"
  }
 },
 "nbformat": 4,
 "nbformat_minor": 5
}
