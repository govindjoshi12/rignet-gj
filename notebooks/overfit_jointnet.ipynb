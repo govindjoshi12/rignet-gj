{
 "cells": [
  {
   "cell_type": "code",
   "execution_count": 11,
   "id": "c0fb0ca9",
   "metadata": {},
   "outputs": [],
   "source": [
    "import sys\n",
    "sys.path.insert(1, '../utils')\n",
    "sys.path.insert(1, '../scripts')\n",
    "import torch\n",
    "import numpy as np\n",
    "import open3d as o3d\n",
    "import torch.nn as nn\n",
    "from dataset import RigNetDataset\n",
    "from models import JointNet\n",
    "from train_attention import train as train_attention \n",
    "from train_jointnet import train as train_jointnet\n",
    "from visualization_utils import visualize_mesh_graph, visualize_attention_heatmap\n",
    "from sklearn.metrics import confusion_matrix, accuracy_score, f1_score"
   ]
  },
  {
   "cell_type": "code",
   "execution_count": 12,
   "id": "06c3c525",
   "metadata": {},
   "outputs": [],
   "source": [
    "path = '../data/ModelResource_RigNetv1_preproccessed/mesh_graphs/val.pkl'\n",
    "dataset = RigNetDataset(path, num_samples=1, seed=42)"
   ]
  },
  {
   "cell_type": "code",
   "execution_count": 13,
   "id": "ffd3f3e1",
   "metadata": {},
   "outputs": [],
   "source": [
    "G = dataset[0]"
   ]
  },
  {
   "cell_type": "code",
   "execution_count": 14,
   "id": "c31dc2ce",
   "metadata": {},
   "outputs": [
    {
     "data": {
      "text/plain": [
       "tensor(0.3028)"
      ]
     },
     "execution_count": 14,
     "metadata": {},
     "output_type": "execute_result"
    }
   ],
   "source": [
    "G['attn_mask'].sum() / len(G['attn_mask'])"
   ]
  },
  {
   "cell_type": "code",
   "execution_count": 43,
   "id": "fec9a7d9",
   "metadata": {},
   "outputs": [
    {
     "data": {
      "text/plain": [
       "tensor([[   0,  576,    0,  578,    0],\n",
       "        [ 358, 1493, 1491, 1493, 1499]])"
      ]
     },
     "execution_count": 43,
     "metadata": {},
     "output_type": "execute_result"
    }
   ],
   "source": [
    "G['one_ring'][:, :5]"
   ]
  },
  {
   "cell_type": "code",
   "execution_count": 44,
   "id": "54ff1ef2",
   "metadata": {},
   "outputs": [
    {
     "data": {
      "text/plain": [
       "tensor([[   0,  358],\n",
       "        [ 576, 1493],\n",
       "        [   0, 1491],\n",
       "        [ 578, 1493],\n",
       "        [   0, 1499]])"
      ]
     },
     "execution_count": 44,
     "metadata": {},
     "output_type": "execute_result"
    }
   ],
   "source": [
    "G['one_ring'][:, :5].T"
   ]
  },
  {
   "cell_type": "code",
   "execution_count": 46,
   "id": "1d5587b8",
   "metadata": {},
   "outputs": [
    {
     "data": {
      "text/plain": [
       "tensor([[   0,  576],\n",
       "        [   0,  578],\n",
       "        [   0,  574],\n",
       "        ...,\n",
       "        [2104, 2104],\n",
       "        [2105, 2105],\n",
       "        [2106, 2106]])"
      ]
     },
     "execution_count": 46,
     "metadata": {},
     "output_type": "execute_result"
    }
   ],
   "source": [
    "G['one_ring'].view(-1, 2)"
   ]
  },
  {
   "cell_type": "code",
   "execution_count": 48,
   "id": "abb38c67",
   "metadata": {},
   "outputs": [],
   "source": [
    "visualize_mesh_graph(\n",
    "    vertices=G['vertices'].numpy(),\n",
    "    edge_list=G['one_ring'].T.numpy(),\n",
    "    joints_gt=G['joints'].numpy()\n",
    ")"
   ]
  },
  {
   "cell_type": "code",
   "execution_count": 16,
   "id": "90a3ff9a",
   "metadata": {},
   "outputs": [],
   "source": [
    "model = JointNet(train_iters=10, infer_iters=50, edge_dropout=15)\n",
    "attn_head = model.attn_head"
   ]
  },
  {
   "cell_type": "code",
   "execution_count": 17,
   "id": "06e46fd5",
   "metadata": {},
   "outputs": [
    {
     "data": {
      "text/plain": [
       "(tensor(0.3028), tensor(2.3025))"
      ]
     },
     "execution_count": 17,
     "metadata": {},
     "output_type": "execute_result"
    }
   ],
   "source": [
    "epochs = 1\n",
    "lr=1e-3 # 1e-6\n",
    "wd=1e-5\n",
    "optimizer = torch.optim.AdamW(attn_head.parameters(), lr=lr, weight_decay=wd)\n",
    "\n",
    "pos_frac = G['attn_mask'].sum() / len(G['attn_mask'])\n",
    "pos_weight = (1 - pos_frac) /pos_frac \n",
    "loss_fn = nn.BCEWithLogitsLoss(pos_weight=pos_weight)\n",
    "\n",
    "pos_frac, pos_weight"
   ]
  },
  {
   "cell_type": "code",
   "execution_count": 18,
   "id": "5f252fb5",
   "metadata": {},
   "outputs": [
    {
     "name": "stderr",
     "output_type": "stream",
     "text": [
      "Epoch 1/1: 100%|██████████| 1/1 [00:01<00:00,  1.03s/it]"
     ]
    },
    {
     "name": "stdout",
     "output_type": "stream",
     "text": [
      "Epoch 1: train loss = 9.6696e-01\n"
     ]
    },
    {
     "name": "stderr",
     "output_type": "stream",
     "text": [
      "\n"
     ]
    }
   ],
   "source": [
    "train_attention(attn_head, optimizer, dataset, loss_fn=loss_fn,\n",
    "                val_ds=None, epochs=epochs, logdir='../runs/attention')"
   ]
  },
  {
   "cell_type": "code",
   "execution_count": 19,
   "id": "7d2c1ef8",
   "metadata": {},
   "outputs": [
    {
     "data": {
      "text/plain": [
       "(tensor([[1],\n",
       "         [1],\n",
       "         [1],\n",
       "         [1],\n",
       "         [1]]),\n",
       " tensor([[0.5015],\n",
       "         [0.5015],\n",
       "         [0.5015],\n",
       "         [0.5015],\n",
       "         [0.5015]], grad_fn=<SliceBackward0>),\n",
       " tensor(0.5005, grad_fn=<MeanBackward0>))"
      ]
     },
     "execution_count": 19,
     "metadata": {},
     "output_type": "execute_result"
    }
   ],
   "source": [
    "attn_pred_probs = nn.functional.sigmoid(attn_head(G['vertices'], G['one_ring'], G['geodesic']))\n",
    "attn_preds = (attn_pred_probs >= 0.5).long()\n",
    "attn_preds[:5], attn_pred_probs[:5], attn_pred_probs.mean()"
   ]
  },
  {
   "cell_type": "code",
   "execution_count": 20,
   "id": "318b0631",
   "metadata": {},
   "outputs": [
    {
     "data": {
      "text/plain": [
       "0.4712861888941623"
      ]
     },
     "execution_count": 20,
     "metadata": {},
     "output_type": "execute_result"
    }
   ],
   "source": [
    "accuracy_score(G['attn_mask'], attn_preds)"
   ]
  },
  {
   "cell_type": "code",
   "execution_count": 21,
   "id": "2ac152bf",
   "metadata": {},
   "outputs": [
    {
     "data": {
      "text/plain": [
       "array([[ 469, 1000],\n",
       "       [ 114,  524]])"
      ]
     },
     "execution_count": 21,
     "metadata": {},
     "output_type": "execute_result"
    }
   ],
   "source": [
    "confusion_matrix(G['attn_mask'], attn_preds, labels=[0, 1])"
   ]
  },
  {
   "cell_type": "code",
   "execution_count": 22,
   "id": "1e39074e",
   "metadata": {},
   "outputs": [],
   "source": [
    "visualize_attention_heatmap(G['vertices'].detach().numpy(), \n",
    "                            G['one_ring'].view(-1, 2).detach().numpy(), \n",
    "                            attn_pred_probs.detach().numpy(), \n",
    "                            joints_gt=G['joints'].detach().numpy())"
   ]
  },
  {
   "cell_type": "markdown",
   "id": "e826e174",
   "metadata": {},
   "source": [
    "#### Attn Module TL;DR:\n",
    "- Use WEIGHTED BCEWithLogitsLoss\n",
    "- 1e-4 TOO SLOW, and 1e-3 jittery but still continues to converge to local minimum. Should use LRScheduler"
   ]
  },
  {
   "cell_type": "code",
   "execution_count": 48,
   "id": "9d000d97",
   "metadata": {},
   "outputs": [],
   "source": [
    "epochs = 50\n",
    "lr=1e-4\n",
    "wd=1e-5\n",
    "optimizer = torch.optim.AdamW(model.parameters(), lr=lr, weight_decay=wd)"
   ]
  },
  {
   "cell_type": "code",
   "execution_count": 63,
   "id": "ec44572c",
   "metadata": {},
   "outputs": [
    {
     "name": "stderr",
     "output_type": "stream",
     "text": [
      "Epoch 1/50: 100%|██████████| 1/1 [00:03<00:00,  3.52s/it]\n"
     ]
    },
    {
     "name": "stdout",
     "output_type": "stream",
     "text": [
      "[Epoch 1] train=1.9497e-01 (disp 9.2131e-02, joint 1.0284e-01)\n"
     ]
    },
    {
     "name": "stderr",
     "output_type": "stream",
     "text": [
      "Epoch 2/50: 100%|██████████| 1/1 [00:03<00:00,  3.44s/it]\n"
     ]
    },
    {
     "name": "stdout",
     "output_type": "stream",
     "text": [
      "[Epoch 2] train=1.9445e-01 (disp 9.2178e-02, joint 1.0227e-01)\n"
     ]
    },
    {
     "name": "stderr",
     "output_type": "stream",
     "text": [
      "Epoch 3/50: 100%|██████████| 1/1 [00:03<00:00,  3.72s/it]\n"
     ]
    },
    {
     "name": "stdout",
     "output_type": "stream",
     "text": [
      "[Epoch 3] train=1.9383e-01 (disp 9.2175e-02, joint 1.0165e-01)\n"
     ]
    },
    {
     "name": "stderr",
     "output_type": "stream",
     "text": [
      "Epoch 4/50: 100%|██████████| 1/1 [00:03<00:00,  3.27s/it]\n"
     ]
    },
    {
     "name": "stdout",
     "output_type": "stream",
     "text": [
      "[Epoch 4] train=1.9320e-01 (disp 9.2120e-02, joint 1.0108e-01)\n"
     ]
    },
    {
     "name": "stderr",
     "output_type": "stream",
     "text": [
      "Epoch 5/50: 100%|██████████| 1/1 [00:03<00:00,  3.18s/it]\n"
     ]
    },
    {
     "name": "stdout",
     "output_type": "stream",
     "text": [
      "[Epoch 5] train=1.9253e-01 (disp 9.2060e-02, joint 1.0047e-01)\n"
     ]
    },
    {
     "name": "stderr",
     "output_type": "stream",
     "text": [
      "Epoch 6/50: 100%|██████████| 1/1 [00:03<00:00,  3.12s/it]\n"
     ]
    },
    {
     "name": "stdout",
     "output_type": "stream",
     "text": [
      "[Epoch 6] train=1.9188e-01 (disp 9.2007e-02, joint 9.9872e-02)\n"
     ]
    },
    {
     "name": "stderr",
     "output_type": "stream",
     "text": [
      "Epoch 7/50: 100%|██████████| 1/1 [00:03<00:00,  3.14s/it]\n"
     ]
    },
    {
     "name": "stdout",
     "output_type": "stream",
     "text": [
      "[Epoch 7] train=1.9120e-01 (disp 9.1878e-02, joint 9.9326e-02)\n"
     ]
    },
    {
     "name": "stderr",
     "output_type": "stream",
     "text": [
      "Epoch 8/50: 100%|██████████| 1/1 [00:03<00:00,  3.07s/it]\n"
     ]
    },
    {
     "name": "stdout",
     "output_type": "stream",
     "text": [
      "[Epoch 8] train=1.9047e-01 (disp 9.1650e-02, joint 9.8821e-02)\n"
     ]
    },
    {
     "name": "stderr",
     "output_type": "stream",
     "text": [
      "Epoch 9/50: 100%|██████████| 1/1 [00:03<00:00,  3.07s/it]\n"
     ]
    },
    {
     "name": "stdout",
     "output_type": "stream",
     "text": [
      "[Epoch 9] train=1.8973e-01 (disp 9.1392e-02, joint 9.8342e-02)\n"
     ]
    },
    {
     "name": "stderr",
     "output_type": "stream",
     "text": [
      "Epoch 10/50: 100%|██████████| 1/1 [00:03<00:00,  3.04s/it]\n"
     ]
    },
    {
     "name": "stdout",
     "output_type": "stream",
     "text": [
      "[Epoch 10] train=1.8903e-01 (disp 9.1168e-02, joint 9.7859e-02)\n"
     ]
    },
    {
     "name": "stderr",
     "output_type": "stream",
     "text": [
      "Epoch 11/50: 100%|██████████| 1/1 [00:03<00:00,  3.10s/it]\n"
     ]
    },
    {
     "name": "stdout",
     "output_type": "stream",
     "text": [
      "[Epoch 11] train=1.8835e-01 (disp 9.1016e-02, joint 9.7335e-02)\n"
     ]
    },
    {
     "name": "stderr",
     "output_type": "stream",
     "text": [
      "Epoch 12/50: 100%|██████████| 1/1 [00:03<00:00,  3.11s/it]\n"
     ]
    },
    {
     "name": "stdout",
     "output_type": "stream",
     "text": [
      "[Epoch 12] train=1.8485e-01 (disp 9.1020e-02, joint 9.3830e-02)\n"
     ]
    },
    {
     "name": "stderr",
     "output_type": "stream",
     "text": [
      "Epoch 13/50: 100%|██████████| 1/1 [00:03<00:00,  3.08s/it]\n"
     ]
    },
    {
     "name": "stdout",
     "output_type": "stream",
     "text": [
      "[Epoch 13] train=1.8725e-01 (disp 9.1082e-02, joint 9.6172e-02)\n"
     ]
    },
    {
     "name": "stderr",
     "output_type": "stream",
     "text": [
      "Epoch 14/50: 100%|██████████| 1/1 [00:03<00:00,  3.13s/it]\n"
     ]
    },
    {
     "name": "stdout",
     "output_type": "stream",
     "text": [
      "[Epoch 14] train=1.8731e-01 (disp 9.1114e-02, joint 9.6193e-02)\n"
     ]
    },
    {
     "name": "stderr",
     "output_type": "stream",
     "text": [
      "Epoch 15/50: 100%|██████████| 1/1 [00:03<00:00,  3.08s/it]\n"
     ]
    },
    {
     "name": "stdout",
     "output_type": "stream",
     "text": [
      "[Epoch 15] train=1.8641e-01 (disp 9.1059e-02, joint 9.5355e-02)\n"
     ]
    },
    {
     "name": "stderr",
     "output_type": "stream",
     "text": [
      "Epoch 16/50: 100%|██████████| 1/1 [00:03<00:00,  3.01s/it]\n"
     ]
    },
    {
     "name": "stdout",
     "output_type": "stream",
     "text": [
      "[Epoch 16] train=1.8581e-01 (disp 9.0914e-02, joint 9.4899e-02)\n"
     ]
    },
    {
     "name": "stderr",
     "output_type": "stream",
     "text": [
      "Epoch 17/50: 100%|██████████| 1/1 [00:03<00:00,  3.01s/it]\n"
     ]
    },
    {
     "name": "stdout",
     "output_type": "stream",
     "text": [
      "[Epoch 17] train=1.8530e-01 (disp 9.0737e-02, joint 9.4560e-02)\n"
     ]
    },
    {
     "name": "stderr",
     "output_type": "stream",
     "text": [
      "Epoch 18/50: 100%|██████████| 1/1 [00:03<00:00,  3.02s/it]\n"
     ]
    },
    {
     "name": "stdout",
     "output_type": "stream",
     "text": [
      "[Epoch 18] train=1.8494e-01 (disp 9.0598e-02, joint 9.4339e-02)\n"
     ]
    },
    {
     "name": "stderr",
     "output_type": "stream",
     "text": [
      "Epoch 19/50: 100%|██████████| 1/1 [00:03<00:00,  3.09s/it]\n"
     ]
    },
    {
     "name": "stdout",
     "output_type": "stream",
     "text": [
      "[Epoch 19] train=1.8381e-01 (disp 9.0289e-02, joint 9.3525e-02)\n"
     ]
    },
    {
     "name": "stderr",
     "output_type": "stream",
     "text": [
      "Epoch 20/50: 100%|██████████| 1/1 [00:03<00:00,  3.11s/it]\n"
     ]
    },
    {
     "name": "stdout",
     "output_type": "stream",
     "text": [
      "[Epoch 20] train=1.8400e-01 (disp 8.9507e-02, joint 9.4495e-02)\n"
     ]
    },
    {
     "name": "stderr",
     "output_type": "stream",
     "text": [
      "Epoch 21/50: 100%|██████████| 1/1 [00:03<00:00,  3.22s/it]\n"
     ]
    },
    {
     "name": "stdout",
     "output_type": "stream",
     "text": [
      "[Epoch 21] train=1.8139e-01 (disp 8.8714e-02, joint 9.2672e-02)\n"
     ]
    },
    {
     "name": "stderr",
     "output_type": "stream",
     "text": [
      "Epoch 22/50: 100%|██████████| 1/1 [00:03<00:00,  3.31s/it]\n"
     ]
    },
    {
     "name": "stdout",
     "output_type": "stream",
     "text": [
      "[Epoch 22] train=1.7927e-01 (disp 8.8123e-02, joint 9.1149e-02)\n"
     ]
    },
    {
     "name": "stderr",
     "output_type": "stream",
     "text": [
      "Epoch 23/50: 100%|██████████| 1/1 [00:03<00:00,  3.20s/it]\n"
     ]
    },
    {
     "name": "stdout",
     "output_type": "stream",
     "text": [
      "[Epoch 23] train=1.7507e-01 (disp 8.7740e-02, joint 8.7331e-02)\n"
     ]
    },
    {
     "name": "stderr",
     "output_type": "stream",
     "text": [
      "Epoch 24/50: 100%|██████████| 1/1 [00:03<00:00,  3.26s/it]\n"
     ]
    },
    {
     "name": "stdout",
     "output_type": "stream",
     "text": [
      "[Epoch 24] train=1.7555e-01 (disp 8.7409e-02, joint 8.8138e-02)\n"
     ]
    },
    {
     "name": "stderr",
     "output_type": "stream",
     "text": [
      "Epoch 25/50: 100%|██████████| 1/1 [00:03<00:00,  3.33s/it]\n"
     ]
    },
    {
     "name": "stdout",
     "output_type": "stream",
     "text": [
      "[Epoch 25] train=1.7842e-01 (disp 8.7144e-02, joint 9.1274e-02)\n"
     ]
    },
    {
     "name": "stderr",
     "output_type": "stream",
     "text": [
      "Epoch 26/50: 100%|██████████| 1/1 [00:03<00:00,  3.32s/it]\n"
     ]
    },
    {
     "name": "stdout",
     "output_type": "stream",
     "text": [
      "[Epoch 26] train=1.7828e-01 (disp 8.7001e-02, joint 9.1283e-02)\n"
     ]
    },
    {
     "name": "stderr",
     "output_type": "stream",
     "text": [
      "Epoch 27/50: 100%|██████████| 1/1 [00:03<00:00,  3.33s/it]\n"
     ]
    },
    {
     "name": "stdout",
     "output_type": "stream",
     "text": [
      "[Epoch 27] train=1.7782e-01 (disp 8.6832e-02, joint 9.0985e-02)\n"
     ]
    },
    {
     "name": "stderr",
     "output_type": "stream",
     "text": [
      "Epoch 28/50: 100%|██████████| 1/1 [00:03<00:00,  3.35s/it]\n"
     ]
    },
    {
     "name": "stdout",
     "output_type": "stream",
     "text": [
      "[Epoch 28] train=1.7713e-01 (disp 8.6848e-02, joint 9.0283e-02)\n"
     ]
    },
    {
     "name": "stderr",
     "output_type": "stream",
     "text": [
      "Epoch 29/50: 100%|██████████| 1/1 [00:03<00:00,  3.33s/it]\n"
     ]
    },
    {
     "name": "stdout",
     "output_type": "stream",
     "text": [
      "[Epoch 29] train=1.7804e-01 (disp 8.7168e-02, joint 9.0868e-02)\n"
     ]
    },
    {
     "name": "stderr",
     "output_type": "stream",
     "text": [
      "Epoch 30/50: 100%|██████████| 1/1 [00:03<00:00,  3.31s/it]\n"
     ]
    },
    {
     "name": "stdout",
     "output_type": "stream",
     "text": [
      "[Epoch 30] train=1.7842e-01 (disp 8.7412e-02, joint 9.1006e-02)\n"
     ]
    },
    {
     "name": "stderr",
     "output_type": "stream",
     "text": [
      "Epoch 31/50: 100%|██████████| 1/1 [00:03<00:00,  3.32s/it]\n"
     ]
    },
    {
     "name": "stdout",
     "output_type": "stream",
     "text": [
      "[Epoch 31] train=1.7827e-01 (disp 8.7490e-02, joint 9.0781e-02)\n"
     ]
    },
    {
     "name": "stderr",
     "output_type": "stream",
     "text": [
      "Epoch 32/50: 100%|██████████| 1/1 [00:03<00:00,  3.30s/it]\n"
     ]
    },
    {
     "name": "stdout",
     "output_type": "stream",
     "text": [
      "[Epoch 32] train=1.7787e-01 (disp 8.7330e-02, joint 9.0541e-02)\n"
     ]
    },
    {
     "name": "stderr",
     "output_type": "stream",
     "text": [
      "Epoch 33/50: 100%|██████████| 1/1 [00:03<00:00,  3.29s/it]\n"
     ]
    },
    {
     "name": "stdout",
     "output_type": "stream",
     "text": [
      "[Epoch 33] train=1.7731e-01 (disp 8.7114e-02, joint 9.0195e-02)\n"
     ]
    },
    {
     "name": "stderr",
     "output_type": "stream",
     "text": [
      "Epoch 34/50: 100%|██████████| 1/1 [00:03<00:00,  3.32s/it]\n"
     ]
    },
    {
     "name": "stdout",
     "output_type": "stream",
     "text": [
      "[Epoch 34] train=1.7407e-01 (disp 8.6868e-02, joint 8.7198e-02)\n"
     ]
    },
    {
     "name": "stderr",
     "output_type": "stream",
     "text": [
      "Epoch 35/50: 100%|██████████| 1/1 [00:03<00:00,  3.29s/it]\n"
     ]
    },
    {
     "name": "stdout",
     "output_type": "stream",
     "text": [
      "[Epoch 35] train=1.7551e-01 (disp 8.6688e-02, joint 8.8827e-02)\n"
     ]
    },
    {
     "name": "stderr",
     "output_type": "stream",
     "text": [
      "Epoch 36/50: 100%|██████████| 1/1 [00:03<00:00,  3.31s/it]\n"
     ]
    },
    {
     "name": "stdout",
     "output_type": "stream",
     "text": [
      "[Epoch 36] train=1.7584e-01 (disp 8.6757e-02, joint 8.9087e-02)\n"
     ]
    },
    {
     "name": "stderr",
     "output_type": "stream",
     "text": [
      "Epoch 37/50: 100%|██████████| 1/1 [00:03<00:00,  3.28s/it]\n"
     ]
    },
    {
     "name": "stdout",
     "output_type": "stream",
     "text": [
      "[Epoch 37] train=1.7536e-01 (disp 8.6848e-02, joint 8.8516e-02)\n"
     ]
    },
    {
     "name": "stderr",
     "output_type": "stream",
     "text": [
      "Epoch 38/50: 100%|██████████| 1/1 [00:03<00:00,  3.29s/it]\n"
     ]
    },
    {
     "name": "stdout",
     "output_type": "stream",
     "text": [
      "[Epoch 38] train=1.7490e-01 (disp 8.6953e-02, joint 8.7952e-02)\n"
     ]
    },
    {
     "name": "stderr",
     "output_type": "stream",
     "text": [
      "Epoch 39/50: 100%|██████████| 1/1 [00:03<00:00,  3.21s/it]\n"
     ]
    },
    {
     "name": "stdout",
     "output_type": "stream",
     "text": [
      "[Epoch 39] train=1.7442e-01 (disp 8.7244e-02, joint 8.7172e-02)\n"
     ]
    },
    {
     "name": "stderr",
     "output_type": "stream",
     "text": [
      "Epoch 40/50: 100%|██████████| 1/1 [00:03<00:00,  3.31s/it]\n"
     ]
    },
    {
     "name": "stdout",
     "output_type": "stream",
     "text": [
      "[Epoch 40] train=1.7434e-01 (disp 8.7497e-02, joint 8.6843e-02)\n"
     ]
    },
    {
     "name": "stderr",
     "output_type": "stream",
     "text": [
      "Epoch 41/50: 100%|██████████| 1/1 [00:03<00:00,  3.29s/it]\n"
     ]
    },
    {
     "name": "stdout",
     "output_type": "stream",
     "text": [
      "[Epoch 41] train=1.7423e-01 (disp 8.7435e-02, joint 8.6793e-02)\n"
     ]
    },
    {
     "name": "stderr",
     "output_type": "stream",
     "text": [
      "Epoch 42/50: 100%|██████████| 1/1 [00:03<00:00,  3.23s/it]\n"
     ]
    },
    {
     "name": "stdout",
     "output_type": "stream",
     "text": [
      "[Epoch 42] train=1.7402e-01 (disp 8.7146e-02, joint 8.6877e-02)\n"
     ]
    },
    {
     "name": "stderr",
     "output_type": "stream",
     "text": [
      "Epoch 43/50: 100%|██████████| 1/1 [00:03<00:00,  3.28s/it]\n"
     ]
    },
    {
     "name": "stdout",
     "output_type": "stream",
     "text": [
      "[Epoch 43] train=1.7390e-01 (disp 8.6736e-02, joint 8.7162e-02)\n"
     ]
    },
    {
     "name": "stderr",
     "output_type": "stream",
     "text": [
      "Epoch 44/50: 100%|██████████| 1/1 [00:03<00:00,  3.46s/it]\n"
     ]
    },
    {
     "name": "stdout",
     "output_type": "stream",
     "text": [
      "[Epoch 44] train=1.7321e-01 (disp 8.6389e-02, joint 8.6821e-02)\n"
     ]
    },
    {
     "name": "stderr",
     "output_type": "stream",
     "text": [
      "Epoch 45/50: 100%|██████████| 1/1 [00:03<00:00,  3.33s/it]\n"
     ]
    },
    {
     "name": "stdout",
     "output_type": "stream",
     "text": [
      "[Epoch 45] train=1.7262e-01 (disp 8.6211e-02, joint 8.6411e-02)\n"
     ]
    },
    {
     "name": "stderr",
     "output_type": "stream",
     "text": [
      "Epoch 46/50: 100%|██████████| 1/1 [00:03<00:00,  3.28s/it]\n"
     ]
    },
    {
     "name": "stdout",
     "output_type": "stream",
     "text": [
      "[Epoch 46] train=1.7165e-01 (disp 8.6138e-02, joint 8.5512e-02)\n"
     ]
    },
    {
     "name": "stderr",
     "output_type": "stream",
     "text": [
      "Epoch 47/50: 100%|██████████| 1/1 [00:03<00:00,  3.28s/it]\n"
     ]
    },
    {
     "name": "stdout",
     "output_type": "stream",
     "text": [
      "[Epoch 47] train=1.7234e-01 (disp 8.6091e-02, joint 8.6249e-02)\n"
     ]
    },
    {
     "name": "stderr",
     "output_type": "stream",
     "text": [
      "Epoch 48/50: 100%|██████████| 1/1 [00:03<00:00,  3.19s/it]\n"
     ]
    },
    {
     "name": "stdout",
     "output_type": "stream",
     "text": [
      "[Epoch 48] train=1.7341e-01 (disp 8.6273e-02, joint 8.7134e-02)\n"
     ]
    },
    {
     "name": "stderr",
     "output_type": "stream",
     "text": [
      "Epoch 49/50: 100%|██████████| 1/1 [00:03<00:00,  3.39s/it]\n"
     ]
    },
    {
     "name": "stdout",
     "output_type": "stream",
     "text": [
      "[Epoch 49] train=1.7417e-01 (disp 8.6618e-02, joint 8.7549e-02)\n"
     ]
    },
    {
     "name": "stderr",
     "output_type": "stream",
     "text": [
      "Epoch 50/50: 100%|██████████| 1/1 [00:03<00:00,  3.38s/it]"
     ]
    },
    {
     "name": "stdout",
     "output_type": "stream",
     "text": [
      "[Epoch 50] train=1.7504e-01 (disp 8.7064e-02, joint 8.7977e-02)\n"
     ]
    },
    {
     "name": "stderr",
     "output_type": "stream",
     "text": [
      "\n"
     ]
    }
   ],
   "source": [
    "model.is_training = True\n",
    "train_jointnet(model, optimizer, dataset, epochs=epochs)"
   ]
  },
  {
   "cell_type": "code",
   "execution_count": 64,
   "id": "4694bf7b",
   "metadata": {},
   "outputs": [
    {
     "data": {
      "text/plain": [
       "(22,\n",
       " 18,\n",
       " Parameter containing:\n",
       " tensor(0.0670, requires_grad=True))"
      ]
     },
     "execution_count": 64,
     "metadata": {},
     "output_type": "execute_result"
    }
   ],
   "source": [
    "joints_pred = model(G['vertices'], G['one_ring'], G['geodesic'])\n",
    "\n",
    "# h is not updating!\n",
    "len(joints_pred), len(G['joints']), model.h"
   ]
  },
  {
   "cell_type": "code",
   "execution_count": 67,
   "id": "441c6622",
   "metadata": {},
   "outputs": [],
   "source": [
    "# Displacements\n",
    "d = model.disp_head(G['vertices'], G['one_ring'], G['geodesic'])\n",
    "d.mean(axis=0), d.std(axis=0)\n",
    "q = d + G['vertices']\n",
    "joints = model(G['vertices'], G['one_ring'], G['geodesic'])"
   ]
  },
  {
   "cell_type": "code",
   "execution_count": 68,
   "id": "019d8417",
   "metadata": {},
   "outputs": [],
   "source": [
    "visualize_mesh_graph(\n",
    "    vertices=G['vertices'].detach().numpy(),\n",
    "    edge_list=G['one_ring'].view(-1, 2).detach().numpy(),\n",
    "    joints_gt=G['joints'].detach().numpy(),\n",
    "    joints_pred=joints.detach().numpy()\n",
    ")"
   ]
  },
  {
   "cell_type": "markdown",
   "id": "01933606",
   "metadata": {},
   "source": [
    "- Debug only the displacement module \n",
    "- Overfit to higher numbers of meshes"
   ]
  }
 ],
 "metadata": {
  "kernelspec": {
   "display_name": "pytorch-venv-3.11.11",
   "language": "python",
   "name": "python3"
  },
  "language_info": {
   "codemirror_mode": {
    "name": "ipython",
    "version": 3
   },
   "file_extension": ".py",
   "mimetype": "text/x-python",
   "name": "python",
   "nbconvert_exporter": "python",
   "pygments_lexer": "ipython3",
   "version": "3.11.11"
  }
 },
 "nbformat": 4,
 "nbformat_minor": 5
}
