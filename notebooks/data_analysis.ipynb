{
 "cells": [
  {
   "cell_type": "code",
   "execution_count": 1,
   "id": "672bce19",
   "metadata": {},
   "outputs": [],
   "source": [
    "import sys\n",
    "# caution: path[0] is reserved for script path (or '' in REPL)\n",
    "sys.path.insert(1, '../utils')"
   ]
  },
  {
   "cell_type": "code",
   "execution_count": 2,
   "id": "65e884b2",
   "metadata": {},
   "outputs": [],
   "source": [
    "import os\n",
    "import open3d as o3d\n",
    "import numpy as np\n",
    "import glob\n",
    "from tqdm import tqdm\n",
    "import trimesh"
   ]
  },
  {
   "cell_type": "code",
   "execution_count": 3,
   "id": "d33cdd5e",
   "metadata": {},
   "outputs": [],
   "source": [
    "data_root = \"../data/ModelResource_RigNetv1_preproccessed\"\n",
    "obj_folder = f'{data_root}/obj'\n",
    "rig_folder = f'{data_root}/rig_info'\n",
    "\n",
    "objs_files = glob.glob"
   ]
  },
  {
   "cell_type": "code",
   "execution_count": 4,
   "id": "bf444b83",
   "metadata": {},
   "outputs": [],
   "source": [
    "def get_mesh_joint_pair(obj_index, obj_folder, rig_folder):\n",
    "    \n",
    "    obj_path = f'{obj_folder}/{obj_index}.obj'\n",
    "    rig_path = f'{rig_folder}/{obj_index}.txt'\n",
    "\n",
    "    # Load and pre-process mesh\n",
    "    mesh = trimesh.load_mesh(obj_path)\n",
    "    centroid = mesh.centroid\n",
    "    mesh.apply_translation(-centroid)\n",
    "\n",
    "    # extraxt join locations\n",
    "    # disregard bone info. Only want joint locations\n",
    "    joints = []\n",
    "    with open(rig_path, \"r\") as f:\n",
    "        tokens = f.readline().split()\n",
    "        while(tokens[0] == \"joints\"):\n",
    "            joints.append(list(map(float, tokens[2:])))\n",
    "            tokens = f.readline().split()\n",
    "\n",
    "    joints = np.array(joints) - centroid\n",
    "\n",
    "    return mesh, joints"
   ]
  },
  {
   "cell_type": "code",
   "execution_count": 5,
   "id": "694db38a",
   "metadata": {},
   "outputs": [
    {
     "data": {
      "text/plain": [
       "(<trimesh.Trimesh(vertices.shape=(1623, 3), faces.shape=(3172, 3))>,\n",
       " array([[-4.80618542e-06, -7.20965129e-02, -9.80135224e-02],\n",
       "        [ 3.53591938e-02, -8.28225129e-02, -1.18517522e-01],\n",
       "        [-4.78618542e-06, -6.49445129e-02, -7.98179224e-02],\n",
       "        [-3.53688062e-02, -8.28225129e-02, -1.18517522e-01],\n",
       "        [-4.82618542e-06, -6.12175129e-02, -1.34724022e-01],\n",
       "        [ 6.55807938e-02, -1.60356913e-01, -8.75791224e-02],\n",
       "        [-4.79618542e-06, -6.00325129e-02, -3.48797224e-02],\n",
       "        [-6.55904062e-02, -1.60356813e-01, -8.75793224e-02],\n",
       "        [-4.78618542e-06, -6.06325129e-02, -2.31827522e-01],\n",
       "        [ 6.57489938e-02, -2.09598813e-01, -1.19307122e-01],\n",
       "        [-4.77618542e-06, -5.54125129e-02,  1.72098776e-02],\n",
       "        [-6.57586062e-02, -2.09598713e-01, -1.19307122e-01],\n",
       "        [-4.75618542e-06, -6.00465129e-02, -3.28931522e-01],\n",
       "        [ 1.89700938e-02, -3.96565129e-02,  5.59514776e-02],\n",
       "        [ 7.90632381e-03, -5.52555129e-02,  5.40774776e-02],\n",
       "        [-4.74618542e-06, -5.46595129e-02,  5.62394776e-02],\n",
       "        [-1.89796062e-02, -3.96565129e-02,  5.59514776e-02],\n",
       "        [-7.91598619e-03, -5.52555129e-02,  5.40774776e-02],\n",
       "        [-4.71618542e-06, -5.94615129e-02, -4.26035522e-01],\n",
       "        [ 1.89700938e-02,  5.50954871e-02,  1.04260478e-01],\n",
       "        [ 3.30053938e-02, -5.91035129e-02,  4.88564776e-02],\n",
       "        [-4.67618542e-06, -5.36885129e-02,  1.11612478e-01],\n",
       "        [-1.89797062e-02,  5.50954871e-02,  1.04261478e-01],\n",
       "        [-3.30149062e-02, -5.91035129e-02,  4.88564776e-02],\n",
       "        [-4.68618542e-06, -5.88765129e-02, -5.23139522e-01],\n",
       "        [ 1.89701938e-02,  8.80364871e-02,  2.06411478e-01],\n",
       "        [ 1.89699938e-02,  8.20504871e-02,  1.83547478e-01],\n",
       "        [ 7.97792938e-02, -5.88535129e-02,  4.55404776e-02],\n",
       "        [-4.58618542e-06, -5.36885129e-02,  1.56379478e-01],\n",
       "        [-1.89796062e-02,  8.80364871e-02,  2.06411478e-01],\n",
       "        [-1.89797062e-02,  8.20504871e-02,  1.83547478e-01],\n",
       "        [-7.97888062e-02, -5.88535129e-02,  4.55414776e-02],\n",
       "        [ 1.89698938e-02,  1.57537487e-01,  8.27074776e-02],\n",
       "        [ 1.89699938e-02,  8.31774871e-02,  5.86604776e-02],\n",
       "        [ 1.20953194e-01, -5.89555129e-02,  4.61164776e-02],\n",
       "        [-4.50618542e-06, -5.36885129e-02,  2.02453478e-01],\n",
       "        [-1.89797062e-02,  1.57537487e-01,  8.27074776e-02],\n",
       "        [-1.89797062e-02,  8.31774871e-02,  5.86604776e-02],\n",
       "        [-1.20962806e-01, -5.89555129e-02,  4.61164776e-02],\n",
       "        [ 1.89696938e-02,  1.62183487e-01, -6.42347024e-02],\n",
       "        [-4.26618542e-06, -5.48185129e-02,  2.68225478e-01],\n",
       "        [-1.89797062e-02,  1.62183487e-01, -6.42348524e-02],\n",
       "        [-1.28059619e-03, -6.68675129e-02,  2.92852478e-01]]))"
      ]
     },
     "execution_count": 5,
     "metadata": {},
     "output_type": "execute_result"
    }
   ],
   "source": [
    "mesh, joints = get_mesh_joint_pair(341, obj_folder, rig_folder)\n",
    "mesh, joints"
   ]
  },
  {
   "cell_type": "markdown",
   "id": "24020fb4",
   "metadata": {},
   "source": [
    "### Data Analysis"
   ]
  },
  {
   "cell_type": "code",
   "execution_count": 6,
   "id": "86ec46ac",
   "metadata": {},
   "outputs": [
    {
     "data": {
      "text/plain": [
       "2703"
      ]
     },
     "execution_count": 6,
     "metadata": {},
     "output_type": "execute_result"
    }
   ],
   "source": [
    "mesh_idx_files = glob.glob(os.path.join(data_root, '*_final.txt'))\n",
    "mesh_idx_files\n",
    "mesh_idxs = []\n",
    "for fpath in mesh_idx_files:\n",
    "    with open(fpath, 'r+') as f:\n",
    "        mesh_idxs.extend(list(map(int, f.read().splitlines())))\n",
    "\n",
    "len(mesh_idxs)"
   ]
  },
  {
   "cell_type": "code",
   "execution_count": 9,
   "id": "9b71fcdb",
   "metadata": {},
   "outputs": [],
   "source": [
    "def compute_mesh_stats(mesh_idxs, obj_folder, rig_folder):\n",
    "    \"\"\"\n",
    "    For each mesh index in mesh_idxs, loads the mesh via get_mesh_joint_pair,\n",
    "    then computes:\n",
    "      - number of vertices\n",
    "      - number of faces (triangles)\n",
    "    Returns a dict with means, mins & maxes.\n",
    "    \"\"\"\n",
    "    vert_counts = []\n",
    "    face_counts = []\n",
    "    below1k = 0\n",
    "    above5k = 0\n",
    "\n",
    "    for idx in tqdm(mesh_idxs):\n",
    "        mesh, _ = get_mesh_joint_pair(idx, obj_folder, rig_folder)\n",
    "        verts = np.asarray(mesh.vertices)\n",
    "        tris  = np.asarray(mesh.triangles)\n",
    "\n",
    "        if len(verts) < 1000:\n",
    "            below1k += 1\n",
    "        \n",
    "        if len(verts) > 5000:\n",
    "            above5k += 1\n",
    "\n",
    "        vert_counts.append(len(verts))\n",
    "        face_counts.append(len(tris))\n",
    "\n",
    "    vert_counts = np.array(vert_counts)\n",
    "    face_counts = np.array(face_counts)\n",
    "\n",
    "    stats = {\n",
    "        'vertices': {\n",
    "            'mean': vert_counts.mean(),\n",
    "            'min':   vert_counts.min(),\n",
    "            'max':   vert_counts.max(),\n",
    "            'std':   vert_counts.std(),\n",
    "        },\n",
    "        'faces': {\n",
    "            'mean': face_counts.mean(),\n",
    "            'min':   face_counts.min(),\n",
    "            'max':   face_counts.max(),\n",
    "            'std':   face_counts.std(),\n",
    "        },\n",
    "        'other': {\n",
    "            'below1k': below1k,\n",
    "            'above5k': above5k\n",
    "        }\n",
    "    }\n",
    "\n",
    "    return stats"
   ]
  },
  {
   "cell_type": "code",
   "execution_count": 8,
   "id": "5637c134",
   "metadata": {},
   "outputs": [
    {
     "name": "stderr",
     "output_type": "stream",
     "text": [
      "100%|██████████| 2703/2703 [00:13<00:00, 202.09it/s]"
     ]
    },
    {
     "name": "stdout",
     "output_type": "stream",
     "text": [
      "Vertex count: mean=1308.3, min=56, max=13858, std=1194.2\n",
      "Face   count: mean=2499.8, min=102, max=33520, std=2384.8\n",
      "Other     : below_5k=1549, above_5k=53\n"
     ]
    },
    {
     "name": "stderr",
     "output_type": "stream",
     "text": [
      "\n"
     ]
    }
   ],
   "source": [
    "stats = compute_mesh_stats(mesh_idxs, obj_folder, rig_folder)\n",
    "print(\"Vertex count: mean={mean:.1f}, min={min}, max={max}, std={std:.1f}\".format(**stats['vertices']))\n",
    "print(\"Face   count: mean={mean:.1f}, min={min}, max={max}, std={std:.1f}\".format(**stats['faces']))\n",
    "print(\"Other     : below_5k={below1k}, above_5k={above5k}\".format(**stats['other']))"
   ]
  },
  {
   "cell_type": "markdown",
   "id": "88924917",
   "metadata": {},
   "source": [
    "We need to decimate meshes to have ~5000 triangles (which results in <= 5000 vertices)\n",
    "\n",
    "Also, lots of meshes have fewer than 1000 verts so we can perform triangle subdivision before decimation"
   ]
  },
  {
   "cell_type": "code",
   "execution_count": 10,
   "id": "e31d0ba3",
   "metadata": {},
   "outputs": [],
   "source": [
    "def subdivide_to_min_verts(mesh: trimesh.Trimesh, min_verts: int = 1000) -> trimesh.Trimesh:\n",
    "    \"\"\"\n",
    "    Repeatedly apply Loop subdivision until mesh has at least min_verts vertices.\n",
    "    Stops early if subdivision no longer increases the vertex count.\n",
    "    \"\"\"\n",
    "    current = len(mesh.vertices)\n",
    "    # early exit\n",
    "    if current >= min_verts:\n",
    "        return mesh\n",
    "\n",
    "    while current < min_verts:\n",
    "        # apply one iteration of Loop subdivision\n",
    "        mesh_sub = mesh.subdivide()  # same as mesh.subdivide_loop()\n",
    "        new_count = len(mesh_sub.vertices)\n",
    "\n",
    "        # if no growth, bail out\n",
    "        if new_count <= current:\n",
    "            break\n",
    "\n",
    "        mesh = mesh_sub\n",
    "        current = new_count\n",
    "\n",
    "    return mesh"
   ]
  },
  {
   "cell_type": "code",
   "execution_count": 11,
   "id": "9c78b1f9",
   "metadata": {},
   "outputs": [],
   "source": [
    "def decimate_to_range(mesh: trimesh.Trimesh, min_tris=1000, max_tris=8000, shrink_factor=0.8):\n",
    "    \"\"\"\n",
    "    Quadric-decimates mesh so that its triangle count ends up in [min_tris, max_tris],\n",
    "    or stops early if it can't get any smaller.\n",
    "    \"\"\"\n",
    "    current = len(mesh.triangles)\n",
    "    \n",
    "    # If we’re already within the target band, do nothing\n",
    "    if min_tris <= current <= max_tris:\n",
    "        return mesh\n",
    "    \n",
    "    # Only decimate when above max_tris\n",
    "    while current > max_tris:\n",
    "        # pick a new target strictly between min_tris and current\n",
    "        target = int(current * shrink_factor)\n",
    "        # clamp to the lower bound so we don't go below min_tris\n",
    "        target = max(target, min_tris)\n",
    "        \n",
    "        # if target is not strictly less, we can’t make progress\n",
    "        if target >= current:\n",
    "            break\n",
    "        \n",
    "        mesh_dec = mesh.simplify_quadric_decimation(face_count=target)\n",
    "        new_count = len(mesh_dec.triangles)\n",
    "        \n",
    "        # if no triangles were lost, bail\n",
    "        if new_count >= current:\n",
    "            break\n",
    "        \n",
    "        mesh = mesh_dec\n",
    "        current = new_count\n",
    "    \n",
    "    mesh.remove_unreferenced_vertices()\n",
    "    return mesh"
   ]
  },
  {
   "cell_type": "code",
   "execution_count": 12,
   "id": "72ccf49c",
   "metadata": {},
   "outputs": [],
   "source": [
    "def compute_mesh_stats(mesh_idxs, obj_folder, rig_folder):\n",
    "    \"\"\"\n",
    "    For each mesh index in mesh_idxs, loads the mesh via get_mesh_joint_pair,\n",
    "    then computes:\n",
    "      - number of vertices\n",
    "      - number of faces (triangles)\n",
    "    Returns a dict with means, mins & maxes.\n",
    "    \"\"\"\n",
    "    vert_counts = []\n",
    "    face_counts = []\n",
    "    below1k = 0\n",
    "    above5k = 0\n",
    "    for idx in tqdm(mesh_idxs):\n",
    "        mesh, _ = get_mesh_joint_pair(idx, obj_folder, rig_folder)\n",
    "\n",
    "        mesh = subdivide_to_min_verts(mesh, 1000)\n",
    "        mesh = decimate_to_range(mesh, 1000, 8000)\n",
    "\n",
    "        verts = np.asarray(mesh.vertices)\n",
    "        tris = np.asarray(mesh.triangles)\n",
    "\n",
    "        if len(verts) < 1000:\n",
    "            print(idx)\n",
    "            below1k += 1\n",
    "        \n",
    "        if len(verts) > 5000:\n",
    "            above5k += 1\n",
    "\n",
    "        vert_counts.append(len(verts))\n",
    "        face_counts.append(len(tris))\n",
    "\n",
    "    vert_counts = np.array(vert_counts)\n",
    "    face_counts = np.array(face_counts)\n",
    "\n",
    "    stats = {\n",
    "        'vertices': {\n",
    "            'mean': vert_counts.mean(),\n",
    "            'min':   vert_counts.min(),\n",
    "            'max':   vert_counts.max(),\n",
    "            'std':   vert_counts.std(),\n",
    "        },\n",
    "        'faces': {\n",
    "            'mean': face_counts.mean(),\n",
    "            'min':   face_counts.min(),\n",
    "            'max':   face_counts.max(),\n",
    "            'std':   face_counts.std(),\n",
    "        },\n",
    "        'other': {\n",
    "            'below1k': below1k,\n",
    "            'above5k': above5k\n",
    "        }\n",
    "    }\n",
    "\n",
    "    return stats"
   ]
  },
  {
   "cell_type": "code",
   "execution_count": 13,
   "id": "e3a5d616",
   "metadata": {},
   "outputs": [
    {
     "name": "stderr",
     "output_type": "stream",
     "text": [
      "100%|██████████| 2703/2703 [00:14<00:00, 191.37it/s]"
     ]
    },
    {
     "name": "stdout",
     "output_type": "stream",
     "text": [
      "Vertex count: mean=2356.8, min=1000, max=4494, std=846.3\n",
      "Face   count: mean=4573.9, min=1500, max=7999, std=1694.3\n",
      "Other     : below_1k=0, above_5k=0\n"
     ]
    },
    {
     "name": "stderr",
     "output_type": "stream",
     "text": [
      "\n"
     ]
    }
   ],
   "source": [
    "stats = compute_mesh_stats(mesh_idxs, obj_folder, rig_folder)\n",
    "print(\"Vertex count: mean={mean:.1f}, min={min}, max={max}, std={std:.1f}\".format(**stats['vertices']))\n",
    "print(\"Face   count: mean={mean:.1f}, min={min}, max={max}, std={std:.1f}\".format(**stats['faces']))\n",
    "print(\"Other     : below_1k={below1k}, above_5k={above5k}\".format(**stats['other']))\n"
   ]
  },
  {
   "cell_type": "markdown",
   "id": "5b8269d3",
   "metadata": {},
   "source": [
    "### Load and Preprocess Mesh Subroutine"
   ]
  },
  {
   "cell_type": "code",
   "execution_count": 14,
   "id": "1c70a57f",
   "metadata": {},
   "outputs": [],
   "source": [
    "def load_and_preprocess_mesh(obj_path,\n",
    "                             min_verts=1000,\n",
    "                             min_tris=1000,\n",
    "                             max_tris=8000):\n",
    "    \n",
    "    # These param numbers obtained just be recomputing stats until \n",
    "    # there were no meshes below 1k verts, no meshes aboce 5k verts, \n",
    "    # and pushing maximum num verts to be as close to 5k as possible\n",
    "    \"\"\"\n",
    "    1) Load + repair raw mesh\n",
    "    2) Center at origin\n",
    "    3) Subdivide up to >= min_verts\n",
    "    4) Decimate down into [min_tris, max_tris]\n",
    "    5) Final clean + normals\n",
    "    Returns (mesh, centroid), so you can apply the same centering to your rig/joints.\n",
    "    \"\"\"\n",
    "\n",
    "    # --- 1) Load & initial repair ---\n",
    "    mesh = trimesh.load_mesh(obj_path, process=False)\n",
    "\n",
    "    # drop any zero‐area or duplicate bits\n",
    "    mesh.update_faces(mesh.nondegenerate_faces())\n",
    "    mesh.update_faces(mesh.unique_faces())\n",
    "    mesh.remove_unreferenced_vertices()\n",
    "    mesh.fill_holes() # closes small cracks that might break subdivision\n",
    "    \n",
    "    # --- 2) Center at origin ---\n",
    "    centroid = mesh.centroid\n",
    "    mesh.apply_translation(-centroid)\n",
    "    \n",
    "    # --- 3) Grow small meshes up to min_verts ---\n",
    "    mesh = subdivide_to_min_verts(mesh, min_verts=min_verts)\n",
    "    \n",
    "    # --- 4) Shrink big meshes into [min_tris, max_tris] ---\n",
    "    mesh = decimate_to_range(mesh,\n",
    "                             min_tris=min_tris,\n",
    "                             max_tris=max_tris)\n",
    "    \n",
    "    # --- 5) Final cleanup \n",
    "    mesh.update_faces(mesh.nondegenerate_faces())\n",
    "    mesh.remove_unreferenced_vertices()\n",
    "    mesh.fill_holes()\n",
    "\n",
    "    return mesh, centroid"
   ]
  },
  {
   "cell_type": "code",
   "execution_count": 15,
   "id": "9e74c7da",
   "metadata": {},
   "outputs": [],
   "source": [
    "obj_path = f'{obj_folder}/13.obj'\n",
    "mesh, centroid = load_and_preprocess_mesh(obj_path)"
   ]
  },
  {
   "cell_type": "code",
   "execution_count": 16,
   "id": "6d1c4520",
   "metadata": {},
   "outputs": [
    {
     "data": {
      "text/plain": [
       "<trimesh.Trimesh(vertices.shape=(3377, 3), faces.shape=(6862, 3))>"
      ]
     },
     "execution_count": 16,
     "metadata": {},
     "output_type": "execute_result"
    }
   ],
   "source": [
    "mesh"
   ]
  },
  {
   "cell_type": "code",
   "execution_count": 17,
   "id": "b0653905",
   "metadata": {},
   "outputs": [],
   "source": [
    "import numpy as np\n",
    "import open3d as o3d\n",
    "import trimesh\n",
    "\n",
    "def visualize_trimesh(mesh_tm: trimesh.Trimesh,\n",
    "                      mesh_color = [0.7, 0.7, 0.7],\n",
    "                      joints: np.ndarray = None,\n",
    "                      joint_color = [1.0, 0.0, 0.0]):\n",
    "    \"\"\"\n",
    "    Visualize a Trimesh in Open3D as a wireframe (LineSet), with optional joints.\n",
    "    \n",
    "    Args:\n",
    "        mesh_tm: trimesh.Trimesh instance\n",
    "        joints:  optional (J,3) numpy array of joint positions\n",
    "    \"\"\"\n",
    "    # --- Convert to LineSet wireframe ---\n",
    "    verts = np.asarray(mesh_tm.vertices)\n",
    "    edges = mesh_tm.edges_unique  # (E,2) array of [u, v] index pairs\n",
    "\n",
    "    lines = o3d.geometry.LineSet()\n",
    "    lines.points = o3d.utility.Vector3dVector(verts)\n",
    "    lines.lines  = o3d.utility.Vector2iVector(edges)\n",
    "    # color each edge light gray\n",
    "    colors = np.tile(mesh_color, (len(edges), 1))\n",
    "    lines.colors = o3d.utility.Vector3dVector(colors)\n",
    "\n",
    "    # --- Prepare geometries for rendering ---\n",
    "    geometries = [lines]\n",
    "\n",
    "    if joints is not None and len(joints) > 0:\n",
    "        # render each joint as a small red sphere\n",
    "        for j in joints:\n",
    "            sph = o3d.geometry.TriangleMesh.create_sphere(radius=0.01)\n",
    "            sph.translate(j)\n",
    "            sph.paint_uniform_color(joint_color)\n",
    "            sph.compute_vertex_normals()\n",
    "            geometries.append(sph)\n",
    "\n",
    "    # --- Draw all ---\n",
    "    o3d.visualization.draw_geometries(geometries)\n"
   ]
  },
  {
   "cell_type": "code",
   "execution_count": 18,
   "id": "4818c469",
   "metadata": {},
   "outputs": [],
   "source": [
    "visualize_trimesh(mesh)"
   ]
  },
  {
   "cell_type": "markdown",
   "id": "6d4139b2",
   "metadata": {},
   "source": [
    "### Stats analysis after preprocessing"
   ]
  },
  {
   "cell_type": "code",
   "execution_count": 19,
   "id": "f50ad487",
   "metadata": {},
   "outputs": [],
   "source": [
    "def compute_mesh_stats(mesh_idxs, obj_folder):\n",
    "    \"\"\"\n",
    "    For each mesh index in mesh_idxs, loads the mesh via get_mesh_joint_pair,\n",
    "    then computes:\n",
    "      - number of vertices\n",
    "      - number of faces (triangles)\n",
    "    Returns a dict with means, mins & maxes.\n",
    "    \"\"\"\n",
    "    vert_counts = []\n",
    "    face_counts = []\n",
    "    below1k = 0\n",
    "    above5k = 0\n",
    "    for idx in tqdm(mesh_idxs):\n",
    "        mesh, centroid = load_and_preprocess_mesh(f'{obj_folder}/{idx}.obj')\n",
    "\n",
    "        verts = np.asarray(mesh.vertices)\n",
    "        tris = np.asarray(mesh.triangles)\n",
    "\n",
    "        if len(verts) < 1000:\n",
    "            print(idx)\n",
    "            below1k += 1\n",
    "        \n",
    "        if len(verts) > 5000:\n",
    "            above5k += 1\n",
    "\n",
    "        vert_counts.append(len(verts))\n",
    "        face_counts.append(len(tris))\n",
    "\n",
    "    vert_counts = np.array(vert_counts)\n",
    "    face_counts = np.array(face_counts)\n",
    "\n",
    "    stats = {\n",
    "        'vertices': {\n",
    "            'mean': vert_counts.mean(),\n",
    "            'min':   vert_counts.min(),\n",
    "            'max':   vert_counts.max(),\n",
    "            'std':   vert_counts.std(),\n",
    "        },\n",
    "        'faces': {\n",
    "            'mean': face_counts.mean(),\n",
    "            'min':   face_counts.min(),\n",
    "            'max':   face_counts.max(),\n",
    "            'std':   face_counts.std(),\n",
    "        },\n",
    "        'other': {\n",
    "            'below1k': below1k,\n",
    "            'above5k': above5k\n",
    "        }\n",
    "    }\n",
    "\n",
    "    return stats"
   ]
  },
  {
   "cell_type": "code",
   "execution_count": 20,
   "id": "688ac222",
   "metadata": {},
   "outputs": [
    {
     "name": "stderr",
     "output_type": "stream",
     "text": [
      "100%|██████████| 2703/2703 [00:20<00:00, 130.80it/s]"
     ]
    },
    {
     "name": "stdout",
     "output_type": "stream",
     "text": [
      "Vertex count: mean=2359.8, min=1000, max=4505, std=849.8\n",
      "Face   count: mean=4573.4, min=1519, max=7992, std=1694.7\n",
      "Other     : below_1k=0, above_5k=0\n"
     ]
    },
    {
     "name": "stderr",
     "output_type": "stream",
     "text": [
      "\n"
     ]
    }
   ],
   "source": [
    "stats = compute_mesh_stats(mesh_idxs, obj_folder)\n",
    "print(\"Vertex count: mean={mean:.1f}, min={min}, max={max}, std={std:.1f}\".format(**stats['vertices']))\n",
    "print(\"Face   count: mean={mean:.1f}, min={min}, max={max}, std={std:.1f}\".format(**stats['faces']))\n",
    "print(\"Other     : below_1k={below1k}, above_5k={above5k}\".format(**stats['other']))"
   ]
  }
 ],
 "metadata": {
  "kernelspec": {
   "display_name": "pytorch-venv-3.11.11",
   "language": "python",
   "name": "python3"
  },
  "language_info": {
   "codemirror_mode": {
    "name": "ipython",
    "version": 3
   },
   "file_extension": ".py",
   "mimetype": "text/x-python",
   "name": "python",
   "nbconvert_exporter": "python",
   "pygments_lexer": "ipython3",
   "version": "3.11.11"
  }
 },
 "nbformat": 4,
 "nbformat_minor": 5
}
