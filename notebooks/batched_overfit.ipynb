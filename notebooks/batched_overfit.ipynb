{
 "cells": [
  {
   "cell_type": "code",
   "execution_count": 81,
   "id": "d7a4313f",
   "metadata": {},
   "outputs": [],
   "source": [
    "import sys\n",
    "# caution: path[0] is reserved for script path (or '' in REPL)\n",
    "sys.path.insert(1, '../utils')\n",
    "\n",
    "import torch\n",
    "import torch.nn as nn\n",
    "import torch.nn.functional as F\n",
    "from torch.utils.data import Dataset, DataLoader\n",
    "\n",
    "from dataset import RigNetDataset, collate_fn, FILE_PATHS, POS_ATTN_AVG\n",
    "from models import JointNet, JointDisplacementModule, VertexAttentionModule, GMEdgeConv, GMEdgeNet\n",
    "from visualization_utils import visualize_mesh_graph, visualize_attention_heatmap\n",
    "from training_utils import chamfer_loss\n",
    "\n",
    "import matplotlib.pyplot as plt\n",
    "import numpy as np\n",
    "from tqdm import tqdm\n",
    "from sklearn.metrics import accuracy_score, confusion_matrix, precision_recall_fscore_support, precision_recall_curve"
   ]
  },
  {
   "cell_type": "code",
   "execution_count": 41,
   "id": "0a1dd8dd",
   "metadata": {},
   "outputs": [],
   "source": [
    "dataset = RigNetDataset(FILE_PATHS['val'], num_samples=4, seed=42)\n",
    "dl = DataLoader(\n",
    "    dataset=dataset,\n",
    "    batch_size=2,\n",
    "    shuffle=False,\n",
    "    collate_fn=collate_fn\n",
    ")"
   ]
  },
  {
   "cell_type": "code",
   "execution_count": 48,
   "id": "80d0cf69",
   "metadata": {},
   "outputs": [
    {
     "data": {
      "text/plain": [
       "JointNet(\n",
       "  (feature_extractor): JointFeatureNet(\n",
       "    (disp_head): JointDisplacementModule(\n",
       "      (model): GMEdgeNet(\n",
       "        (conv1): GMEdgeConv(\n",
       "          (mlp_topo): Sequential(\n",
       "            (0): Linear(in_features=6, out_features=64, bias=True)\n",
       "            (1): ReLU()\n",
       "            (2): Linear(in_features=64, out_features=64, bias=True)\n",
       "            (3): ReLU()\n",
       "          )\n",
       "          (mlp_geo): Sequential(\n",
       "            (0): Linear(in_features=6, out_features=64, bias=True)\n",
       "            (1): ReLU()\n",
       "            (2): Linear(in_features=64, out_features=64, bias=True)\n",
       "            (3): ReLU()\n",
       "          )\n",
       "          (mlp_fuse): Sequential(\n",
       "            (0): Linear(in_features=128, out_features=64, bias=True)\n",
       "            (1): ReLU()\n",
       "          )\n",
       "        )\n",
       "        (conv2): GMEdgeConv(\n",
       "          (mlp_topo): Sequential(\n",
       "            (0): Linear(in_features=128, out_features=256, bias=True)\n",
       "            (1): ReLU()\n",
       "            (2): Linear(in_features=256, out_features=256, bias=True)\n",
       "            (3): ReLU()\n",
       "          )\n",
       "          (mlp_geo): Sequential(\n",
       "            (0): Linear(in_features=128, out_features=256, bias=True)\n",
       "            (1): ReLU()\n",
       "            (2): Linear(in_features=256, out_features=256, bias=True)\n",
       "            (3): ReLU()\n",
       "          )\n",
       "          (mlp_fuse): Sequential(\n",
       "            (0): Linear(in_features=512, out_features=256, bias=True)\n",
       "            (1): ReLU()\n",
       "          )\n",
       "        )\n",
       "        (conv3): GMEdgeConv(\n",
       "          (mlp_topo): Sequential(\n",
       "            (0): Linear(in_features=512, out_features=512, bias=True)\n",
       "            (1): ReLU()\n",
       "            (2): Linear(in_features=512, out_features=512, bias=True)\n",
       "            (3): ReLU()\n",
       "          )\n",
       "          (mlp_geo): Sequential(\n",
       "            (0): Linear(in_features=512, out_features=512, bias=True)\n",
       "            (1): ReLU()\n",
       "            (2): Linear(in_features=512, out_features=512, bias=True)\n",
       "            (3): ReLU()\n",
       "          )\n",
       "          (mlp_fuse): Sequential(\n",
       "            (0): Linear(in_features=1024, out_features=512, bias=True)\n",
       "            (1): ReLU()\n",
       "          )\n",
       "        )\n",
       "        (global_mlp): Sequential(\n",
       "          (0): Linear(in_features=832, out_features=1024, bias=True)\n",
       "          (1): ReLU()\n",
       "        )\n",
       "        (head): Sequential(\n",
       "          (0): Linear(in_features=1859, out_features=1024, bias=True)\n",
       "          (1): ReLU()\n",
       "          (2): Linear(in_features=1024, out_features=256, bias=True)\n",
       "          (3): ReLU()\n",
       "          (4): Linear(in_features=256, out_features=3, bias=True)\n",
       "        )\n",
       "      )\n",
       "    )\n",
       "    (attn_head): VertexAttentionModule(\n",
       "      (model): GMEdgeNet(\n",
       "        (conv1): GMEdgeConv(\n",
       "          (mlp_topo): Sequential(\n",
       "            (0): Linear(in_features=6, out_features=64, bias=True)\n",
       "            (1): ReLU()\n",
       "            (2): Linear(in_features=64, out_features=64, bias=True)\n",
       "            (3): ReLU()\n",
       "          )\n",
       "          (mlp_geo): Sequential(\n",
       "            (0): Linear(in_features=6, out_features=64, bias=True)\n",
       "            (1): ReLU()\n",
       "            (2): Linear(in_features=64, out_features=64, bias=True)\n",
       "            (3): ReLU()\n",
       "          )\n",
       "          (mlp_fuse): Sequential(\n",
       "            (0): Linear(in_features=128, out_features=64, bias=True)\n",
       "            (1): ReLU()\n",
       "          )\n",
       "        )\n",
       "        (conv2): GMEdgeConv(\n",
       "          (mlp_topo): Sequential(\n",
       "            (0): Linear(in_features=128, out_features=256, bias=True)\n",
       "            (1): ReLU()\n",
       "            (2): Linear(in_features=256, out_features=256, bias=True)\n",
       "            (3): ReLU()\n",
       "          )\n",
       "          (mlp_geo): Sequential(\n",
       "            (0): Linear(in_features=128, out_features=256, bias=True)\n",
       "            (1): ReLU()\n",
       "            (2): Linear(in_features=256, out_features=256, bias=True)\n",
       "            (3): ReLU()\n",
       "          )\n",
       "          (mlp_fuse): Sequential(\n",
       "            (0): Linear(in_features=512, out_features=256, bias=True)\n",
       "            (1): ReLU()\n",
       "          )\n",
       "        )\n",
       "        (conv3): GMEdgeConv(\n",
       "          (mlp_topo): Sequential(\n",
       "            (0): Linear(in_features=512, out_features=512, bias=True)\n",
       "            (1): ReLU()\n",
       "            (2): Linear(in_features=512, out_features=512, bias=True)\n",
       "            (3): ReLU()\n",
       "          )\n",
       "          (mlp_geo): Sequential(\n",
       "            (0): Linear(in_features=512, out_features=512, bias=True)\n",
       "            (1): ReLU()\n",
       "            (2): Linear(in_features=512, out_features=512, bias=True)\n",
       "            (3): ReLU()\n",
       "          )\n",
       "          (mlp_fuse): Sequential(\n",
       "            (0): Linear(in_features=1024, out_features=512, bias=True)\n",
       "            (1): ReLU()\n",
       "          )\n",
       "        )\n",
       "        (global_mlp): Sequential(\n",
       "          (0): Linear(in_features=832, out_features=1024, bias=True)\n",
       "          (1): ReLU()\n",
       "        )\n",
       "        (head): Sequential(\n",
       "          (0): Linear(in_features=1859, out_features=1024, bias=True)\n",
       "          (1): ReLU()\n",
       "          (2): Linear(in_features=1024, out_features=256, bias=True)\n",
       "          (3): ReLU()\n",
       "          (4): Linear(in_features=256, out_features=1, bias=True)\n",
       "        )\n",
       "      )\n",
       "    )\n",
       "  )\n",
       "  (attn_head): VertexAttentionModule(\n",
       "    (model): GMEdgeNet(\n",
       "      (conv1): GMEdgeConv(\n",
       "        (mlp_topo): Sequential(\n",
       "          (0): Linear(in_features=6, out_features=64, bias=True)\n",
       "          (1): ReLU()\n",
       "          (2): Linear(in_features=64, out_features=64, bias=True)\n",
       "          (3): ReLU()\n",
       "        )\n",
       "        (mlp_geo): Sequential(\n",
       "          (0): Linear(in_features=6, out_features=64, bias=True)\n",
       "          (1): ReLU()\n",
       "          (2): Linear(in_features=64, out_features=64, bias=True)\n",
       "          (3): ReLU()\n",
       "        )\n",
       "        (mlp_fuse): Sequential(\n",
       "          (0): Linear(in_features=128, out_features=64, bias=True)\n",
       "          (1): ReLU()\n",
       "        )\n",
       "      )\n",
       "      (conv2): GMEdgeConv(\n",
       "        (mlp_topo): Sequential(\n",
       "          (0): Linear(in_features=128, out_features=256, bias=True)\n",
       "          (1): ReLU()\n",
       "          (2): Linear(in_features=256, out_features=256, bias=True)\n",
       "          (3): ReLU()\n",
       "        )\n",
       "        (mlp_geo): Sequential(\n",
       "          (0): Linear(in_features=128, out_features=256, bias=True)\n",
       "          (1): ReLU()\n",
       "          (2): Linear(in_features=256, out_features=256, bias=True)\n",
       "          (3): ReLU()\n",
       "        )\n",
       "        (mlp_fuse): Sequential(\n",
       "          (0): Linear(in_features=512, out_features=256, bias=True)\n",
       "          (1): ReLU()\n",
       "        )\n",
       "      )\n",
       "      (conv3): GMEdgeConv(\n",
       "        (mlp_topo): Sequential(\n",
       "          (0): Linear(in_features=512, out_features=512, bias=True)\n",
       "          (1): ReLU()\n",
       "          (2): Linear(in_features=512, out_features=512, bias=True)\n",
       "          (3): ReLU()\n",
       "        )\n",
       "        (mlp_geo): Sequential(\n",
       "          (0): Linear(in_features=512, out_features=512, bias=True)\n",
       "          (1): ReLU()\n",
       "          (2): Linear(in_features=512, out_features=512, bias=True)\n",
       "          (3): ReLU()\n",
       "        )\n",
       "        (mlp_fuse): Sequential(\n",
       "          (0): Linear(in_features=1024, out_features=512, bias=True)\n",
       "          (1): ReLU()\n",
       "        )\n",
       "      )\n",
       "      (global_mlp): Sequential(\n",
       "        (0): Linear(in_features=832, out_features=1024, bias=True)\n",
       "        (1): ReLU()\n",
       "      )\n",
       "      (head): Sequential(\n",
       "        (0): Linear(in_features=1859, out_features=1024, bias=True)\n",
       "        (1): ReLU()\n",
       "        (2): Linear(in_features=1024, out_features=256, bias=True)\n",
       "        (3): ReLU()\n",
       "        (4): Linear(in_features=256, out_features=1, bias=True)\n",
       "      )\n",
       "    )\n",
       "  )\n",
       "  (disp_head): JointDisplacementModule(\n",
       "    (model): GMEdgeNet(\n",
       "      (conv1): GMEdgeConv(\n",
       "        (mlp_topo): Sequential(\n",
       "          (0): Linear(in_features=6, out_features=64, bias=True)\n",
       "          (1): ReLU()\n",
       "          (2): Linear(in_features=64, out_features=64, bias=True)\n",
       "          (3): ReLU()\n",
       "        )\n",
       "        (mlp_geo): Sequential(\n",
       "          (0): Linear(in_features=6, out_features=64, bias=True)\n",
       "          (1): ReLU()\n",
       "          (2): Linear(in_features=64, out_features=64, bias=True)\n",
       "          (3): ReLU()\n",
       "        )\n",
       "        (mlp_fuse): Sequential(\n",
       "          (0): Linear(in_features=128, out_features=64, bias=True)\n",
       "          (1): ReLU()\n",
       "        )\n",
       "      )\n",
       "      (conv2): GMEdgeConv(\n",
       "        (mlp_topo): Sequential(\n",
       "          (0): Linear(in_features=128, out_features=256, bias=True)\n",
       "          (1): ReLU()\n",
       "          (2): Linear(in_features=256, out_features=256, bias=True)\n",
       "          (3): ReLU()\n",
       "        )\n",
       "        (mlp_geo): Sequential(\n",
       "          (0): Linear(in_features=128, out_features=256, bias=True)\n",
       "          (1): ReLU()\n",
       "          (2): Linear(in_features=256, out_features=256, bias=True)\n",
       "          (3): ReLU()\n",
       "        )\n",
       "        (mlp_fuse): Sequential(\n",
       "          (0): Linear(in_features=512, out_features=256, bias=True)\n",
       "          (1): ReLU()\n",
       "        )\n",
       "      )\n",
       "      (conv3): GMEdgeConv(\n",
       "        (mlp_topo): Sequential(\n",
       "          (0): Linear(in_features=512, out_features=512, bias=True)\n",
       "          (1): ReLU()\n",
       "          (2): Linear(in_features=512, out_features=512, bias=True)\n",
       "          (3): ReLU()\n",
       "        )\n",
       "        (mlp_geo): Sequential(\n",
       "          (0): Linear(in_features=512, out_features=512, bias=True)\n",
       "          (1): ReLU()\n",
       "          (2): Linear(in_features=512, out_features=512, bias=True)\n",
       "          (3): ReLU()\n",
       "        )\n",
       "        (mlp_fuse): Sequential(\n",
       "          (0): Linear(in_features=1024, out_features=512, bias=True)\n",
       "          (1): ReLU()\n",
       "        )\n",
       "      )\n",
       "      (global_mlp): Sequential(\n",
       "        (0): Linear(in_features=832, out_features=1024, bias=True)\n",
       "        (1): ReLU()\n",
       "      )\n",
       "      (head): Sequential(\n",
       "        (0): Linear(in_features=1859, out_features=1024, bias=True)\n",
       "        (1): ReLU()\n",
       "        (2): Linear(in_features=1024, out_features=256, bias=True)\n",
       "        (3): ReLU()\n",
       "        (4): Linear(in_features=256, out_features=3, bias=True)\n",
       "      )\n",
       "    )\n",
       "  )\n",
       "  (clustering_head): MeanShiftClusterer()\n",
       ")"
      ]
     },
     "execution_count": 48,
     "metadata": {},
     "output_type": "execute_result"
    }
   ],
   "source": [
    "model = JointNet(edge_dropout=0)\n",
    "device = 'cpu'\n",
    "model.to(device)"
   ]
  },
  {
   "cell_type": "markdown",
   "id": "43230331",
   "metadata": {},
   "source": [
    "### Attention Module"
   ]
  },
  {
   "cell_type": "code",
   "execution_count": 72,
   "id": "206327af",
   "metadata": {},
   "outputs": [],
   "source": [
    "attn_module = VertexAttentionModule()"
   ]
  },
  {
   "cell_type": "code",
   "execution_count": 94,
   "id": "5628d412",
   "metadata": {},
   "outputs": [],
   "source": [
    "class SimpleAttentionModule(nn.Module):\n",
    "\n",
    "    def __init__(self):\n",
    "        super().__init__()\n",
    "        self.conv = GMEdgeConv(3, 64)\n",
    "        self.mlp = nn.Sequential(\n",
    "            nn.Linear(64, 256),\n",
    "            nn.ReLU(),\n",
    "            nn.Linear(256, 1)\n",
    "        )\n",
    "\n",
    "    def forward(self, vertices, one_ring, geodesic):\n",
    "        return self.mlp(self.conv(vertices, one_ring, geodesic))"
   ]
  },
  {
   "cell_type": "code",
   "execution_count": 95,
   "id": "ec321d8d",
   "metadata": {},
   "outputs": [],
   "source": [
    "simple_attn_module = SimpleAttentionModule()"
   ]
  },
  {
   "cell_type": "code",
   "execution_count": 96,
   "id": "a47786dd",
   "metadata": {},
   "outputs": [
    {
     "data": {
      "text/plain": [
       "(0.2964, 2.3738191632928474)"
      ]
     },
     "execution_count": 96,
     "metadata": {},
     "output_type": "execute_result"
    }
   ],
   "source": [
    "POS_ATTN_AVG, (1 - POS_ATTN_AVG) / POS_ATTN_AVG"
   ]
  },
  {
   "cell_type": "code",
   "execution_count": null,
   "id": "4bea32f1",
   "metadata": {},
   "outputs": [],
   "source": [
    "epochs = 10000\n",
    "lr = 1e-4\n",
    "wd = 0\n",
    "optimizer = torch.optim.AdamW(attn_module.parameters(), lr=lr, weight_decay=wd)\n",
    "pos_cls_weight = torch.tensor((1 - POS_ATTN_AVG) / POS_ATTN_AVG)\n",
    "criterion = nn.BCEWithLogitsLoss(pos_weight=pos_cls_weight)"
   ]
  },
  {
   "cell_type": "code",
   "execution_count": null,
   "id": "3ec5b087",
   "metadata": {},
   "outputs": [],
   "source": [
    "loss_over_epochs = []\n",
    "for epoch in range(1, epochs+1):\n",
    "    model.train()\n",
    "    epoch_loss = 0.0\n",
    "    total_batches = 0\n",
    "    for batch in tqdm(dl, desc=f\"Epoch {epoch}/{epochs}\"):\n",
    "\n",
    "        batch_size = batch['vertices_per_graph'].size(0)\n",
    "\n",
    "        logits = attn_module(\n",
    "            batch['vertices'],\n",
    "            batch['one_ring'],\n",
    "            batch['geodesic']\n",
    "        ).squeeze()\n",
    "        loss = criterion(logits, batch['attn_mask'])\n",
    "\n",
    "        optimizer.zero_grad()\n",
    "        loss.backward()\n",
    "        optimizer.step()\n",
    "\n",
    "        epoch_loss += loss.item()\n",
    "        total_batches += 1\n",
    "    epoch_loss /= total_batches\n",
    "\n",
    "    loss_over_epochs.append(epoch_loss)\n",
    "    print(f\"[Epoch {epoch}] loss={epoch_loss:.4f}\")\n",
    "\n",
    "\n",
    "plt.figure()\n",
    "plt.semilogy(loss_over_epochs)\n",
    "plt.title(\"Loss over epochs\")\n",
    "plt.xlabel(\"Epochs\")\n",
    "plt.ylabel(\"Loss\")\n",
    "plt.show()"
   ]
  },
  {
   "cell_type": "code",
   "execution_count": null,
   "id": "8f25cb80",
   "metadata": {},
   "outputs": [
    {
     "name": "stdout",
     "output_type": "stream",
     "text": [
      "Accuracy: 0.7856313257010121\n",
      "[[3085 1206]\n",
      " [  86 1650]]\n",
      "(array([0.97287922, 0.57773109]), array([0.71894663, 0.95046083]), array([0.82685607, 0.71864111]), array([4291, 1736]))\n",
      "[0.28803717 0.28808497 0.28813278 ... 1.         1.         1.        ] [1.00000000e+00 1.00000000e+00 1.00000000e+00 ... 1.15207373e-03\n",
      " 5.76036866e-04 0.00000000e+00] [4.6119442e-09 4.7155084e-09 4.9911062e-09 ... 9.0871954e-01 9.0877271e-01\n",
      " 9.1100729e-01]\n",
      "---\n",
      "Accuracy: 0.796368989205103\n",
      "[[2144  728]\n",
      " [ 102 1102]]\n",
      "(array([0.95458593, 0.60218579]), array([0.74651811, 0.91528239]), array([0.83782728, 0.72643375]), array([2872, 1204]))\n",
      "[0.29538763 0.29546012 0.29553265 ... 0.         0.         1.        ] [1. 1. 1. ... 0. 0. 0.] [3.7196120e-08 4.7328566e-08 5.8347972e-08 ... 8.8959098e-01 8.9509565e-01\n",
      " 8.9601529e-01]\n",
      "---\n"
     ]
    }
   ],
   "source": [
    "for batch in dl:\n",
    "    attn_pred_probs = F.sigmoid(attn_module(\n",
    "        batch['vertices'],\n",
    "        batch['one_ring'],\n",
    "        batch['geodesic']\n",
    "    ).squeeze())\n",
    "    attn_preds = (attn_pred_probs >= 0.5).long()\n",
    "\n",
    "    attn_pred_probs = attn_pred_probs.detach().numpy()\n",
    "\n",
    "    print(\"Accuracy:\", accuracy_score(batch['attn_mask'], attn_preds))\n",
    "    print(confusion_matrix(batch['attn_mask'], attn_preds, labels=[0, 1]))\n",
    "\n",
    "    # We want high recall for the positive class. \n",
    "    # High precision as well of course, but we would rather incorrectly predict more masked vertices than not\n",
    "    print(precision_recall_fscore_support(batch['attn_mask'], attn_preds, labels=[0, 1]))\n",
    "\n",
    "    precision, recall, thresh = precision_recall_curve(batch['attn_mask'], attn_pred_probs)\n",
    "    print(precision, recall, thresh)\n",
    "\n",
    "    # prepare the staggered, concatenated scene\n",
    "    # Do it in numpy from the get-go\n",
    "    verts = batch['vertices'].detach().clone()\n",
    "    edges = batch['one_ring'].T.detach()\n",
    "\n",
    "    vpg = batch['vertices_per_graph']\n",
    "\n",
    "    vertex_splits = torch.split(torch.arange(verts.size(0)), vpg.tolist())\n",
    "\n",
    "    # We also need the joint counts per graph to split all_joints\n",
    "    all_joints = torch.cat(batch['joints_list']).detach().clone()\n",
    "    jp_counts = [j.size(0) for j in batch['joints_list']]\n",
    "    joint_splits = torch.split(torch.arange(all_joints.size(0)), jp_counts)\n",
    "\n",
    "    delta = 0.7\n",
    "    for i, (v_idxs, j_idxs) in enumerate(zip(vertex_splits, joint_splits)):\n",
    "        # add z-offset\n",
    "        verts[v_idxs, 2] += i * delta\n",
    "        all_joints[j_idxs, 2] += i * delta\n",
    "\n",
    "    print(\"---\")\n",
    "\n",
    "    visualize_attention_heatmap(\n",
    "        verts=verts.numpy(),\n",
    "        edges=edges.numpy(),\n",
    "        attn_pred=attn_pred_probs,\n",
    "        joints_gt=all_joints,\n",
    "        color_low=np.array([0.0, 0.0, 1.0]),\n",
    "        color_high=np.array([0.0, 1.0, 0.0])\n",
    "    )"
   ]
  },
  {
   "cell_type": "markdown",
   "id": "16e381dd",
   "metadata": {},
   "source": [
    "Lower learning rate is more favorable for increasing number of meshes"
   ]
  },
  {
   "cell_type": "markdown",
   "id": "dc67a94f",
   "metadata": {},
   "source": [
    "### Displacement Head Only"
   ]
  },
  {
   "cell_type": "code",
   "execution_count": 57,
   "id": "a82b4620",
   "metadata": {},
   "outputs": [],
   "source": [
    "m1 = JointNet()"
   ]
  },
  {
   "cell_type": "code",
   "execution_count": 58,
   "id": "41581994",
   "metadata": {},
   "outputs": [
    {
     "ename": "AttributeError",
     "evalue": "'JointNet' object has no attribute 'disp_head_parameters'",
     "output_type": "error",
     "traceback": [
      "\u001b[31m---------------------------------------------------------------------------\u001b[39m",
      "\u001b[31mAttributeError\u001b[39m                            Traceback (most recent call last)",
      "\u001b[36mCell\u001b[39m\u001b[36m \u001b[39m\u001b[32mIn[58]\u001b[39m\u001b[32m, line 5\u001b[39m\n\u001b[32m      3\u001b[39m lr = \u001b[32m1e-4\u001b[39m\n\u001b[32m      4\u001b[39m wd = \u001b[32m1e-6\u001b[39m\n\u001b[32m----> \u001b[39m\u001b[32m5\u001b[39m optimizer = torch.optim.AdamW(\u001b[43mm1\u001b[49m\u001b[43m.\u001b[49m\u001b[43mdisp_head_parameters\u001b[49m(), lr=lr, weight_decay=wd)\n",
      "\u001b[36mFile \u001b[39m\u001b[32m~/Documents/cs/lib/pytorch-venv-3.11.11/lib/python3.11/site-packages/torch/nn/modules/module.py:1928\u001b[39m, in \u001b[36mModule.__getattr__\u001b[39m\u001b[34m(self, name)\u001b[39m\n\u001b[32m   1926\u001b[39m     \u001b[38;5;28;01mif\u001b[39;00m name \u001b[38;5;129;01min\u001b[39;00m modules:\n\u001b[32m   1927\u001b[39m         \u001b[38;5;28;01mreturn\u001b[39;00m modules[name]\n\u001b[32m-> \u001b[39m\u001b[32m1928\u001b[39m \u001b[38;5;28;01mraise\u001b[39;00m \u001b[38;5;167;01mAttributeError\u001b[39;00m(\n\u001b[32m   1929\u001b[39m     \u001b[33mf\u001b[39m\u001b[33m\"\u001b[39m\u001b[33m'\u001b[39m\u001b[38;5;132;01m{\u001b[39;00m\u001b[38;5;28mtype\u001b[39m(\u001b[38;5;28mself\u001b[39m).\u001b[34m__name__\u001b[39m\u001b[38;5;132;01m}\u001b[39;00m\u001b[33m'\u001b[39m\u001b[33m object has no attribute \u001b[39m\u001b[33m'\u001b[39m\u001b[38;5;132;01m{\u001b[39;00mname\u001b[38;5;132;01m}\u001b[39;00m\u001b[33m'\u001b[39m\u001b[33m\"\u001b[39m\n\u001b[32m   1930\u001b[39m )\n",
      "\u001b[31mAttributeError\u001b[39m: 'JointNet' object has no attribute 'disp_head_parameters'"
     ]
    }
   ],
   "source": [
    "# disp head\n",
    "epochs = 100\n",
    "lr = 1e-4\n",
    "wd = 1e-6\n",
    "optimizer = torch.optim.AdamW(m1.disp_head_parameters(), lr=lr, weight_decay=wd)"
   ]
  },
  {
   "cell_type": "markdown",
   "id": "25f461ac",
   "metadata": {},
   "source": [
    "### Full Model\n",
    "\n",
    "Two losses: chamfer loss between joints_gt and both q_pred and joints_pred\n",
    "- L_disp (q_pred) only affects displacement module parameters. \n",
    "- L_disp + L_joint affects all params\n",
    "\n",
    "q_pred needs to be unbatched. joints_pred and joints_gt are already lists of tensors.\n",
    "Then we loop over each graph and calculate the batch avg. loss and perform backprop."
   ]
  },
  {
   "cell_type": "code",
   "execution_count": 30,
   "id": "de0f4c3f",
   "metadata": {},
   "outputs": [],
   "source": [
    "from training_utils import chamfer_loss\n",
    "\n",
    "def combined_displacement_joint_chamfer_loss(\n",
    "    q_pred: torch.Tensor,\n",
    "    joints_pred_list: list[torch.Tensor],\n",
    "    joints_gt_list: list[torch.Tensor],\n",
    "    vertices_per_graph: torch.Tensor,\n",
    "    device: str = 'cpu'\n",
    "):\n",
    "    \"\"\"\n",
    "        Compute average Chamfer losses per graph:\n",
    "        - L_disp: between displaced vertices q_b and ground-truth joints\n",
    "        - L_joint: between clustered joint preds and ground-truth joints\n",
    "\n",
    "        Args:\n",
    "            q_pred:     [Sum_N, 3] tensor of displaced vertices for all graphs\n",
    "            joints_pred_list: list of length M, each [Ki, 3] tensor\n",
    "            joints_gt_list:   list of length M, each [Ji, 3] tensor\n",
    "            vertices_per_graph: 1D tensor of length M = number of vertices per graph\n",
    "            device: \"cpu\" or \"cuda\"\n",
    "\n",
    "        Returns:\n",
    "            (L_disp_avg, L_joint_avg): two scalar tensors\n",
    "        \"\"\"\n",
    "    \n",
    "    # Build splits of the big batch back into graph‐specific vertex indices\n",
    "    splits = torch.split(\n",
    "        torch.arange(q_pred.size(0), device=device),\n",
    "        vertices_per_graph.to(device).tolist()\n",
    "    )\n",
    "\n",
    "    disp_losses = []\n",
    "    joint_losses = []\n",
    "\n",
    "    for idxs, joints_pred, joints_gt in zip(splits, joints_pred_list, joints_gt_list):\n",
    "            # vertices for this graph\n",
    "            q_b = q_pred[idxs] # [Ni, 3]\n",
    "            # ensure gt is on the right devic\n",
    "            joints_gt = joints_gt.to(device) # [Ji, 3]\n",
    "            joints_pred = joints_pred.to(device)  # [Ki, 3]\n",
    "\n",
    "            # Chamfer between displaced vertices and true joints\n",
    "            Ld = chamfer_loss(q_b, joints_gt)\n",
    "            # Chamfer between clustered joints and true joints\n",
    "            Lj = chamfer_loss(joints_pred, joints_gt)\n",
    "\n",
    "            disp_losses.append(Ld)\n",
    "            joint_losses.append(Lj)\n",
    "    \n",
    "    # average across graphs\n",
    "    L_disp_avg  = torch.stack(disp_losses).mean()\n",
    "    L_joint_avg = torch.stack(joint_losses).mean()\n",
    "    return L_disp_avg, L_joint_avg"
   ]
  },
  {
   "cell_type": "code",
   "execution_count": 51,
   "id": "360dbb11",
   "metadata": {},
   "outputs": [],
   "source": [
    "model.to(device)\n",
    "lr = 1e-4\n",
    "wd = 1e-5\n",
    "epochs = 10\n",
    "optimizer = torch.optim.AdamW(model.parameters(), lr=lr, weight_decay=wd)"
   ]
  },
  {
   "cell_type": "code",
   "execution_count": 52,
   "id": "91b95af0",
   "metadata": {},
   "outputs": [
    {
     "name": "stderr",
     "output_type": "stream",
     "text": [
      "Epoch 1/10: 100%|██████████| 2/2 [00:15<00:00,  7.56s/it]\n"
     ]
    },
    {
     "name": "stdout",
     "output_type": "stream",
     "text": [
      "[Epoch 1] total=5.7803e-01, disp=3.5230e-01, joint=2.2573e-01\n"
     ]
    },
    {
     "name": "stderr",
     "output_type": "stream",
     "text": [
      "Epoch 2/10: 100%|██████████| 2/2 [00:13<00:00,  6.83s/it]\n"
     ]
    },
    {
     "name": "stdout",
     "output_type": "stream",
     "text": [
      "[Epoch 2] total=5.5223e-01, disp=3.3006e-01, joint=2.2217e-01\n"
     ]
    },
    {
     "name": "stderr",
     "output_type": "stream",
     "text": [
      "Epoch 3/10: 100%|██████████| 2/2 [00:13<00:00,  6.97s/it]\n"
     ]
    },
    {
     "name": "stdout",
     "output_type": "stream",
     "text": [
      "[Epoch 3] total=5.2875e-01, disp=3.0500e-01, joint=2.2375e-01\n"
     ]
    },
    {
     "name": "stderr",
     "output_type": "stream",
     "text": [
      "Epoch 4/10: 100%|██████████| 2/2 [00:14<00:00,  7.01s/it]\n"
     ]
    },
    {
     "name": "stdout",
     "output_type": "stream",
     "text": [
      "[Epoch 4] total=5.1040e-01, disp=2.8449e-01, joint=2.2591e-01\n"
     ]
    },
    {
     "name": "stderr",
     "output_type": "stream",
     "text": [
      "Epoch 5/10: 100%|██████████| 2/2 [00:14<00:00,  7.11s/it]\n"
     ]
    },
    {
     "name": "stdout",
     "output_type": "stream",
     "text": [
      "[Epoch 5] total=4.9586e-01, disp=2.7384e-01, joint=2.2202e-01\n"
     ]
    },
    {
     "name": "stderr",
     "output_type": "stream",
     "text": [
      "Epoch 6/10: 100%|██████████| 2/2 [00:13<00:00,  6.58s/it]\n"
     ]
    },
    {
     "name": "stdout",
     "output_type": "stream",
     "text": [
      "[Epoch 6] total=4.8932e-01, disp=2.6759e-01, joint=2.2173e-01\n"
     ]
    },
    {
     "name": "stderr",
     "output_type": "stream",
     "text": [
      "Epoch 7/10: 100%|██████████| 2/2 [00:14<00:00,  7.16s/it]\n"
     ]
    },
    {
     "name": "stdout",
     "output_type": "stream",
     "text": [
      "[Epoch 7] total=4.8046e-01, disp=2.5826e-01, joint=2.2220e-01\n"
     ]
    },
    {
     "name": "stderr",
     "output_type": "stream",
     "text": [
      "Epoch 8/10: 100%|██████████| 2/2 [00:14<00:00,  7.07s/it]\n"
     ]
    },
    {
     "name": "stdout",
     "output_type": "stream",
     "text": [
      "[Epoch 8] total=4.7107e-01, disp=2.5206e-01, joint=2.1901e-01\n"
     ]
    },
    {
     "name": "stderr",
     "output_type": "stream",
     "text": [
      "Epoch 9/10: 100%|██████████| 2/2 [00:13<00:00,  6.85s/it]\n"
     ]
    },
    {
     "name": "stdout",
     "output_type": "stream",
     "text": [
      "[Epoch 9] total=4.6933e-01, disp=2.5329e-01, joint=2.1604e-01\n"
     ]
    },
    {
     "name": "stderr",
     "output_type": "stream",
     "text": [
      "Epoch 10/10: 100%|██████████| 2/2 [00:13<00:00,  6.96s/it]"
     ]
    },
    {
     "name": "stdout",
     "output_type": "stream",
     "text": [
      "[Epoch 10] total=4.5889e-01, disp=2.5479e-01, joint=2.0409e-01\n"
     ]
    },
    {
     "name": "stderr",
     "output_type": "stream",
     "text": [
      "\n"
     ]
    }
   ],
   "source": [
    "total_loss_history, disp_loss_history, joint_loss_history = [], [], []\n",
    "\n",
    "for epoch in range(1, epochs+1):\n",
    "    model.train()\n",
    "    running_total = running_disp = running_joint = 0.0\n",
    "    n_batches = 0\n",
    "\n",
    "    for batch in tqdm(dl, desc=f\"Epoch {epoch}/{epochs}\"):\n",
    "        # Move batch to device\n",
    "        for k in (\"vertices\", \"one_ring\", \"geodesic\", \"vertices_per_graph\"):\n",
    "            batch[k] = batch[k].to(device)\n",
    "\n",
    "        # Displacements\n",
    "        q_pred = model.disp_head_forward(batch)\n",
    "\n",
    "        # Joint predictions\n",
    "        joints_pred_list = model(batch)\n",
    "\n",
    "        # Compute losses\n",
    "        L_disp, L_joint = combined_displacement_joint_chamfer_loss(\n",
    "            q_pred,\n",
    "            joints_pred_list,\n",
    "            batch[\"joints_list\"],\n",
    "            batch[\"vertices_per_graph\"],\n",
    "            device=device\n",
    "        )\n",
    "        loss = L_disp + L_joint\n",
    "\n",
    "        # Backprop\n",
    "        optimizer.zero_grad()\n",
    "        loss.backward()\n",
    "        optimizer.step()\n",
    "\n",
    "        running_total += loss.item()\n",
    "        running_disp += L_disp.item()\n",
    "        running_joint += L_joint.item()\n",
    "        n_batches += 1\n",
    "\n",
    "    # Compute epoch averages\n",
    "    avg_total = running_total / n_batches\n",
    "    avg_disp  = running_disp  / n_batches\n",
    "    avg_joint = running_joint / n_batches\n",
    "\n",
    "    total_loss_history.append(avg_total)\n",
    "    disp_loss_history.append(avg_disp)\n",
    "    joint_loss_history.append(avg_joint)\n",
    "\n",
    "    print(f\"[Epoch {epoch}] total={avg_total:.4e}, disp={avg_disp:.4e}, joint={avg_joint:.4e}\")\n"
   ]
  },
  {
   "cell_type": "code",
   "execution_count": 53,
   "id": "456ae47b",
   "metadata": {},
   "outputs": [
    {
     "data": {
      "image/png": "[encoded data removed]",
      "text/plain": [
       "<Figure size 1500x400 with 3 Axes>"
      ]
     },
     "metadata": {},
     "output_type": "display_data"
    }
   ],
   "source": [
    "epochs_range = range(1, epochs+1)\n",
    "\n",
    "# Create a single figure with 3 subplots side by side\n",
    "fig, axes = plt.subplots(nrows=1, ncols=3, figsize=(15, 4), tight_layout=True)\n",
    "\n",
    "# Total loss\n",
    "axes[0].semilogy(epochs_range, total_loss_history, marker='o')\n",
    "axes[0].set_title(\"Total Loss\")\n",
    "axes[0].set_xlabel(\"Epoch\")\n",
    "axes[0].set_ylabel(\"Average Total Loss\")\n",
    "\n",
    "# Displacement loss\n",
    "axes[1].semilogy(epochs_range, disp_loss_history, marker='o')\n",
    "axes[1].set_title(\"Displacement Chamfer Loss\")\n",
    "axes[1].set_xlabel(\"Epoch\")\n",
    "axes[1].set_ylabel(\"Average Disp Loss\")\n",
    "\n",
    "# Joint loss\n",
    "axes[2].semilogy(epochs_range, joint_loss_history, marker='o')\n",
    "axes[2].set_title(\"Joint Chamfer Loss\")\n",
    "axes[2].set_xlabel(\"Epoch\")\n",
    "axes[2].set_ylabel(\"Average Joint Loss\")\n",
    "\n",
    "plt.show()"
   ]
  },
  {
   "cell_type": "code",
   "execution_count": 54,
   "id": "c8b38d68",
   "metadata": {},
   "outputs": [],
   "source": [
    "model.clustering_head.h = 0.067 # Rignet ideal\n",
    "model.eval()\n",
    "\n",
    "for batch in dl:\n",
    "    verts = batch['vertices'].detach().clone()\n",
    "    edges = batch['one_ring'].T.detach()\n",
    "    vpg = batch['vertices_per_graph']\n",
    "\n",
    "    vertex_splits = torch.split(torch.arange(verts.size(0)), vpg.tolist())\n",
    "\n",
    "    joints_pred_list = model(batch)\n",
    "    joints_gt_list = batch['joints_list']\n",
    "\n",
    "    all_joints_gt = torch.cat(joints_gt_list).detach().clone()\n",
    "    joints_gt_counts = [j.size(0) for j in joints_gt_list]\n",
    "    joint_gt_splits = torch.split(torch.arange(all_joints_gt.size(0)), joints_gt_counts)\n",
    "\n",
    "    all_joints_pred = torch.cat(joints_pred_list).detach().clone()\n",
    "    joints_pred_counts = [j.size(0) for j in joints_pred_list]\n",
    "    joints_pred_splits = torch.split(torch.arange(all_joints_pred.size(0)), joints_pred_counts)\n",
    "\n",
    "    delta = 0.7\n",
    "    for i, (v_idxs, j_gt_idxs, j_pred_idxs) in \\\n",
    "        enumerate(zip(vertex_splits, joint_gt_splits, joints_pred_splits)):\n",
    "        # add z-offset\n",
    "        verts[v_idxs, 2] += i * delta\n",
    "        all_joints_gt[j_gt_idxs, 2] += i * delta\n",
    "        all_joints_pred[j_pred_idxs, 2] += i * delta\n",
    "\n",
    "\n",
    "    visualize_mesh_graph(\n",
    "        vertices=verts.numpy(),\n",
    "        edge_list=edges.numpy(),\n",
    "        joints_gt=all_joints_gt.detach().numpy(),\n",
    "        joints_pred=all_joints_pred.detach().numpy()\n",
    "    )"
   ]
  },
  {
   "cell_type": "code",
   "execution_count": null,
   "id": "9c89b1d3",
   "metadata": {},
   "outputs": [],
   "source": []
  }
 ],
 "metadata": {
  "kernelspec": {
   "display_name": "pytorch-venv-3.11.11",
   "language": "python",
   "name": "python3"
  },
  "language_info": {
   "codemirror_mode": {
    "name": "ipython",
    "version": 3
   },
   "file_extension": ".py",
   "mimetype": "text/x-python",
   "name": "python",
   "nbconvert_exporter": "python",
   "pygments_lexer": "ipython3",
   "version": "3.11.11"
  }
 },
 "nbformat": 4,
 "nbformat_minor": 5
}
