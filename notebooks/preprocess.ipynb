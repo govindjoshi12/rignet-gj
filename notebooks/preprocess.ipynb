{
 "cells": [
  {
   "cell_type": "markdown",
   "id": "2ad3aa4d",
   "metadata": {},
   "source": [
    "### Preprocessing for Rignet Data\n",
    "\n",
    "In this notebook, we process the input meshes into two mesh-graphs represented as adjacency lists. The first mesh graph contains the one-ring neighborhood as the edges of each vertex, and the second mesh graph contains the geodesic neighbord of the edges of each vertex. "
   ]
  },
  {
   "cell_type": "code",
   "execution_count": 1,
   "id": "a71e83da",
   "metadata": {},
   "outputs": [],
   "source": [
    "import sys\n",
    "sys.path.insert(1, '../utils')"
   ]
  },
  {
   "cell_type": "code",
   "execution_count": 9,
   "id": "2c20b58f",
   "metadata": {},
   "outputs": [],
   "source": [
    "import os\n",
    "import glob\n",
    "import numpy as np\n",
    "from collections import defaultdict\n",
    "from tqdm import tqdm\n",
    "import pickle\n",
    "import heapq\n",
    "import open3d as o3d\n",
    "import trimesh\n",
    "from mesh_utils import load_and_preprocess_mesh"
   ]
  },
  {
   "cell_type": "code",
   "execution_count": null,
   "id": "9ad7afa6",
   "metadata": {},
   "outputs": [],
   "source": [
    "def convert_mesh_to_graph(obj_path: str):\n",
    "    \"\"\"\n",
    "    Reads an obj file and converts it to:\n",
    "      - vertices: list of (x,y,z) coords\n",
    "      - adjacency: dict mapping vertex index to list of (neighbor_index, distance)\n",
    "    \n",
    "    We first collect all 'v ' lines into `vertices`, and all 'f ' lines into `faces` as\n",
    "    lists of integer vertex indices. Then we build the adjacency.\n",
    "\n",
    "    return dictionary G = {\n",
    "        \"obj_path\": obj_path,\n",
    "        \"vertices\": vertices,\n",
    "        \"one_ring_distances\": adjaceny dict of tuples (node, distance),\n",
    "        \"one_ring\": edge list\n",
    "    }\n",
    "    \"\"\"\n",
    "\n",
    "    mesh, centroid = load_and_preprocess_mesh(obj_path,\n",
    "                                              min_verts=1000,\n",
    "                                              min_tris=1000,\n",
    "                                              max_tris=8000)\n",
    "\n",
    "    vertices = np.asarray(mesh.vertices)\n",
    "    faces = np.asarray(mesh.faces)\n",
    "    adjacency = defaultdict(list)\n",
    "    \n",
    "    # build adjacency from faces\n",
    "    total_edge_lengths = 0.0\n",
    "    num_edges = 0\n",
    "    for idxs in faces:\n",
    "        # assume triangular faces\n",
    "        n = len(idxs)\n",
    "        for j in range(n):\n",
    "            u = idxs[j]\n",
    "            v = idxs[(j + 1) % n]\n",
    "            dist = np.linalg.norm(np.subtract(vertices[u], vertices[v]))\n",
    "            total_edge_lengths += dist\n",
    "            num_edges += 1\n",
    "            adjacency[u].append((v, float(dist)))\n",
    "            adjacency[v].append((u, float(dist)))\n",
    "    \n",
    "    # compute mean edge length\n",
    "    mean_edge_length = (total_edge_lengths / num_edges) if num_edges else 0.0\n",
    "    \n",
    "    # deduplicate each adjacency list\n",
    "    # Edge List (actually used by the network)\n",
    "\n",
    "    edge_list = []\n",
    "    for node, nbrs in adjacency.items():\n",
    "        unique_nbrs = list(set(nbrs))\n",
    "        adjacency[node] = unique_nbrs\n",
    "        edge_list += [[node, nbr[0]] for nbr in unique_nbrs]\n",
    "\n",
    "    # Add a self‑edge [i, i] for every vertex\n",
    "    # to deal with max pooling edge cases\n",
    "    for i in range(len(vertices)):\n",
    "        edge_list.append([i, i])\n",
    "\n",
    "    # G = (V, E)\n",
    "    G = {\n",
    "        \"vertices\": vertices,\n",
    "        \"num_faces\": len(faces),\n",
    "        \"one_ring_distances\": dict(adjacency),\n",
    "        \"one_ring\": edge_list,\n",
    "        \"centroid\": centroid\n",
    "    }\n",
    "\n",
    "    return G\n",
    "\n"
   ]
  },
  {
   "cell_type": "markdown",
   "id": "d62948a4",
   "metadata": {},
   "source": [
    "### Geodesic Neighbors"
   ]
  },
  {
   "cell_type": "code",
   "execution_count": 11,
   "id": "77e8ffab",
   "metadata": {},
   "outputs": [],
   "source": [
    "def get_geodesic_adjacency_graph_from_mesh_graph(\n",
    "    adjacency_distances: dict[int, list[tuple[int, float]]],\n",
    "    geodesic_distance: float = 0.06\n",
    "):\n",
    "    \"\"\"\n",
    "    Given:\n",
    "      adjacency: dict[node] -> list of (neighbor, edge_length)\n",
    "      geodesic_distance: maximum path-length to consider\n",
    "    \n",
    "    Returns:\n",
    "      edge_list\n",
    "    \"\"\"\n",
    "    geodesic_edge_dict: dict[int, list[int]] = {}\n",
    "\n",
    "    # For each start node, run a Dijkstra‐like expansion until distance > threshold\n",
    "    for start in adjacency_distances:\n",
    "        # min‐heap of (cum_distance, node)\n",
    "        heap: list[tuple[float, int]] = [(0.0, start)]\n",
    "        visited_dist: dict[int, float] = {start: 0.0}\n",
    "        \n",
    "        while heap:\n",
    "            cum_dist, node = heapq.heappop(heap)\n",
    "            # if this popped entry is stale (we found a shorter path before), skip\n",
    "            if cum_dist > visited_dist[node]:\n",
    "                continue\n",
    "            # explore neighbors\n",
    "            for nbr, edge_len in adjacency_distances[node]:\n",
    "                new_dist = cum_dist + edge_len\n",
    "                # if within threshold and either unvisited or found shorter path\n",
    "                if new_dist <= geodesic_distance and (nbr not in visited_dist or new_dist < visited_dist[nbr]):\n",
    "                    visited_dist[nbr] = new_dist\n",
    "                    heapq.heappush(heap, (new_dist, nbr))\n",
    "        \n",
    "        # All visited_dist.keys() (excluding the start itself, if desired) are within the radius\n",
    "        # We’ll include the start too, since geodesic radius 0 includes itself\n",
    "        geodesic_edge_dict[start] = list(visited_dist.keys())\n",
    "\n",
    "    edge_list = []\n",
    "    for node, nbrs in geodesic_edge_dict.items():\n",
    "        edge_list += [[node, nbr] for nbr in nbrs]\n",
    "\n",
    "    return edge_list\n"
   ]
  },
  {
   "cell_type": "markdown",
   "id": "b50a49c1",
   "metadata": {},
   "source": [
    "### Label Lists (Joint Locations)"
   ]
  },
  {
   "cell_type": "code",
   "execution_count": 12,
   "id": "67f22278",
   "metadata": {},
   "outputs": [],
   "source": [
    "def get_joint_locations(rig_path, centroid):\n",
    "    # extraxt join locations\n",
    "    # disregard bone info. Only want joint locations\n",
    "    joints = []\n",
    "    with open(rig_path, \"r\") as f:\n",
    "        tokens = f.readline().split()\n",
    "        while(tokens[0] == \"joints\"):\n",
    "            joints.append(list(map(float, tokens[2:])))\n",
    "            tokens = f.readline().split()\n",
    "\n",
    "    joints = np.array(joints) - centroid\n",
    "    \n",
    "    return joints"
   ]
  },
  {
   "cell_type": "markdown",
   "id": "841c5118",
   "metadata": {},
   "source": [
    "### Attention Masks"
   ]
  },
  {
   "cell_type": "code",
   "execution_count": 13,
   "id": "90c72503",
   "metadata": {},
   "outputs": [],
   "source": [
    "def get_attn_mask(attn_mask_path):\n",
    "    with open(attn_mask_path, \"r\") as f:\n",
    "        mask = list(map(int, f.read().splitlines()))\n",
    "    return np.array(mask)"
   ]
  },
  {
   "cell_type": "markdown",
   "id": "c2003bb6",
   "metadata": {},
   "source": [
    "### Save Train, Test, and Dev Sets"
   ]
  },
  {
   "cell_type": "code",
   "execution_count": 14,
   "id": "c134a042",
   "metadata": {},
   "outputs": [],
   "source": [
    "data_root = \"../data/ModelResource_RigNetv1_preproccessed\"\n",
    "obj_folder = f'{data_root}/obj'\n",
    "rig_folder = f'{data_root}/rig_info'\n",
    "attn_mask_folder = f'{data_root}/attn_masks'\n",
    "\n",
    "mesh_graphs_folder = f'{data_root}/mesh_graphs'"
   ]
  },
  {
   "cell_type": "code",
   "execution_count": null,
   "id": "0b640d27",
   "metadata": {},
   "outputs": [
    {
     "name": "stderr",
     "output_type": "stream",
     "text": [
      "100%|██████████| 2163/2163 [04:49<00:00,  7.47it/s]\n"
     ]
    },
    {
     "name": "stdout",
     "output_type": "stream",
     "text": [
      "Saving to ../data/ModelResource_RigNetv1_preproccessed/mesh_graphs/train.pkl\n"
     ]
    },
    {
     "name": "stderr",
     "output_type": "stream",
     "text": [
      "100%|██████████| 270/270 [00:39<00:00,  6.91it/s]\n"
     ]
    },
    {
     "name": "stdout",
     "output_type": "stream",
     "text": [
      "Saving to ../data/ModelResource_RigNetv1_preproccessed/mesh_graphs/test.pkl\n"
     ]
    },
    {
     "name": "stderr",
     "output_type": "stream",
     "text": [
      "100%|██████████| 270/270 [00:36<00:00,  7.38it/s]"
     ]
    },
    {
     "name": "stdout",
     "output_type": "stream",
     "text": [
      "Saving to ../data/ModelResource_RigNetv1_preproccessed/mesh_graphs/val.pkl\n"
     ]
    },
    {
     "name": "stderr",
     "output_type": "stream",
     "text": [
      "\n"
     ]
    }
   ],
   "source": [
    "MAX_GEODESIC_DISTANCE = 0.06\n",
    "\n",
    "for training_split in ['train', 'test', 'val']:\n",
    "\n",
    "    training_split_file = f'{data_root}/{training_split}_final.txt'\n",
    "    with open(training_split_file, \"r\") as file:\n",
    "        mesh_indices = list(map(int, file.readlines()))\n",
    "\n",
    "    graph_list = []\n",
    "    for mesh_idx in tqdm(mesh_indices):\n",
    "        obj_path = f'{obj_folder}/{mesh_idx}.obj'\n",
    "        rig_path = f'{rig_folder}/{mesh_idx}.txt'\n",
    "        attn_mask_path = f'{attn_mask_folder}/{mesh_idx}.txt'\n",
    "\n",
    "\n",
    "        G = convert_mesh_to_graph(obj_path)\n",
    "\n",
    "        G['geodesic'] = get_geodesic_adjacency_graph_from_mesh_graph(\n",
    "            G['one_ring_distances'],\n",
    "            MAX_GEODESIC_DISTANCE\n",
    "        )\n",
    "        del G['one_ring_distances']\n",
    "        G['joints'] = get_joint_locations(rig_path, G['centroid'])\n",
    "        G['attn_mask'] = get_attn_mask(attn_mask_path)\n",
    "\n",
    "        # Reshape for convenience, and WAY faster\n",
    "        G['one_ring'] = np.asarray(G['one_ring']).T\n",
    "        G['geodesic'] = np.asarray(G['geodesic']).T\n",
    "\n",
    "        G[\"mesh_index\"] = mesh_idx\n",
    "        graph_list.append(G)\n",
    "    \n",
    "    training_split_mesh_graph_file = f'{mesh_graphs_folder}/{training_split}.pkl'\n",
    "    with open(training_split_mesh_graph_file, \"wb+\") as file:\n",
    "        pickle.dump(graph_list, file)\n",
    "        print(\"Saving to\", training_split_mesh_graph_file)"
   ]
  },
  {
   "cell_type": "markdown",
   "id": "1290666c",
   "metadata": {},
   "source": [
    "### Visualize Adjacency Lists"
   ]
  },
  {
   "cell_type": "code",
   "execution_count": 1,
   "id": "02acf2b2",
   "metadata": {},
   "outputs": [
    {
     "ename": "NameError",
     "evalue": "name 'np' is not defined",
     "output_type": "error",
     "traceback": [
      "\u001b[31m---------------------------------------------------------------------------\u001b[39m",
      "\u001b[31mNameError\u001b[39m                                 Traceback (most recent call last)",
      "\u001b[36mCell\u001b[39m\u001b[36m \u001b[39m\u001b[32mIn[1]\u001b[39m\u001b[32m, line 11\u001b[39m\n\u001b[32m      7\u001b[39m         spheres.append(sphere)\n\u001b[32m      9\u001b[39m     \u001b[38;5;28;01mreturn\u001b[39;00m spheres\n\u001b[32m---> \u001b[39m\u001b[32m11\u001b[39m \u001b[38;5;28;01mdef\u001b[39;00m\u001b[38;5;250m \u001b[39m\u001b[34mvisualize_mesh_graph\u001b[39m(vertices: \u001b[43mnp\u001b[49m.ndarray,\n\u001b[32m     12\u001b[39m                         edge_list: np.ndarray,\n\u001b[32m     13\u001b[39m                         joints_gt: np.ndarray = \u001b[38;5;28;01mNone\u001b[39;00m, \n\u001b[32m     14\u001b[39m                         mesh: o3d.geometry.TriangleMesh = \u001b[38;5;28;01mNone\u001b[39;00m):\n\u001b[32m     16\u001b[39m     pts = vertices.astype(dtype=np.float64)\n\u001b[32m     17\u001b[39m     lines = edge_list.astype(dtype=np.int32)\n",
      "\u001b[31mNameError\u001b[39m: name 'np' is not defined"
     ]
    }
   ],
   "source": [
    "def points_to_spheres(points, color=[0, 1, 1]):\n",
    "    spheres = []\n",
    "    for (x, y, z) in np.asarray(points):\n",
    "        sphere = o3d.geometry.TriangleMesh.create_sphere(radius=0.01)\n",
    "        sphere.translate((x, y, z))\n",
    "        sphere.paint_uniform_color(color)\n",
    "        spheres.append(sphere)\n",
    "    \n",
    "    return spheres\n",
    "\n",
    "def visualize_mesh_graph(vertices: np.ndarray,\n",
    "                        edge_list: np.ndarray,\n",
    "                        joints_gt: np.ndarray = None, \n",
    "                        mesh: o3d.geometry.TriangleMesh = None):\n",
    "\n",
    "    pts = vertices.astype(dtype=np.float64)\n",
    "    lines = edge_list.astype(dtype=np.int32)\n",
    "    \n",
    "    line_set = o3d.geometry.LineSet(\n",
    "        points=o3d.utility.Vector3dVector(pts),\n",
    "        lines=o3d.utility.Vector2iVector(lines)\n",
    "    )\n",
    "\n",
    "    colors = [[0.6, 0.6, 0.6] for _ in lines]\n",
    "    line_set.colors = o3d.utility.Vector3dVector(colors)\n",
    "    \n",
    "    to_draw = []\n",
    "    to_draw.append(line_set)\n",
    "\n",
    "    if joints_gt is not None:\n",
    "        to_draw.extend(points_to_spheres(joints_gt, color=[0, 1, 1]))\n",
    "\n",
    "    if mesh is not None:\n",
    "        mesh.compute_vertex_normals()\n",
    "        mesh.paint_uniform_color([0.8, 0.8, 0.8])\n",
    "        to_draw.append(mesh)\n",
    "    \n",
    "    o3d.visualization.draw_geometries(to_draw,\n",
    "                                      mesh_show_back_face=True,\n",
    "                                      window_name=\"Mesh Graph\",\n",
    "                                      width=800, height=600)"
   ]
  },
  {
   "cell_type": "code",
   "execution_count": 9,
   "id": "34c30231",
   "metadata": {},
   "outputs": [
    {
     "data": {
      "text/plain": [
       "'../data/ModelResource_RigNetv1_preproccessed/mesh_graphs/test.pkl'"
      ]
     },
     "execution_count": 9,
     "metadata": {},
     "output_type": "execute_result"
    }
   ],
   "source": [
    "# Sanity Check\n",
    "file_path = f'{mesh_graphs_folder}/test.pkl'\n",
    "with open(file_path, \"rb\") as file:\n",
    "    _graph_list = pickle.load(file)\n",
    "file_path"
   ]
  },
  {
   "cell_type": "code",
   "execution_count": 10,
   "id": "abf706b9",
   "metadata": {},
   "outputs": [
    {
     "data": {
      "text/plain": [
       "list"
      ]
     },
     "execution_count": 10,
     "metadata": {},
     "output_type": "execute_result"
    }
   ],
   "source": [
    "type(_graph_list)"
   ]
  },
  {
   "cell_type": "code",
   "execution_count": 11,
   "id": "8d886a4e",
   "metadata": {},
   "outputs": [
    {
     "name": "stderr",
     "output_type": "stream",
     "text": [
      "2025-05-08 08:53:41.122 python3[51191:2955283] +[IMKClient subclass]: chose IMKClient_Modern\n",
      "2025-05-08 08:53:41.122 python3[51191:2955283] +[IMKInputSession subclass]: chose IMKInputSession_Modern\n"
     ]
    }
   ],
   "source": [
    "visualize_mesh_graph(np.array(_graph_list[0]['vertices']), \n",
    "                     np.array(_graph_list[0]['one_ring']),\n",
    "                     np.array(_graph_list[0]['joints']))"
   ]
  },
  {
   "cell_type": "code",
   "execution_count": null,
   "id": "8e5fa328",
   "metadata": {},
   "outputs": [],
   "source": [
    "visualize_mesh_graph(np.array(_graph_list[0]['vertices']), \n",
    "                     np.array(_graph_list[0]['geodesic']),\n",
    "                     np.array(_graph_list[0]['joints']))"
   ]
  },
  {
   "cell_type": "code",
   "execution_count": 12,
   "id": "8ca4980f",
   "metadata": {},
   "outputs": [
    {
     "data": {
      "text/plain": [
       "dict_keys(['obj_path', 'vertices', 'one_ring', 'centroid', 'geodesic', 'joints', 'attn_mask'])"
      ]
     },
     "execution_count": 12,
     "metadata": {},
     "output_type": "execute_result"
    }
   ],
   "source": [
    "_graph_list[0].keys()"
   ]
  },
  {
   "cell_type": "code",
   "execution_count": null,
   "id": "cea69200",
   "metadata": {},
   "outputs": [],
   "source": []
  }
 ],
 "metadata": {
  "kernelspec": {
   "display_name": "pytorch-venv-3.11.11",
   "language": "python",
   "name": "python3"
  },
  "language_info": {
   "codemirror_mode": {
    "name": "ipython",
    "version": 3
   },
   "file_extension": ".py",
   "mimetype": "text/x-python",
   "name": "python",
   "nbconvert_exporter": "python",
   "pygments_lexer": "ipython3",
   "version": "3.11.11"
  }
 },
 "nbformat": 4,
 "nbformat_minor": 5
}
