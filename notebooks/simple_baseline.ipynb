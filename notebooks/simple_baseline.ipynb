{
 "cells": [
  {
   "cell_type": "markdown",
   "id": "1687bbce",
   "metadata": {},
   "source": [
    "## Simple Baseline\n",
    "\n",
    "Stripped down architecture consisting of a single GMEdgeConv and clustering. Dataset will consist of 5 examples. \n",
    "\n",
    "1. Build a one‑layer GMEdgeConv to be a feature extractor.\n",
    "2. Head: small MLP to predict per‑vertex displacements.\n",
    "3. Cluster displaced vertices via mean‑shift to joint coordinates. \"Naive attention\" (all values are 1)=\n",
    "4. Loss: Chamfer distance between predicted and ground‑truth joints."
   ]
  },
  {
   "cell_type": "code",
   "execution_count": 2,
   "id": "a4139d66",
   "metadata": {},
   "outputs": [],
   "source": [
    "import sys\n",
    "# caution: path[0] is reserved for script path (or '' in REPL)\n",
    "sys.path.insert(1, '../utils')"
   ]
  },
  {
   "cell_type": "code",
   "execution_count": 3,
   "id": "9eeba52e",
   "metadata": {},
   "outputs": [],
   "source": [
    "import open3d as o3d\n",
    "import numpy as np"
   ]
  },
  {
   "cell_type": "code",
   "execution_count": null,
   "id": "d0c9f596",
   "metadata": {},
   "outputs": [],
   "source": [
    "import torch\n",
    "import torch.nn as nn\n",
    "import torch.nn.functional as F\n",
    "from torch.utils.data import Dataset, DataLoader\n",
    "from torch_scatter import scatter_max\n",
    "\n",
    "import matplotlib.pyplot as plt\n",
    "\n",
    "import random\n",
    "import pickle\n",
    "from tqdm import tqdm\n",
    "\n",
    "from mean_shift_clustering import mean_shift_clustering, mode_extraction"
   ]
  },
  {
   "cell_type": "code",
   "execution_count": 5,
   "id": "5ba15ad7",
   "metadata": {},
   "outputs": [],
   "source": [
    "def points_to_spheres(points, color=[0, 1, 1]):\n",
    "    spheres = []\n",
    "    for (x, y, z) in np.asarray(points):\n",
    "        sphere = o3d.geometry.TriangleMesh.create_sphere(radius=0.01)\n",
    "        sphere.translate((x, y, z))\n",
    "        sphere.paint_uniform_color(color)\n",
    "        spheres.append(sphere)\n",
    "    \n",
    "    return spheres\n",
    "\n",
    "def visualize_mesh_graph(vertices: np.ndarray,\n",
    "                        edge_list: np.ndarray,\n",
    "                        joints_gt: np.ndarray = None, \n",
    "                        joints_pred: np.ndarray = None,\n",
    "                        mesh: o3d.geometry.TriangleMesh = None):\n",
    "\n",
    "    pts = vertices.astype(dtype=np.float64)\n",
    "    lines = edge_list.astype(dtype=np.int32)\n",
    "    \n",
    "    line_set = o3d.geometry.LineSet(\n",
    "        points=o3d.utility.Vector3dVector(pts),\n",
    "        lines=o3d.utility.Vector2iVector(lines)\n",
    "    )\n",
    "\n",
    "    colors = [[1.0, 0.0, 0.0] for _ in lines]\n",
    "    line_set.colors = o3d.utility.Vector3dVector(colors)\n",
    "    \n",
    "    to_draw = []\n",
    "    to_draw.append(line_set)\n",
    "\n",
    "    if joints_gt is not None:\n",
    "        to_draw.extend(points_to_spheres(joints_gt, color=[0, 1, 1]))\n",
    "    \n",
    "    if joints_pred is not None:\n",
    "        to_draw.extend(points_to_spheres(joints_pred, color=[1, 0, 1]))\n",
    "\n",
    "    if mesh is not None:\n",
    "        mesh.compute_vertex_normals()\n",
    "        mesh.paint_uniform_color([0.8, 0.8, 0.8])\n",
    "        to_draw.append(mesh)\n",
    "    \n",
    "    o3d.visualization.draw_geometries(to_draw,\n",
    "                                      mesh_show_back_face=True,\n",
    "                                      window_name=\"Mesh Graph\",\n",
    "                                      width=800, height=600)"
   ]
  },
  {
   "cell_type": "markdown",
   "id": "6bcfb3bd",
   "metadata": {},
   "source": [
    "### Simple Baseline"
   ]
  },
  {
   "cell_type": "code",
   "execution_count": 6,
   "id": "5ceb8bda",
   "metadata": {},
   "outputs": [],
   "source": [
    "TRAIN_SIZE = 20\n",
    "VAL_SIZE = 5"
   ]
  },
  {
   "cell_type": "code",
   "execution_count": 7,
   "id": "c52061dd",
   "metadata": {},
   "outputs": [],
   "source": [
    "class RigNetDataset(Dataset):\n",
    "    def __init__(self, file_path, transform=None, seed=42, train=True):\n",
    "\n",
    "        with open(file_path, 'rb') as f:\n",
    "            data = pickle.load(f)\n",
    "\n",
    "        random.Random(seed).shuffle(data)\n",
    "\n",
    "        if train:\n",
    "            self.examples = data[:TRAIN_SIZE]\n",
    "        else:\n",
    "            self.examples = data[TRAIN_SIZE:TRAIN_SIZE + VAL_SIZE]\n",
    "\n",
    "        self.transform = transform\n",
    "\n",
    "    def __len__(self):\n",
    "        return len(self.examples)\n",
    "\n",
    "    def __getitem__(self, index):\n",
    "        sample = self.examples[index]\n",
    "        if self.transform is not None:\n",
    "            sample = self.transform(sample)\n",
    "        return sample\n"
   ]
  },
  {
   "cell_type": "code",
   "execution_count": 8,
   "id": "d776c4c5",
   "metadata": {},
   "outputs": [
    {
     "data": {
      "text/plain": [
       "dict_keys(['obj_path', 'vertices', 'one_ring', 'centroid', 'geodesic', 'joints'])"
      ]
     },
     "execution_count": 8,
     "metadata": {},
     "output_type": "execute_result"
    }
   ],
   "source": [
    "# Use Val set for training for faster loading, then we'll use test set for testing\n",
    "TRAIN_FILE_PATH = \"../data/ModelResource_RigNetv1_preproccessed/mesh_graphs/val.pkl\"\n",
    "VAL_FILE_PATH = \"../data/ModelResource_RigNetv1_preproccessed/mesh_graphs/test.pkl\"\n",
    "train_dataset = RigNetDataset(TRAIN_FILE_PATH, seed=0)\n",
    "val_dataset = RigNetDataset(VAL_FILE_PATH, seed=1)\n",
    "train_dataset[0].keys()"
   ]
  },
  {
   "cell_type": "markdown",
   "id": "7238c3b3",
   "metadata": {},
   "source": [
    "### Network Architecture\n",
    "\n",
    "#### GMEdgeConv\n",
    "- Input: vertices of in_dim, one-ring edge list and geodesic edge list\n",
    "\n",
    "Process: MLP(max(MLP(one-ring)) | max(MLP(geodesic)))\n",
    "\n",
    "- output: vertices of out_dim"
   ]
  },
  {
   "cell_type": "code",
   "execution_count": 19,
   "id": "81b97e56",
   "metadata": {},
   "outputs": [],
   "source": [
    "class GMEdgeConv(nn.Module):\n",
    "    def __init__(self, in_channels, out_channels):\n",
    "        \"\"\"\n",
    "        in_channels:  F_in, dimension of input vertex features\n",
    "        out_channels: F_out, dimension of output vertex features\n",
    "        \"\"\"\n",
    "        super().__init__()\n",
    "        hidden = out_channels \n",
    "        # Edge MLPs for topo and geo neighborhoods\n",
    "        self.mlp_topo = nn.Sequential(\n",
    "            nn.Linear(2*in_channels, hidden),\n",
    "            nn.ReLU(),\n",
    "            nn.Linear(hidden, hidden),\n",
    "            nn.ReLU()\n",
    "        )\n",
    "        self.mlp_geo = nn.Sequential(\n",
    "            nn.Linear(2*in_channels, hidden),\n",
    "            nn.ReLU(),\n",
    "            nn.Linear(hidden, hidden),\n",
    "            nn.ReLU()\n",
    "        )\n",
    "        # Fuse MLP to combine topo+geo pooled features\n",
    "        self.mlp_fuse = nn.Sequential(\n",
    "            nn.Linear(2*hidden, out_channels),\n",
    "            nn.ReLU()\n",
    "        )\n",
    "\n",
    "    def forward(self, x, edge_index_topo, edge_index_geo):\n",
    "\n",
    "        N, F_in = x.shape\n",
    "\n",
    "        # --- one-ring ---\n",
    "\n",
    "        # [E_topo] (num one-ring/topological edges)\n",
    "        i_t, j_t = edge_index_topo  \n",
    "\n",
    "        # Index all xi-xj vertex pairs\n",
    "        xi = x[i_t] # [E_topo, F_in]\n",
    "        xj = x[j_t] # [E_topo, F_in]\n",
    "        edge_feat_t = torch.cat([xi, xj - xi], dim=1) # [E_topo, 2*F_in]\n",
    "        # Apply topological convolutional mlp\n",
    "        edge_feat_t = self.mlp_topo(edge_feat_t) # [E_topo, hidden]\n",
    "\n",
    "        # Pool max over neighbors per i_t\n",
    "        # During mesh graph creation, it was guaranteed that each vertex has at least one neighbor (itself)\n",
    "        topo_pooled, _ = scatter_max(edge_feat_t, i_t, dim=0, dim_size=N)\n",
    "\n",
    "        # --- geodesic edges ---\n",
    "        i_g, j_g = edge_index_geo\n",
    "        xi_g = x[i_g]\n",
    "        xj_g = x[j_g]\n",
    "        edge_feat_g = torch.cat([xi_g, xj_g - xi_g], dim=1)  # [E_geo, 2*F_in]\n",
    "        edge_feat_g = self.mlp_geo(edge_feat_g) # [E_geo, hidden]\n",
    "\n",
    "        geo_pooled, _ = scatter_max(edge_feat_g, i_g, dim=0, dim_size=N)\n",
    "        # geo_pooled: [N, hidden]\n",
    "\n",
    "        # --- fuse ---\n",
    "        combined = torch.cat([topo_pooled, geo_pooled], dim=1)  # [N, 2*hidden]\n",
    "        x_out = self.mlp_fuse(combined) # [N, out_channels]\n",
    "\n",
    "        return x_out\n"
   ]
  },
  {
   "cell_type": "markdown",
   "id": "e0a95b82",
   "metadata": {},
   "source": [
    "### Simple JointNet (Sanity Check)"
   ]
  },
  {
   "cell_type": "code",
   "execution_count": 98,
   "id": "85c59bfa",
   "metadata": {},
   "outputs": [],
   "source": [
    "class SimpleJointNet(nn.Module):\n",
    "    def __init__(self):\n",
    "        super().__init__()\n",
    "        self.conv = GMEdgeConv(in_channels=3, out_channels=64)\n",
    "        self.disp_head = nn.Sequential(\n",
    "            nn.Linear(64, 32),\n",
    "            nn.ReLU(),\n",
    "            nn.Linear(32, 3)\n",
    "        )\n",
    "    def forward(self, x, edges_topo, edges_geo):\n",
    "        # x: [N,3]\n",
    "        N, D = x.shape\n",
    "        feat = self.conv(x, edges_topo, edges_geo) # [N,64]\n",
    "        disp = self.disp_head(feat) # [N,3]\n",
    "        q = x + disp # displaced points [N,3]\n",
    "\n",
    "        # cluster\n",
    "        attention = torch.ones(N)\n",
    "        # h=0.057 learned in paper\n",
    "        T_pred = mean_shift_clustering(q, attention, h=0.057)\n",
    "        T_pred = mode_extraction(T_pred, attention, h=0.057)\n",
    "        return T_pred"
   ]
  },
  {
   "cell_type": "code",
   "execution_count": 41,
   "id": "c396ce35",
   "metadata": {},
   "outputs": [],
   "source": [
    "def chamfer_loss(T_pred, T_gt):\n",
    "    # T_pred: [K,3], T_gt: [M,3]\n",
    "    # compute pairwise distances [K, M]\n",
    "    # Distance between two arbitrary point clouds\n",
    "    d2 = torch.cdist(T_pred, T_gt, p=2)  \n",
    "    loss = d2.min(dim=1)[0].mean() + d2.min(dim=0)[0].mean()\n",
    "    return loss"
   ]
  },
  {
   "cell_type": "markdown",
   "id": "0285d358",
   "metadata": {},
   "source": [
    "### Train Method"
   ]
  },
  {
   "cell_type": "code",
   "execution_count": 13,
   "id": "27110c00",
   "metadata": {},
   "outputs": [],
   "source": [
    "def train(model, optimizer, epochs, dataset):\n",
    "\n",
    "    losses = []\n",
    "    for _ in tqdm(range(epochs)):\n",
    "\n",
    "        loss_sum = 0\n",
    "        iters = 0\n",
    "        for i in range(len(dataset)):\n",
    "            G = dataset[i]\n",
    "\n",
    "            verts = torch.FloatTensor(G['vertices'])\n",
    "            one_ring = torch.LongTensor(G['one_ring']).view(2, -1)\n",
    "            geodesic = torch.LongTensor(G['geodesic']).view(2, -1)\n",
    "            joints_gt = torch.FloatTensor(G[\"joints\"])\n",
    "\n",
    "            joints_pred = model.forward(verts, one_ring, geodesic)\n",
    "            loss = chamfer_loss(joints_pred, joints_gt)\n",
    "            loss_sum += loss.item()\n",
    "\n",
    "            loss.backward()\n",
    "            optimizer.step()\n",
    "            optimizer.zero_grad()\n",
    "\n",
    "            iters += 1\n",
    "        \n",
    "        avg_loss = loss_sum / iters\n",
    "        losses.append(avg_loss)\n",
    "\n",
    "    plt.figure()\n",
    "    plt.title(\"loss over epochs\")\n",
    "    plt.xlabel(\"epochs\")\n",
    "    plt.ylabel(\"loss\")\n",
    "    plt.semilogy(losses)"
   ]
  },
  {
   "cell_type": "markdown",
   "id": "47845e1d",
   "metadata": {},
   "source": [
    "### Training"
   ]
  },
  {
   "cell_type": "code",
   "execution_count": 105,
   "id": "082f91cf",
   "metadata": {},
   "outputs": [
    {
     "data": {
      "text/plain": [
       "(torch.Size([761, 3]), torch.Size([4977, 2]))"
      ]
     },
     "execution_count": 105,
     "metadata": {},
     "output_type": "execute_result"
    }
   ],
   "source": [
    "G = train_dataset[0]\n",
    "verts = torch.FloatTensor(G['vertices'])\n",
    "one_ring = torch.LongTensor(G['one_ring'])\n",
    "geodesic = torch.LongTensor(G['geodesic'])\n",
    "joints_gt = torch.FloatTensor(G[\"joints\"])\n",
    "\n",
    "verts.shape, one_ring.shape"
   ]
  },
  {
   "cell_type": "code",
   "execution_count": 113,
   "id": "4b47560c",
   "metadata": {},
   "outputs": [],
   "source": [
    "model = SimpleJointNet()"
   ]
  },
  {
   "cell_type": "code",
   "execution_count": 114,
   "id": "2e44e61f",
   "metadata": {},
   "outputs": [
    {
     "name": "stderr",
     "output_type": "stream",
     "text": [
      "100%|██████████| 50/50 [01:42<00:00,  2.05s/it]\n"
     ]
    },
    {
     "data": {
      "image/png": "[encoded data removed]",
      "text/plain": [
       "<Figure size 640x480 with 1 Axes>"
      ]
     },
     "metadata": {},
     "output_type": "display_data"
    }
   ],
   "source": [
    "epochs = 50\n",
    "lr = 1e-3 # from paper\n",
    "optimizer = torch.optim.Adam(model.parameters(), lr=lr)\n",
    "\n",
    "train(model, optimizer, epochs, train_dataset)\n"
   ]
  },
  {
   "cell_type": "markdown",
   "id": "28de1ce6",
   "metadata": {},
   "source": [
    "### Validate Method"
   ]
  },
  {
   "cell_type": "code",
   "execution_count": 12,
   "id": "3c15196d",
   "metadata": {},
   "outputs": [],
   "source": [
    "def validate_model(model, dataset):\n",
    "    loss_sum = 0\n",
    "    iters = 0\n",
    "    for i in range(len(dataset)):\n",
    "        G = dataset[i]\n",
    "\n",
    "        verts = torch.FloatTensor(G['vertices'])\n",
    "        one_ring = torch.LongTensor(G['one_ring']).view(2, -1)\n",
    "        geodesic = torch.LongTensor(G['geodesic']).view(2, -1)\n",
    "        joints_gt = torch.FloatTensor(G[\"joints\"])\n",
    "\n",
    "        joints_pred = model.forward(verts, one_ring, geodesic)\n",
    "        loss = chamfer_loss(joints_pred, joints_gt)\n",
    "        loss_sum += loss.item()\n",
    "\n",
    "        loss.backward()\n",
    "        optimizer.step()\n",
    "        optimizer.zero_grad()\n",
    "\n",
    "        iters += 1\n",
    "\n",
    "    return loss_sum / iters"
   ]
  },
  {
   "cell_type": "markdown",
   "id": "0f8a0ec3",
   "metadata": {},
   "source": [
    "### Model Validation"
   ]
  },
  {
   "cell_type": "code",
   "execution_count": 116,
   "id": "538d8d0f",
   "metadata": {},
   "outputs": [
    {
     "name": "stdout",
     "output_type": "stream",
     "text": [
      "Untrained Model | Validation Loss: 3.3388e-01\n",
      "Trained Model   | Validation Loss: 1.3608e-01\n"
     ]
    }
   ],
   "source": [
    "untrained_model = SimpleJointNet()\n",
    "\n",
    "untrained_loss = validate_model(untrained_model, val_dataset)\n",
    "trained_loss = validate_model(model, val_dataset)\n",
    "\n",
    "print(f'Untrained Model | Validation Loss: {untrained_loss:.4e}')\n",
    "print(f'Trained Model   | Validation Loss: {trained_loss:.4e}')\n",
    "\n",
    "# Scientific Notation"
   ]
  },
  {
   "cell_type": "code",
   "execution_count": 141,
   "id": "e30a2ed6",
   "metadata": {},
   "outputs": [],
   "source": [
    "G = train_dataset[0]\n",
    "verts = torch.FloatTensor(G['vertices'])\n",
    "one_ring = torch.LongTensor(G['one_ring'])\n",
    "geodesic = torch.LongTensor(G['geodesic'])\n",
    "joints_gt = torch.FloatTensor(G[\"joints\"])"
   ]
  },
  {
   "cell_type": "code",
   "execution_count": 142,
   "id": "e32045d8",
   "metadata": {},
   "outputs": [
    {
     "name": "stdout",
     "output_type": "stream",
     "text": [
      "34 16\n"
     ]
    }
   ],
   "source": [
    "joints_pred = model(verts, one_ring.view(2, -1), geodesic.view(2, -1))\n",
    "\n",
    "print(len(joints_pred), len(joints_gt))\n",
    "\n",
    "visualize_mesh_graph(verts.detach().numpy(), \n",
    "                     one_ring.detach().numpy(), \n",
    "                     joints_gt.detach().numpy(), \n",
    "                     joints_pred.detach().numpy())\n"
   ]
  },
  {
   "cell_type": "markdown",
   "id": "3b2a564f",
   "metadata": {},
   "source": [
    "### Val dataset \n",
    "\n",
    "Visualize output difference between trained and untrained models"
   ]
  },
  {
   "cell_type": "code",
   "execution_count": 147,
   "id": "7685d8ba",
   "metadata": {},
   "outputs": [],
   "source": [
    "G = val_dataset[0]\n",
    "verts = torch.FloatTensor(G['vertices'])\n",
    "one_ring = torch.LongTensor(G['one_ring'])\n",
    "geodesic = torch.LongTensor(G['geodesic'])\n",
    "joints_gt = torch.FloatTensor(G[\"joints\"])"
   ]
  },
  {
   "cell_type": "code",
   "execution_count": 150,
   "id": "47235645",
   "metadata": {},
   "outputs": [],
   "source": [
    "joints_pred = model(verts, one_ring.view(2, -1), geodesic.view(2, -1))\n",
    "\n",
    "visualize_mesh_graph(verts.detach().numpy(), \n",
    "                     one_ring.detach().numpy(), \n",
    "                     joints_gt.detach().numpy(), \n",
    "                     joints_pred.detach().numpy())"
   ]
  },
  {
   "cell_type": "code",
   "execution_count": 151,
   "id": "3b02f394",
   "metadata": {},
   "outputs": [],
   "source": [
    "joints_pred = untrained_model(verts, one_ring.view(2, -1), geodesic.view(2, -1))\n",
    "\n",
    "visualize_mesh_graph(verts.detach().numpy(), \n",
    "                     one_ring.detach().numpy(), \n",
    "                     joints_gt.detach().numpy(), \n",
    "                     joints_pred.detach().numpy())"
   ]
  },
  {
   "cell_type": "markdown",
   "id": "5c727be3",
   "metadata": {},
   "source": [
    "### Val dataset \n",
    "\n",
    "Visualize output difference between trained and untrained models"
   ]
  },
  {
   "cell_type": "code",
   "execution_count": null,
   "id": "743d6f93",
   "metadata": {},
   "outputs": [],
   "source": [
    "G = val_dataset[1]\n",
    "verts = torch.FloatTensor(G['vertices'])\n",
    "one_ring = torch.LongTensor(G['one_ring'])\n",
    "geodesic = torch.LongTensor(G['geodesic'])\n",
    "joints_gt = torch.FloatTensor(G[\"joints\"])"
   ]
  },
  {
   "cell_type": "code",
   "execution_count": null,
   "id": "e7808a1d",
   "metadata": {},
   "outputs": [],
   "source": [
    "joints_pred = model(verts, one_ring.view(2, -1), geodesic.view(2, -1))\n",
    "\n",
    "visualize_mesh_graph(verts.detach().numpy(), \n",
    "                     one_ring.detach().numpy(), \n",
    "                     joints_gt.detach().numpy(), \n",
    "                     joints_pred.detach().numpy())"
   ]
  },
  {
   "cell_type": "code",
   "execution_count": null,
   "id": "f3983090",
   "metadata": {},
   "outputs": [],
   "source": [
    "joints_pred = untrained_model(verts, one_ring.view(2, -1), geodesic.view(2, -1))\n",
    "\n",
    "visualize_mesh_graph(verts.detach().numpy(), \n",
    "                     one_ring.detach().numpy(), \n",
    "                     joints_gt.detach().numpy(), \n",
    "                     joints_pred.detach().numpy())"
   ]
  },
  {
   "cell_type": "markdown",
   "id": "bdf9d7f6",
   "metadata": {},
   "source": [
    "### Building towards full JointNet\n",
    "\n",
    "GMEdgeNet:\n",
    "- 3 stacked GMEdgeConv Layers. 3 -> 64 -> 256 -> 512. \n",
    "    - Concat Per Point: 835. (Local Encoding)\n",
    "    - Max Pool each Layer + Concat: 832 (Global Encoding)\n",
    "        - Project up to 1024 (MLP[832, 1024])\n",
    "    - Concat local + global encoding per point: 835+1024=1859\n",
    "    - Final projection\n",
    "        - Disp head: [1859, 1024, 256, 3]\n",
    "        - attention head: [1859, 1024, 256, 1]"
   ]
  },
  {
   "cell_type": "code",
   "execution_count": 20,
   "id": "b04c6ef7",
   "metadata": {},
   "outputs": [
    {
     "data": {
      "text/plain": [
       "dict_keys(['obj_path', 'vertices', 'one_ring', 'centroid', 'geodesic', 'joints'])"
      ]
     },
     "execution_count": 20,
     "metadata": {},
     "output_type": "execute_result"
    }
   ],
   "source": [
    "G = train_dataset[0]\n",
    "G.keys()"
   ]
  },
  {
   "cell_type": "code",
   "execution_count": 21,
   "id": "fe293ecd",
   "metadata": {},
   "outputs": [],
   "source": [
    "verts = torch.FloatTensor(G['vertices'])\n",
    "one_ring = torch.LongTensor(G['one_ring']).view(2, -1)\n",
    "geodesic = torch.LongTensor(G['geodesic']).view(2, -1)\n",
    "joints_gt = torch.FloatTensor(G[\"joints\"])"
   ]
  },
  {
   "cell_type": "code",
   "execution_count": 22,
   "id": "2e373b5a",
   "metadata": {},
   "outputs": [],
   "source": [
    "conv1 = GMEdgeConv(3, 64)\n",
    "conv2 = GMEdgeConv(64, 256)\n",
    "conv3 = GMEdgeConv(256, 512)\n",
    "\n",
    "global_mlp = nn.Sequential(\n",
    "    nn.Linear(832, 1024),\n",
    "    nn.ReLU()\n",
    ")\n",
    "\n",
    "disp_head = nn.Sequential(\n",
    "    nn.Linear(1859, 1024),\n",
    "    nn.ReLU(),\n",
    "    nn.Linear(1024, 256),\n",
    "    nn.ReLU(),\n",
    "    nn.Linear(256, 3), \n",
    "    # No final activation. Outputs should be unconstrained\n",
    ")"
   ]
  },
  {
   "cell_type": "code",
   "execution_count": 23,
   "id": "7d04fa64",
   "metadata": {},
   "outputs": [
    {
     "data": {
      "text/plain": [
       "torch.Size([761, 512])"
      ]
     },
     "execution_count": 23,
     "metadata": {},
     "output_type": "execute_result"
    }
   ],
   "source": [
    "out64 = conv1(verts, one_ring, geodesic)\n",
    "out256 = conv2(out64, one_ring, geodesic)\n",
    "out512 = conv3(out256, one_ring, geodesic)\n",
    "\n",
    "out512.shape"
   ]
  },
  {
   "cell_type": "code",
   "execution_count": 24,
   "id": "f7b2097b",
   "metadata": {},
   "outputs": [
    {
     "data": {
      "text/plain": [
       "torch.Size([761, 832])"
      ]
     },
     "execution_count": 24,
     "metadata": {},
     "output_type": "execute_result"
    }
   ],
   "source": [
    "# Concat\n",
    "x832 = torch.cat([out64, out256, out512], dim=1)\n",
    "x832.shape"
   ]
  },
  {
   "cell_type": "code",
   "execution_count": 25,
   "id": "7fec12c5",
   "metadata": {},
   "outputs": [
    {
     "data": {
      "text/plain": [
       "torch.Size([832])"
      ]
     },
     "execution_count": 25,
     "metadata": {},
     "output_type": "execute_result"
    }
   ],
   "source": [
    "# Channelwise pooling\n",
    "# Want to \"reduce\" the selected dimension.\n",
    "# In this case, \"reduce\" (max) over rows (vertices)\n",
    "# Channelwise max: [832]\n",
    "x832_max, x832_max_idxs = torch.max(x832, dim=0)\n",
    "x832_max.shape"
   ]
  },
  {
   "cell_type": "code",
   "execution_count": 26,
   "id": "069467d3",
   "metadata": {},
   "outputs": [
    {
     "data": {
      "text/plain": [
       "torch.Size([1024])"
      ]
     },
     "execution_count": 26,
     "metadata": {},
     "output_type": "execute_result"
    }
   ],
   "source": [
    "# Project from 832 -> 1024\n",
    "glob1024 = global_mlp(x832_max)\n",
    "glob1024.shape"
   ]
  },
  {
   "cell_type": "code",
   "execution_count": 27,
   "id": "84fabdde",
   "metadata": {},
   "outputs": [
    {
     "data": {
      "text/plain": [
       "torch.Size([761, 835])"
      ]
     },
     "execution_count": 27,
     "metadata": {},
     "output_type": "execute_result"
    }
   ],
   "source": [
    "# Concat per point\n",
    "x835 = torch.cat([verts, x832], dim=1)\n",
    "x835.shape"
   ]
  },
  {
   "cell_type": "code",
   "execution_count": 28,
   "id": "b21dc5ae",
   "metadata": {},
   "outputs": [
    {
     "data": {
      "text/plain": [
       "torch.Size([761, 1024])"
      ]
     },
     "execution_count": 28,
     "metadata": {},
     "output_type": "execute_result"
    }
   ],
   "source": [
    "# Broadcast glob1024 from [1024] to [N, 1024]\n",
    "N, D = verts.shape\n",
    "glob1024.expand(N, 1024).shape"
   ]
  },
  {
   "cell_type": "code",
   "execution_count": 29,
   "id": "e7e5bfde",
   "metadata": {},
   "outputs": [
    {
     "data": {
      "text/plain": [
       "torch.Size([761, 1859])"
      ]
     },
     "execution_count": 29,
     "metadata": {},
     "output_type": "execute_result"
    }
   ],
   "source": [
    "# Tile and concat\n",
    "x1859 = torch.cat([x835, glob1024.expand(N, 1024)], dim=1)\n",
    "x1859.shape"
   ]
  },
  {
   "cell_type": "code",
   "execution_count": 30,
   "id": "11d35394",
   "metadata": {},
   "outputs": [
    {
     "data": {
      "text/plain": [
       "torch.Size([761, 3])"
      ]
     },
     "execution_count": 30,
     "metadata": {},
     "output_type": "execute_result"
    }
   ],
   "source": [
    "# Output displacements\n",
    "q = disp_head(x1859)\n",
    "q.shape"
   ]
  },
  {
   "cell_type": "markdown",
   "id": "2a4c9175",
   "metadata": {},
   "source": [
    "**Remaining**\n",
    "- Additional supervision for attention module (Creating a binary mask for vertices whose values are equal to 1 for vertices closest to joints. Heuristic for \"closest\" described in paper)\n",
    "    - We use cross-entropy to measure consistency between these masks and neural attention.\n",
    "- Random dropout of upto 15 edges in geodesic neighborhoods\n",
    "    - Why just here? Why just 15?\n",
    "    - Paper found that it improved performance. Simulates vertex sampling on the mesh, thus making the graph more robust to different tesselations. \n",
    "- User control \n",
    "    - Allow overriding h in range [0.01, 0.1] for user-control over number of joints\n",
    "\n",
    "**Training Impl. Details**\n",
    "- First pre-train $w_a$ (attention module params) with specific attention loss. This helps performance. Then fine-tune $w_a$ and train $w_d$ and $h$ with sum of two chamfer losses - one which includes $h$ and $w_a$ as params with $w_d$, and one that has $w_d$ as params exclusively. \n",
    "- Finetuning: Batch size = 2, Adam optimizer, lr=10e-6"
   ]
  },
  {
   "cell_type": "markdown",
   "id": "f512ca68",
   "metadata": {},
   "source": [
    "### GMEdge Net Architecture\n",
    "\n",
    "Hard-coding MLP hidden sizes based on joint prediction section of appendix. Bone-net also uses GMEdgeNets with different hidden layer combinations, but we don't worry about that right now."
   ]
  },
  {
   "cell_type": "code",
   "execution_count": 31,
   "id": "837b4545",
   "metadata": {},
   "outputs": [],
   "source": [
    "class GMEdgeNet(nn.Module):\n",
    "\n",
    "    def __init__(self, out=3):\n",
    "\n",
    "        super().__init__()\n",
    "\n",
    "        self.conv1 = GMEdgeConv(3, 64)\n",
    "        self.conv2 = GMEdgeConv(64, 256)\n",
    "        self.conv3 = GMEdgeConv(256, 512)\n",
    "\n",
    "        self.global_mlp = nn.Sequential(\n",
    "            nn.Linear(832, 1024),\n",
    "            nn.ReLU()\n",
    "        )\n",
    "\n",
    "        self.head = nn.Sequential(\n",
    "            nn.Linear(1859, 1024),\n",
    "            nn.ReLU(),\n",
    "            nn.Linear(1024, 256),\n",
    "            nn.ReLU(),\n",
    "            nn.Linear(256, out), \n",
    "            # No final activation. Outputs should be unconstrained\n",
    "        )\n",
    "\n",
    "    def forward(self, verts, one_ring, geodesic):\n",
    "\n",
    "        N, D = verts.shape\n",
    "\n",
    "        out64 = self.conv1(verts, one_ring, geodesic)\n",
    "        out256 = self.conv2(out64, one_ring, geodesic)\n",
    "        out512 = self.conv3(out256, one_ring, geodesic)\n",
    "\n",
    "        x832 = torch.cat([out64, out256, out512], dim=1)\n",
    "\n",
    "        # Channelwise max: [832]\n",
    "        x832_max, x832_max_idxs = torch.max(x832, dim=0)\n",
    "\n",
    "        x835 = torch.cat([verts, x832], dim=1)\n",
    "        glob1024 = self.global_mlp(x832_max)\n",
    "\n",
    "        x1859 = torch.cat([x835, glob1024.expand(N, 1024)], dim=1)\n",
    "        out = self.head(x1859)\n",
    "        \n",
    "        return out"
   ]
  },
  {
   "cell_type": "code",
   "execution_count": 32,
   "id": "cd6d793a",
   "metadata": {},
   "outputs": [
    {
     "data": {
      "text/plain": [
       "torch.Size([761, 3])"
      ]
     },
     "execution_count": 32,
     "metadata": {},
     "output_type": "execute_result"
    }
   ],
   "source": [
    "gmedgenet = GMEdgeNet(out=3)\n",
    "out = gmedgenet(verts, one_ring, geodesic)\n",
    "out.shape"
   ]
  },
  {
   "cell_type": "markdown",
   "id": "bb22a1d8",
   "metadata": {},
   "source": [
    "### Full JointNet Architecture"
   ]
  },
  {
   "cell_type": "code",
   "execution_count": 42,
   "id": "dda21591",
   "metadata": {},
   "outputs": [],
   "source": [
    "class JointNet(nn.Module):\n",
    "    def __init__(self, is_training=True):\n",
    "        super().__init__()\n",
    "        self.disp_head = GMEdgeNet(out=3)\n",
    "        self.attn_head = GMEdgeNet(out=1)\n",
    "        self.h = nn.Parameter(torch.tensor(0.05), requires_grad=True)\n",
    "\n",
    "        self.max_iters=50\n",
    "        if is_training:\n",
    "            self.max_iters=20\n",
    "\n",
    "    def forward(self, x, edges_topo, edges_geo):\n",
    "        # x: [N,3]\n",
    "        N, D = x.shape\n",
    "\n",
    "        disp = self.disp_head(x, edges_topo, edges_geo) # [N,3]\n",
    "        q = x + disp # displaced points [N,3]\n",
    "\n",
    "        # cluster\n",
    "        attn = self.attn_head(x, edges_topo, edges_geo)\n",
    "        \n",
    "        # This is making loss erratic\n",
    "        # h = 0.057\n",
    "\n",
    "        # max-iters during training: ~10-20 in paper\n",
    "        T_pred = mean_shift_clustering(q, attn, self.h, max_iters=self.max_iters)\n",
    "        T_pred = mode_extraction(T_pred, attn, self.h)\n",
    "        return T_pred"
   ]
  },
  {
   "cell_type": "code",
   "execution_count": 43,
   "id": "4ce498a4",
   "metadata": {},
   "outputs": [],
   "source": [
    "full_model = JointNet()"
   ]
  },
  {
   "cell_type": "code",
   "execution_count": 44,
   "id": "40a48370",
   "metadata": {},
   "outputs": [
    {
     "name": "stderr",
     "output_type": "stream",
     "text": [
      "100%|██████████| 60/60 [07:09<00:00,  7.16s/it]\n"
     ]
    },
    {
     "data": {
      "image/png": "[encoded data removed]",
      "text/plain": [
       "<Figure size 640x480 with 1 Axes>"
      ]
     },
     "metadata": {},
     "output_type": "display_data"
    }
   ],
   "source": [
    "epochs = 60\n",
    "# So far, 70. \n",
    "# Loss starts to climb at 65.\n",
    "\n",
    "# 1e-3 too high, loss spikes randomly\n",
    "lr=1e-4\n",
    "optimizer = torch.optim.Adam(full_model.parameters(), lr=lr)\n",
    "\n",
    "# Their batch size is 2, so just doing 1 example per batch isn't too bad. \n",
    "train(full_model, optimizer, epochs, train_dataset)"
   ]
  },
  {
   "cell_type": "code",
   "execution_count": 171,
   "id": "38b50bde",
   "metadata": {},
   "outputs": [
    {
     "name": "stdout",
     "output_type": "stream",
     "text": [
      "Untrained Model | Validation Loss: 0.1941\n",
      "Trained Model   | Validation Loss: 0.1279\n"
     ]
    }
   ],
   "source": [
    "untrained_model = JointNet()\n",
    "\n",
    "full_model.max_iters = 50\n",
    "untrained_model.max_iters = 50\n",
    "\n",
    "untrained_loss = validate_model(untrained_model, val_dataset)\n",
    "trained_loss = validate_model(full_model, val_dataset)\n",
    "\n",
    "print(f'Untrained Model | Validation Loss: {untrained_loss:.4f}')\n",
    "print(f'Trained Model   | Validation Loss: {trained_loss:.4f}')\n",
    "\n",
    "# Scientific Notation"
   ]
  },
  {
   "cell_type": "markdown",
   "id": "de052014",
   "metadata": {},
   "source": [
    "### Val dataset on full model\n",
    "\n",
    "Visualize output difference between trained and untrained models"
   ]
  },
  {
   "cell_type": "code",
   "execution_count": 172,
   "id": "a186931b",
   "metadata": {},
   "outputs": [],
   "source": [
    "G = val_dataset[1]\n",
    "verts = torch.FloatTensor(G['vertices'])\n",
    "one_ring = torch.LongTensor(G['one_ring'])\n",
    "geodesic = torch.LongTensor(G['geodesic'])\n",
    "joints_gt = torch.FloatTensor(G[\"joints\"])"
   ]
  },
  {
   "cell_type": "code",
   "execution_count": 173,
   "id": "a904deec",
   "metadata": {},
   "outputs": [],
   "source": [
    "joints_pred = full_model(verts, one_ring.view(2, -1), geodesic.view(2, -1))\n",
    "\n",
    "visualize_mesh_graph(verts.detach().numpy(), \n",
    "                     one_ring.detach().numpy(), \n",
    "                     joints_gt.detach().numpy(), \n",
    "                     joints_pred.detach().numpy())"
   ]
  },
  {
   "cell_type": "code",
   "execution_count": null,
   "id": "e6540720",
   "metadata": {},
   "outputs": [
    {
     "ename": "",
     "evalue": "",
     "output_type": "error",
     "traceback": [
      "\u001b[1;31mThe Kernel crashed while executing code in the current cell or a previous cell. \n",
      "\u001b[1;31mPlease review the code in the cell(s) to identify a possible cause of the failure. \n",
      "\u001b[1;31mClick <a href='https://aka.ms/vscodeJupyterKernelCrash'>here</a> for more info. \n",
      "\u001b[1;31mView Jupyter <a href='command:jupyter.viewOutput'>log</a> for further details."
     ]
    }
   ],
   "source": [
    "joints_pred = untrained_model(verts, one_ring.view(2, -1), geodesic.view(2, -1))\n",
    "\n",
    "visualize_mesh_graph(verts.detach().numpy(), \n",
    "                     one_ring.detach().numpy(), \n",
    "                     joints_gt.detach().numpy(), \n",
    "                     joints_pred.detach().numpy())"
   ]
  }
 ],
 "metadata": {
  "kernelspec": {
   "display_name": "pytorch-venv-3.11.11",
   "language": "python",
   "name": "python3"
  },
  "language_info": {
   "codemirror_mode": {
    "name": "ipython",
    "version": 3
   },
   "file_extension": ".py",
   "mimetype": "text/x-python",
   "name": "python",
   "nbconvert_exporter": "python",
   "pygments_lexer": "ipython3",
   "version": "3.11.11"
  }
 },
 "nbformat": 4,
 "nbformat_minor": 5
}
