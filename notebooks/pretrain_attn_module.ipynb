{
 "cells": [
  {
   "cell_type": "code",
   "execution_count": 20,
   "id": "1176efa7",
   "metadata": {},
   "outputs": [],
   "source": [
    "import sys\n",
    "# caution: path[0] is reserved for script path (or '' in REPL)\n",
    "sys.path.insert(1, '../utils')"
   ]
  },
  {
   "cell_type": "code",
   "execution_count": 21,
   "id": "155a3f20",
   "metadata": {},
   "outputs": [],
   "source": [
    "import open3d as o3d\n",
    "import numpy as np"
   ]
  },
  {
   "cell_type": "code",
   "execution_count": null,
   "id": "c17f02f2",
   "metadata": {},
   "outputs": [],
   "source": [
    "import torch\n",
    "import torch.nn as nn\n",
    "import torch.nn.functional as F\n",
    "from torch.utils.data import Dataset, DataLoader\n",
    "from torch_scatter import scatter_max\n",
    "\n",
    "import matplotlib.pyplot as plt\n",
    "\n",
    "import random\n",
    "import pickle\n",
    "from tqdm import tqdm\n",
    "\n",
    "from mean_shift_clustering import mean_shift_clustering, mode_extraction\n",
    "from models import JointFeatureNet, GMEdgeConv, GMEdgeNet"
   ]
  },
  {
   "cell_type": "code",
   "execution_count": 63,
   "id": "1024c1f7",
   "metadata": {},
   "outputs": [],
   "source": [
    "class RigNetDataset(Dataset):\n",
    "    def __init__(self, file_path):\n",
    "\n",
    "        with open(file_path, 'rb') as f:\n",
    "            self.examples = pickle.load(f)\n",
    "\n",
    "    def __len__(self):\n",
    "        return len(self.examples)\n",
    "\n",
    "    def __getitem__(self, index):\n",
    "        G = self.examples[index]\n",
    "\n",
    "\n",
    "        G['vertices'] = torch.FloatTensor(G['vertices'])\n",
    "        G['one_ring'] = torch.LongTensor(G['one_ring'])\n",
    "        G['geodesic'] = torch.LongTensor(G['geodesic'])\n",
    "        G['attn_mask'] = torch.FloatTensor(G['attn_mask'])\n",
    "\n",
    "        return G\n"
   ]
  },
  {
   "cell_type": "code",
   "execution_count": 64,
   "id": "dd2f617b",
   "metadata": {},
   "outputs": [],
   "source": [
    "# Use val and test sets for testing\n",
    "train_path = '../data/ModelResource_RigNetv1_preproccessed/mesh_graphs/val.pkl'\n",
    "val_path = '../data/ModelResource_RigNetv1_preproccessed/mesh_graphs/test.pkl'"
   ]
  },
  {
   "cell_type": "code",
   "execution_count": 65,
   "id": "aa108a4a",
   "metadata": {},
   "outputs": [],
   "source": [
    "train_ds = RigNetDataset(train_path)\n",
    "val_ds = RigNetDataset(val_path)"
   ]
  },
  {
   "cell_type": "markdown",
   "id": "e17fe052",
   "metadata": {},
   "source": []
  },
  {
   "cell_type": "code",
   "execution_count": 66,
   "id": "e1a883ba",
   "metadata": {},
   "outputs": [],
   "source": [
    "def validate(\n",
    "    model: torch.nn.Module,\n",
    "    dataset,\n",
    "    loss_fn: torch.nn.Module,\n",
    "    device: str = \"cpu\"\n",
    "):\n",
    "    \"\"\"\n",
    "    Compute average loss over `dataset` without gradient updates.\n",
    "    \"\"\"\n",
    "    model.eval()\n",
    "    total_loss = 0.0\n",
    "    \n",
    "    with torch.no_grad():\n",
    "        for i in range(len(dataset)):\n",
    "            G = dataset[i]\n",
    "            \n",
    "            verts = G['vertices']\n",
    "            one_ring = G['one_ring']\n",
    "            geodesic = G['geodesic']\n",
    "            attn_mask = G['attn_mask']\n",
    "            \n",
    "            logits = model(verts, one_ring, geodesic).view(-1)\n",
    "            loss = loss_fn(logits, attn_mask)\n",
    "            total_loss += loss.item()\n",
    "    \n",
    "    avg_loss = total_loss / len(dataset)\n",
    "    return avg_loss"
   ]
  },
  {
   "cell_type": "code",
   "execution_count": 89,
   "id": "11e0af95",
   "metadata": {},
   "outputs": [],
   "source": [
    "def train(\n",
    "    model: torch.nn.Module,\n",
    "    optimizer: torch.optim.Optimizer,\n",
    "    train_ds,\n",
    "    val_ds = None,\n",
    "    epochs: int = 10,\n",
    "    device: str = \"cpu\"\n",
    "):\n",
    "\n",
    "    model.to(device)\n",
    "    loss_fn = torch.nn.BCEWithLogitsLoss()\n",
    "    \n",
    "    train_losses = []\n",
    "    val_losses   = []\n",
    "    \n",
    "    for epoch in range(1, epochs+1):\n",
    "        model.train()\n",
    "        running_loss = 0.0\n",
    "        \n",
    "        for i in tqdm(range(len(train_ds)), desc=f\"Epoch {epoch}/{epochs}\"):\n",
    "            G = train_ds[i]\n",
    "            \n",
    "            # move data to device\n",
    "            verts = G['vertices']\n",
    "            one_ring = G['one_ring']\n",
    "            geodesic = G['geodesic']\n",
    "            attn_mask = G['attn_mask']\n",
    "            \n",
    "            # forward\n",
    "            logits = model(verts, one_ring, geodesic)\n",
    "            logits = logits.view(-1)\n",
    "            \n",
    "            loss = loss_fn(logits, attn_mask)\n",
    "            \n",
    "            # backward\n",
    "            optimizer.zero_grad()\n",
    "            loss.backward()\n",
    "            optimizer.step()\n",
    "            \n",
    "            running_loss += loss.item()\n",
    "        \n",
    "        avg_train = running_loss / len(train_ds)\n",
    "        train_losses.append(avg_train)\n",
    "        \n",
    "        # optional validation\n",
    "        if val_ds is not None:\n",
    "            avg_val = validate(model, val_ds, loss_fn, device)\n",
    "            val_losses.append(avg_val)\n",
    "            print(f\"Epoch {epoch}: train loss = {avg_train:.4e}, val loss = {avg_val:.4e}\")\n",
    "\n",
    "            # plot\n",
    "            plt.figure()\n",
    "            plt.semilogy(range(1, epoch+1), train_losses, label=\"train\")\n",
    "            if val_ds is not None:\n",
    "                plt.semilogy(range(1, epoch+1), val_losses, label=\"val\")\n",
    "            plt.xlabel(\"Epoch\")\n",
    "            plt.ylabel(\"Loss (BCEWithLogits)\")\n",
    "            plt.title(\"Attention Head Training Loss\")\n",
    "            plt.legend()\n",
    "            plt.show()\n",
    "\n",
    "        else:\n",
    "            print(f\"Epoch {epoch}: train loss = {avg_train:.4e}\")\n",
    "    \n",
    "    return train_losses, val_losses"
   ]
  },
  {
   "cell_type": "code",
   "execution_count": null,
   "id": "f5e674c6",
   "metadata": {},
   "outputs": [],
   "source": [
    "jointnet = JointFeatureNet(is_training=True)\n",
    "attn_module = jointnet.attn_head"
   ]
  },
  {
   "cell_type": "code",
   "execution_count": 100,
   "id": "c80383ac",
   "metadata": {},
   "outputs": [],
   "source": [
    "untrained_jointnet = JointNet(is_training=True)\n",
    "untrained_attn_module = untrained_jointnet.attn_head"
   ]
  },
  {
   "cell_type": "markdown",
   "id": "7b8f4894",
   "metadata": {},
   "source": [
    "### Pre-training Testing"
   ]
  },
  {
   "cell_type": "code",
   "execution_count": 101,
   "id": "f5bcfcd7",
   "metadata": {},
   "outputs": [],
   "source": [
    "import matplotlib.cm as cm\n",
    "\n",
    "def visualize_attention_heatmap(verts: np.ndarray,\n",
    "                                edges: np.ndarray,\n",
    "                                attn_pred: np.ndarray,\n",
    "                                attn_gt: np.ndarray = None):\n",
    "\n",
    "    # create wireframe\n",
    "    ls = o3d.geometry.LineSet()\n",
    "    ls.points = o3d.utility.Vector3dVector(verts)\n",
    "    ls.lines  = o3d.utility.Vector2iVector(edges)\n",
    "    ls.colors = o3d.utility.Vector3dVector(np.tile([0.7,0.7,0.7], (len(edges),1)))\n",
    "    \n",
    "    # map predictions to colors\n",
    "    N = attn_pred.shape[0]\n",
    "    rgb = np.zeros((N, 3), dtype=attn_pred.dtype)\n",
    "    rgb[:, 0] = attn_pred.reshape(-1)\n",
    "    \n",
    "    # make a point cloud of vertices colored by pred\n",
    "    pcd = o3d.geometry.PointCloud()\n",
    "    pcd.points = o3d.utility.Vector3dVector(verts)\n",
    "    pcd.colors = o3d.utility.Vector3dVector(rgb)\n",
    "    \n",
    "    # overlay GT as blue points\n",
    "    geometries = [ls, pcd]\n",
    "    if attn_gt is not None:\n",
    "        gt_idxs = np.nonzero(attn_gt.astype(bool))[0]\n",
    "        if len(gt_idxs) > 0:\n",
    "            gt_pcd = o3d.geometry.PointCloud()\n",
    "            # Index the vertices which have a non-zero mask value\n",
    "            gt_pcd.points = o3d.utility.Vector3dVector(verts[gt_idxs])\n",
    "            gt_colors = np.tile([0.0,0.0,1.0], (len(gt_idxs),1))\n",
    "            gt_pcd.colors = o3d.utility.Vector3dVector(gt_colors)\n",
    "            geometries.append(gt_pcd)\n",
    "    \n",
    "    # render\n",
    "    o3d.visualization.draw_geometries(\n",
    "        geometries,\n",
    "        window_name=\"Attention Heatmap (mesh+pred+gt)\"\n",
    "    )"
   ]
  },
  {
   "cell_type": "code",
   "execution_count": 102,
   "id": "5d5cab72",
   "metadata": {},
   "outputs": [],
   "source": [
    "G = train_ds[0]\n",
    "verts = G['vertices']\n",
    "one_ring = G['one_ring']\n",
    "geodesic = G['geodesic']\n",
    "attn_mask = G['attn_mask']\n",
    "\n",
    "attn_pred = F.sigmoid(untrained_attn_module(verts, one_ring, geodesic))\n",
    "attn_gt = attn_mask"
   ]
  },
  {
   "cell_type": "code",
   "execution_count": 93,
   "id": "ffa2f46c",
   "metadata": {},
   "outputs": [
    {
     "data": {
      "text/plain": [
       "tensor([[0.5091],\n",
       "        [0.5091],\n",
       "        [0.5091],\n",
       "        ...,\n",
       "        [0.5094],\n",
       "        [0.5094],\n",
       "        [0.5093]], grad_fn=<SigmoidBackward0>)"
      ]
     },
     "execution_count": 93,
     "metadata": {},
     "output_type": "execute_result"
    }
   ],
   "source": [
    "attn_pred"
   ]
  },
  {
   "cell_type": "code",
   "execution_count": 103,
   "id": "69b9bfdc",
   "metadata": {},
   "outputs": [],
   "source": [
    "# Everything is given a ~0.5 probability. \n",
    "visualize_attention_heatmap(verts=verts.detach().numpy(), \n",
    "                           edges=one_ring.reshape(-1, 2).detach().numpy(), \n",
    "                           attn_pred=attn_pred.detach().numpy())"
   ]
  },
  {
   "cell_type": "markdown",
   "id": "9478a2cd",
   "metadata": {},
   "source": [
    "### Training"
   ]
  },
  {
   "cell_type": "code",
   "execution_count": 95,
   "id": "32b556ef",
   "metadata": {},
   "outputs": [],
   "source": [
    "epochs = 2\n",
    "lr = 1e-4\n",
    "wd = 1e-5\n",
    "optimizer = torch.optim.AdamW(params=attn_module.parameters(), lr=lr, weight_decay=wd)"
   ]
  },
  {
   "cell_type": "code",
   "execution_count": 99,
   "id": "76820126",
   "metadata": {},
   "outputs": [
    {
     "name": "stderr",
     "output_type": "stream",
     "text": [
      "Epoch 1/2: 100%|██████████| 270/270 [03:48<00:00,  1.18it/s]\n"
     ]
    },
    {
     "name": "stdout",
     "output_type": "stream",
     "text": [
      "Epoch 1: train loss = 6.0019e-01, val loss = 5.7137e-01\n"
     ]
    },
    {
     "data": {
      "image/png": "[encoded data removed]",
      "text/plain": [
       "<Figure size 640x480 with 1 Axes>"
      ]
     },
     "metadata": {},
     "output_type": "display_data"
    },
    {
     "name": "stderr",
     "output_type": "stream",
     "text": [
      "Epoch 2/2: 100%|██████████| 270/270 [09:41<00:00,  2.15s/it]\n"
     ]
    },
    {
     "ename": "KeyboardInterrupt",
     "evalue": "",
     "output_type": "error",
     "traceback": [
      "\u001b[31m---------------------------------------------------------------------------\u001b[39m",
      "\u001b[31mKeyboardInterrupt\u001b[39m                         Traceback (most recent call last)",
      "\u001b[36mCell\u001b[39m\u001b[36m \u001b[39m\u001b[32mIn[99]\u001b[39m\u001b[32m, line 1\u001b[39m\n\u001b[32m----> \u001b[39m\u001b[32m1\u001b[39m train_losses, val_losses = \u001b[43mtrain\u001b[49m\u001b[43m(\u001b[49m\n\u001b[32m      2\u001b[39m \u001b[43m    \u001b[49m\u001b[43mattn_module\u001b[49m\u001b[43m,\u001b[49m\u001b[43m \u001b[49m\u001b[43moptimizer\u001b[49m\u001b[43m,\u001b[49m\n\u001b[32m      3\u001b[39m \u001b[43m    \u001b[49m\u001b[43mtrain_ds\u001b[49m\u001b[43m=\u001b[49m\u001b[43mtrain_ds\u001b[49m\u001b[43m,\u001b[49m\u001b[43m \u001b[49m\u001b[43mval_ds\u001b[49m\u001b[43m=\u001b[49m\u001b[43mval_ds\u001b[49m\u001b[43m,\u001b[49m\n\u001b[32m      4\u001b[39m \u001b[43m    \u001b[49m\u001b[43mepochs\u001b[49m\u001b[43m=\u001b[49m\u001b[43mepochs\u001b[49m\u001b[43m,\u001b[49m\u001b[43m \u001b[49m\u001b[43mdevice\u001b[49m\u001b[43m=\u001b[49m\u001b[33;43m\"\u001b[39;49m\u001b[33;43mcpu\u001b[39;49m\u001b[33;43m\"\u001b[39;49m\n\u001b[32m      5\u001b[39m \u001b[43m)\u001b[49m\n",
      "\u001b[36mCell\u001b[39m\u001b[36m \u001b[39m\u001b[32mIn[89]\u001b[39m\u001b[32m, line 47\u001b[39m, in \u001b[36mtrain\u001b[39m\u001b[34m(model, optimizer, train_ds, val_ds, epochs, device)\u001b[39m\n\u001b[32m     45\u001b[39m \u001b[38;5;66;03m# optional validation\u001b[39;00m\n\u001b[32m     46\u001b[39m \u001b[38;5;28;01mif\u001b[39;00m val_ds \u001b[38;5;129;01mis\u001b[39;00m \u001b[38;5;129;01mnot\u001b[39;00m \u001b[38;5;28;01mNone\u001b[39;00m:\n\u001b[32m---> \u001b[39m\u001b[32m47\u001b[39m     avg_val = \u001b[43mvalidate\u001b[49m\u001b[43m(\u001b[49m\u001b[43mmodel\u001b[49m\u001b[43m,\u001b[49m\u001b[43m \u001b[49m\u001b[43mval_ds\u001b[49m\u001b[43m,\u001b[49m\u001b[43m \u001b[49m\u001b[43mloss_fn\u001b[49m\u001b[43m,\u001b[49m\u001b[43m \u001b[49m\u001b[43mdevice\u001b[49m\u001b[43m)\u001b[49m\n\u001b[32m     48\u001b[39m     val_losses.append(avg_val)\n\u001b[32m     49\u001b[39m     \u001b[38;5;28mprint\u001b[39m(\u001b[33mf\u001b[39m\u001b[33m\"\u001b[39m\u001b[33mEpoch \u001b[39m\u001b[38;5;132;01m{\u001b[39;00mepoch\u001b[38;5;132;01m}\u001b[39;00m\u001b[33m: train loss = \u001b[39m\u001b[38;5;132;01m{\u001b[39;00mavg_train\u001b[38;5;132;01m:\u001b[39;00m\u001b[33m.4e\u001b[39m\u001b[38;5;132;01m}\u001b[39;00m\u001b[33m, val loss = \u001b[39m\u001b[38;5;132;01m{\u001b[39;00mavg_val\u001b[38;5;132;01m:\u001b[39;00m\u001b[33m.4e\u001b[39m\u001b[38;5;132;01m}\u001b[39;00m\u001b[33m\"\u001b[39m)\n",
      "\u001b[36mCell\u001b[39m\u001b[36m \u001b[39m\u001b[32mIn[66]\u001b[39m\u001b[32m, line 22\u001b[39m, in \u001b[36mvalidate\u001b[39m\u001b[34m(model, dataset, loss_fn, device)\u001b[39m\n\u001b[32m     19\u001b[39m geodesic = G[\u001b[33m'\u001b[39m\u001b[33mgeodesic\u001b[39m\u001b[33m'\u001b[39m]\n\u001b[32m     20\u001b[39m attn_mask = G[\u001b[33m'\u001b[39m\u001b[33mattn_mask\u001b[39m\u001b[33m'\u001b[39m]\n\u001b[32m---> \u001b[39m\u001b[32m22\u001b[39m logits = \u001b[43mmodel\u001b[49m\u001b[43m(\u001b[49m\u001b[43mverts\u001b[49m\u001b[43m,\u001b[49m\u001b[43m \u001b[49m\u001b[43mone_ring\u001b[49m\u001b[43m,\u001b[49m\u001b[43m \u001b[49m\u001b[43mgeodesic\u001b[49m\u001b[43m)\u001b[49m.view(-\u001b[32m1\u001b[39m)\n\u001b[32m     23\u001b[39m loss = loss_fn(logits, attn_mask)\n\u001b[32m     24\u001b[39m total_loss += loss.item()\n",
      "\u001b[36mFile \u001b[39m\u001b[32m~/Documents/cs/lib/pytorch-venv-3.11.11/lib/python3.11/site-packages/torch/nn/modules/module.py:1739\u001b[39m, in \u001b[36mModule._wrapped_call_impl\u001b[39m\u001b[34m(self, *args, **kwargs)\u001b[39m\n\u001b[32m   1737\u001b[39m     \u001b[38;5;28;01mreturn\u001b[39;00m \u001b[38;5;28mself\u001b[39m._compiled_call_impl(*args, **kwargs)  \u001b[38;5;66;03m# type: ignore[misc]\u001b[39;00m\n\u001b[32m   1738\u001b[39m \u001b[38;5;28;01melse\u001b[39;00m:\n\u001b[32m-> \u001b[39m\u001b[32m1739\u001b[39m     \u001b[38;5;28;01mreturn\u001b[39;00m \u001b[38;5;28;43mself\u001b[39;49m\u001b[43m.\u001b[49m\u001b[43m_call_impl\u001b[49m\u001b[43m(\u001b[49m\u001b[43m*\u001b[49m\u001b[43margs\u001b[49m\u001b[43m,\u001b[49m\u001b[43m \u001b[49m\u001b[43m*\u001b[49m\u001b[43m*\u001b[49m\u001b[43mkwargs\u001b[49m\u001b[43m)\u001b[49m\n",
      "\u001b[36mFile \u001b[39m\u001b[32m~/Documents/cs/lib/pytorch-venv-3.11.11/lib/python3.11/site-packages/torch/nn/modules/module.py:1750\u001b[39m, in \u001b[36mModule._call_impl\u001b[39m\u001b[34m(self, *args, **kwargs)\u001b[39m\n\u001b[32m   1745\u001b[39m \u001b[38;5;66;03m# If we don't have any hooks, we want to skip the rest of the logic in\u001b[39;00m\n\u001b[32m   1746\u001b[39m \u001b[38;5;66;03m# this function, and just call forward.\u001b[39;00m\n\u001b[32m   1747\u001b[39m \u001b[38;5;28;01mif\u001b[39;00m \u001b[38;5;129;01mnot\u001b[39;00m (\u001b[38;5;28mself\u001b[39m._backward_hooks \u001b[38;5;129;01mor\u001b[39;00m \u001b[38;5;28mself\u001b[39m._backward_pre_hooks \u001b[38;5;129;01mor\u001b[39;00m \u001b[38;5;28mself\u001b[39m._forward_hooks \u001b[38;5;129;01mor\u001b[39;00m \u001b[38;5;28mself\u001b[39m._forward_pre_hooks\n\u001b[32m   1748\u001b[39m         \u001b[38;5;129;01mor\u001b[39;00m _global_backward_pre_hooks \u001b[38;5;129;01mor\u001b[39;00m _global_backward_hooks\n\u001b[32m   1749\u001b[39m         \u001b[38;5;129;01mor\u001b[39;00m _global_forward_hooks \u001b[38;5;129;01mor\u001b[39;00m _global_forward_pre_hooks):\n\u001b[32m-> \u001b[39m\u001b[32m1750\u001b[39m     \u001b[38;5;28;01mreturn\u001b[39;00m \u001b[43mforward_call\u001b[49m\u001b[43m(\u001b[49m\u001b[43m*\u001b[49m\u001b[43margs\u001b[49m\u001b[43m,\u001b[49m\u001b[43m \u001b[49m\u001b[43m*\u001b[49m\u001b[43m*\u001b[49m\u001b[43mkwargs\u001b[49m\u001b[43m)\u001b[49m\n\u001b[32m   1752\u001b[39m result = \u001b[38;5;28;01mNone\u001b[39;00m\n\u001b[32m   1753\u001b[39m called_always_called_hooks = \u001b[38;5;28mset\u001b[39m()\n",
      "\u001b[36mFile \u001b[39m\u001b[32m~/Documents/cs/tamu/csce685-rignet/notebooks/../utils/models.py:135\u001b[39m, in \u001b[36mVertexAttentionModule.forward\u001b[39m\u001b[34m(self, *args, **kwargs)\u001b[39m\n\u001b[32m    134\u001b[39m \u001b[38;5;28;01mdef\u001b[39;00m\u001b[38;5;250m \u001b[39m\u001b[34mforward\u001b[39m(\u001b[38;5;28mself\u001b[39m, *args, **kwargs):\n\u001b[32m--> \u001b[39m\u001b[32m135\u001b[39m     \u001b[38;5;28;01mreturn\u001b[39;00m \u001b[38;5;28;43mself\u001b[39;49m\u001b[43m.\u001b[49m\u001b[43mmodel\u001b[49m\u001b[43m(\u001b[49m\u001b[43m*\u001b[49m\u001b[43margs\u001b[49m\u001b[43m,\u001b[49m\u001b[43m \u001b[49m\u001b[43m*\u001b[49m\u001b[43m*\u001b[49m\u001b[43mkwargs\u001b[49m\u001b[43m)\u001b[49m\n",
      "\u001b[36mFile \u001b[39m\u001b[32m~/Documents/cs/lib/pytorch-venv-3.11.11/lib/python3.11/site-packages/torch/nn/modules/module.py:1739\u001b[39m, in \u001b[36mModule._wrapped_call_impl\u001b[39m\u001b[34m(self, *args, **kwargs)\u001b[39m\n\u001b[32m   1737\u001b[39m     \u001b[38;5;28;01mreturn\u001b[39;00m \u001b[38;5;28mself\u001b[39m._compiled_call_impl(*args, **kwargs)  \u001b[38;5;66;03m# type: ignore[misc]\u001b[39;00m\n\u001b[32m   1738\u001b[39m \u001b[38;5;28;01melse\u001b[39;00m:\n\u001b[32m-> \u001b[39m\u001b[32m1739\u001b[39m     \u001b[38;5;28;01mreturn\u001b[39;00m \u001b[38;5;28;43mself\u001b[39;49m\u001b[43m.\u001b[49m\u001b[43m_call_impl\u001b[49m\u001b[43m(\u001b[49m\u001b[43m*\u001b[49m\u001b[43margs\u001b[49m\u001b[43m,\u001b[49m\u001b[43m \u001b[49m\u001b[43m*\u001b[49m\u001b[43m*\u001b[49m\u001b[43mkwargs\u001b[49m\u001b[43m)\u001b[49m\n",
      "\u001b[36mFile \u001b[39m\u001b[32m~/Documents/cs/lib/pytorch-venv-3.11.11/lib/python3.11/site-packages/torch/nn/modules/module.py:1750\u001b[39m, in \u001b[36mModule._call_impl\u001b[39m\u001b[34m(self, *args, **kwargs)\u001b[39m\n\u001b[32m   1745\u001b[39m \u001b[38;5;66;03m# If we don't have any hooks, we want to skip the rest of the logic in\u001b[39;00m\n\u001b[32m   1746\u001b[39m \u001b[38;5;66;03m# this function, and just call forward.\u001b[39;00m\n\u001b[32m   1747\u001b[39m \u001b[38;5;28;01mif\u001b[39;00m \u001b[38;5;129;01mnot\u001b[39;00m (\u001b[38;5;28mself\u001b[39m._backward_hooks \u001b[38;5;129;01mor\u001b[39;00m \u001b[38;5;28mself\u001b[39m._backward_pre_hooks \u001b[38;5;129;01mor\u001b[39;00m \u001b[38;5;28mself\u001b[39m._forward_hooks \u001b[38;5;129;01mor\u001b[39;00m \u001b[38;5;28mself\u001b[39m._forward_pre_hooks\n\u001b[32m   1748\u001b[39m         \u001b[38;5;129;01mor\u001b[39;00m _global_backward_pre_hooks \u001b[38;5;129;01mor\u001b[39;00m _global_backward_hooks\n\u001b[32m   1749\u001b[39m         \u001b[38;5;129;01mor\u001b[39;00m _global_forward_hooks \u001b[38;5;129;01mor\u001b[39;00m _global_forward_pre_hooks):\n\u001b[32m-> \u001b[39m\u001b[32m1750\u001b[39m     \u001b[38;5;28;01mreturn\u001b[39;00m \u001b[43mforward_call\u001b[49m\u001b[43m(\u001b[49m\u001b[43m*\u001b[49m\u001b[43margs\u001b[49m\u001b[43m,\u001b[49m\u001b[43m \u001b[49m\u001b[43m*\u001b[49m\u001b[43m*\u001b[49m\u001b[43mkwargs\u001b[49m\u001b[43m)\u001b[49m\n\u001b[32m   1752\u001b[39m result = \u001b[38;5;28;01mNone\u001b[39;00m\n\u001b[32m   1753\u001b[39m called_always_called_hooks = \u001b[38;5;28mset\u001b[39m()\n",
      "\u001b[36mFile \u001b[39m\u001b[32m~/Documents/cs/tamu/csce685-rignet/notebooks/../utils/models.py:103\u001b[39m, in \u001b[36mGMEdgeNet.forward\u001b[39m\u001b[34m(self, verts, one_ring, geodesic)\u001b[39m\n\u001b[32m    101\u001b[39m out64 = \u001b[38;5;28mself\u001b[39m.conv1(verts, one_ring, geodesic)\n\u001b[32m    102\u001b[39m out256 = \u001b[38;5;28mself\u001b[39m.conv2(out64, one_ring, geodesic)\n\u001b[32m--> \u001b[39m\u001b[32m103\u001b[39m out512 = \u001b[38;5;28;43mself\u001b[39;49m\u001b[43m.\u001b[49m\u001b[43mconv3\u001b[49m\u001b[43m(\u001b[49m\u001b[43mout256\u001b[49m\u001b[43m,\u001b[49m\u001b[43m \u001b[49m\u001b[43mone_ring\u001b[49m\u001b[43m,\u001b[49m\u001b[43m \u001b[49m\u001b[43mgeodesic\u001b[49m\u001b[43m)\u001b[49m\n\u001b[32m    105\u001b[39m x832 = torch.cat([out64, out256, out512], dim=\u001b[32m1\u001b[39m)\n\u001b[32m    107\u001b[39m \u001b[38;5;66;03m# Channelwise max: [832]\u001b[39;00m\n",
      "\u001b[36mFile \u001b[39m\u001b[32m~/Documents/cs/lib/pytorch-venv-3.11.11/lib/python3.11/site-packages/torch/nn/modules/module.py:1739\u001b[39m, in \u001b[36mModule._wrapped_call_impl\u001b[39m\u001b[34m(self, *args, **kwargs)\u001b[39m\n\u001b[32m   1737\u001b[39m     \u001b[38;5;28;01mreturn\u001b[39;00m \u001b[38;5;28mself\u001b[39m._compiled_call_impl(*args, **kwargs)  \u001b[38;5;66;03m# type: ignore[misc]\u001b[39;00m\n\u001b[32m   1738\u001b[39m \u001b[38;5;28;01melse\u001b[39;00m:\n\u001b[32m-> \u001b[39m\u001b[32m1739\u001b[39m     \u001b[38;5;28;01mreturn\u001b[39;00m \u001b[38;5;28;43mself\u001b[39;49m\u001b[43m.\u001b[49m\u001b[43m_call_impl\u001b[49m\u001b[43m(\u001b[49m\u001b[43m*\u001b[49m\u001b[43margs\u001b[49m\u001b[43m,\u001b[49m\u001b[43m \u001b[49m\u001b[43m*\u001b[49m\u001b[43m*\u001b[49m\u001b[43mkwargs\u001b[49m\u001b[43m)\u001b[49m\n",
      "\u001b[36mFile \u001b[39m\u001b[32m~/Documents/cs/lib/pytorch-venv-3.11.11/lib/python3.11/site-packages/torch/nn/modules/module.py:1750\u001b[39m, in \u001b[36mModule._call_impl\u001b[39m\u001b[34m(self, *args, **kwargs)\u001b[39m\n\u001b[32m   1745\u001b[39m \u001b[38;5;66;03m# If we don't have any hooks, we want to skip the rest of the logic in\u001b[39;00m\n\u001b[32m   1746\u001b[39m \u001b[38;5;66;03m# this function, and just call forward.\u001b[39;00m\n\u001b[32m   1747\u001b[39m \u001b[38;5;28;01mif\u001b[39;00m \u001b[38;5;129;01mnot\u001b[39;00m (\u001b[38;5;28mself\u001b[39m._backward_hooks \u001b[38;5;129;01mor\u001b[39;00m \u001b[38;5;28mself\u001b[39m._backward_pre_hooks \u001b[38;5;129;01mor\u001b[39;00m \u001b[38;5;28mself\u001b[39m._forward_hooks \u001b[38;5;129;01mor\u001b[39;00m \u001b[38;5;28mself\u001b[39m._forward_pre_hooks\n\u001b[32m   1748\u001b[39m         \u001b[38;5;129;01mor\u001b[39;00m _global_backward_pre_hooks \u001b[38;5;129;01mor\u001b[39;00m _global_backward_hooks\n\u001b[32m   1749\u001b[39m         \u001b[38;5;129;01mor\u001b[39;00m _global_forward_hooks \u001b[38;5;129;01mor\u001b[39;00m _global_forward_pre_hooks):\n\u001b[32m-> \u001b[39m\u001b[32m1750\u001b[39m     \u001b[38;5;28;01mreturn\u001b[39;00m \u001b[43mforward_call\u001b[49m\u001b[43m(\u001b[49m\u001b[43m*\u001b[49m\u001b[43margs\u001b[49m\u001b[43m,\u001b[49m\u001b[43m \u001b[49m\u001b[43m*\u001b[49m\u001b[43m*\u001b[49m\u001b[43mkwargs\u001b[49m\u001b[43m)\u001b[49m\n\u001b[32m   1752\u001b[39m result = \u001b[38;5;28;01mNone\u001b[39;00m\n\u001b[32m   1753\u001b[39m called_always_called_hooks = \u001b[38;5;28mset\u001b[39m()\n",
      "\u001b[36mFile \u001b[39m\u001b[32m~/Documents/cs/tamu/csce685-rignet/notebooks/../utils/models.py:61\u001b[39m, in \u001b[36mGMEdgeConv.forward\u001b[39m\u001b[34m(self, x, edge_index_topo, edge_index_geo)\u001b[39m\n\u001b[32m     59\u001b[39m xj_g = x[j_g]\n\u001b[32m     60\u001b[39m edge_feat_g = torch.cat([xi_g, xj_g - xi_g], dim=\u001b[32m1\u001b[39m)  \u001b[38;5;66;03m# [E_geo, 2*F_in]\u001b[39;00m\n\u001b[32m---> \u001b[39m\u001b[32m61\u001b[39m edge_feat_g = \u001b[38;5;28;43mself\u001b[39;49m\u001b[43m.\u001b[49m\u001b[43mmlp_geo\u001b[49m\u001b[43m(\u001b[49m\u001b[43medge_feat_g\u001b[49m\u001b[43m)\u001b[49m \u001b[38;5;66;03m# [E_geo, hidden]\u001b[39;00m\n\u001b[32m     63\u001b[39m geo_pooled, _ = scatter_max(edge_feat_g, i_g, dim=\u001b[32m0\u001b[39m, dim_size=N)\n\u001b[32m     64\u001b[39m \u001b[38;5;66;03m# geo_pooled: [N, hidden]\u001b[39;00m\n\u001b[32m     65\u001b[39m \n\u001b[32m     66\u001b[39m \u001b[38;5;66;03m# --- fuse ---\u001b[39;00m\n",
      "\u001b[36mFile \u001b[39m\u001b[32m~/Documents/cs/lib/pytorch-venv-3.11.11/lib/python3.11/site-packages/torch/nn/modules/module.py:1739\u001b[39m, in \u001b[36mModule._wrapped_call_impl\u001b[39m\u001b[34m(self, *args, **kwargs)\u001b[39m\n\u001b[32m   1737\u001b[39m     \u001b[38;5;28;01mreturn\u001b[39;00m \u001b[38;5;28mself\u001b[39m._compiled_call_impl(*args, **kwargs)  \u001b[38;5;66;03m# type: ignore[misc]\u001b[39;00m\n\u001b[32m   1738\u001b[39m \u001b[38;5;28;01melse\u001b[39;00m:\n\u001b[32m-> \u001b[39m\u001b[32m1739\u001b[39m     \u001b[38;5;28;01mreturn\u001b[39;00m \u001b[38;5;28;43mself\u001b[39;49m\u001b[43m.\u001b[49m\u001b[43m_call_impl\u001b[49m\u001b[43m(\u001b[49m\u001b[43m*\u001b[49m\u001b[43margs\u001b[49m\u001b[43m,\u001b[49m\u001b[43m \u001b[49m\u001b[43m*\u001b[49m\u001b[43m*\u001b[49m\u001b[43mkwargs\u001b[49m\u001b[43m)\u001b[49m\n",
      "\u001b[36mFile \u001b[39m\u001b[32m~/Documents/cs/lib/pytorch-venv-3.11.11/lib/python3.11/site-packages/torch/nn/modules/module.py:1750\u001b[39m, in \u001b[36mModule._call_impl\u001b[39m\u001b[34m(self, *args, **kwargs)\u001b[39m\n\u001b[32m   1745\u001b[39m \u001b[38;5;66;03m# If we don't have any hooks, we want to skip the rest of the logic in\u001b[39;00m\n\u001b[32m   1746\u001b[39m \u001b[38;5;66;03m# this function, and just call forward.\u001b[39;00m\n\u001b[32m   1747\u001b[39m \u001b[38;5;28;01mif\u001b[39;00m \u001b[38;5;129;01mnot\u001b[39;00m (\u001b[38;5;28mself\u001b[39m._backward_hooks \u001b[38;5;129;01mor\u001b[39;00m \u001b[38;5;28mself\u001b[39m._backward_pre_hooks \u001b[38;5;129;01mor\u001b[39;00m \u001b[38;5;28mself\u001b[39m._forward_hooks \u001b[38;5;129;01mor\u001b[39;00m \u001b[38;5;28mself\u001b[39m._forward_pre_hooks\n\u001b[32m   1748\u001b[39m         \u001b[38;5;129;01mor\u001b[39;00m _global_backward_pre_hooks \u001b[38;5;129;01mor\u001b[39;00m _global_backward_hooks\n\u001b[32m   1749\u001b[39m         \u001b[38;5;129;01mor\u001b[39;00m _global_forward_hooks \u001b[38;5;129;01mor\u001b[39;00m _global_forward_pre_hooks):\n\u001b[32m-> \u001b[39m\u001b[32m1750\u001b[39m     \u001b[38;5;28;01mreturn\u001b[39;00m \u001b[43mforward_call\u001b[49m\u001b[43m(\u001b[49m\u001b[43m*\u001b[49m\u001b[43margs\u001b[49m\u001b[43m,\u001b[49m\u001b[43m \u001b[49m\u001b[43m*\u001b[49m\u001b[43m*\u001b[49m\u001b[43mkwargs\u001b[49m\u001b[43m)\u001b[49m\n\u001b[32m   1752\u001b[39m result = \u001b[38;5;28;01mNone\u001b[39;00m\n\u001b[32m   1753\u001b[39m called_always_called_hooks = \u001b[38;5;28mset\u001b[39m()\n",
      "\u001b[36mFile \u001b[39m\u001b[32m~/Documents/cs/lib/pytorch-venv-3.11.11/lib/python3.11/site-packages/torch/nn/modules/container.py:250\u001b[39m, in \u001b[36mSequential.forward\u001b[39m\u001b[34m(self, input)\u001b[39m\n\u001b[32m    248\u001b[39m \u001b[38;5;28;01mdef\u001b[39;00m\u001b[38;5;250m \u001b[39m\u001b[34mforward\u001b[39m(\u001b[38;5;28mself\u001b[39m, \u001b[38;5;28minput\u001b[39m):\n\u001b[32m    249\u001b[39m     \u001b[38;5;28;01mfor\u001b[39;00m module \u001b[38;5;129;01min\u001b[39;00m \u001b[38;5;28mself\u001b[39m:\n\u001b[32m--> \u001b[39m\u001b[32m250\u001b[39m         \u001b[38;5;28minput\u001b[39m = \u001b[43mmodule\u001b[49m\u001b[43m(\u001b[49m\u001b[38;5;28;43minput\u001b[39;49m\u001b[43m)\u001b[49m\n\u001b[32m    251\u001b[39m     \u001b[38;5;28;01mreturn\u001b[39;00m \u001b[38;5;28minput\u001b[39m\n",
      "\u001b[36mFile \u001b[39m\u001b[32m~/Documents/cs/lib/pytorch-venv-3.11.11/lib/python3.11/site-packages/torch/nn/modules/module.py:1739\u001b[39m, in \u001b[36mModule._wrapped_call_impl\u001b[39m\u001b[34m(self, *args, **kwargs)\u001b[39m\n\u001b[32m   1737\u001b[39m     \u001b[38;5;28;01mreturn\u001b[39;00m \u001b[38;5;28mself\u001b[39m._compiled_call_impl(*args, **kwargs)  \u001b[38;5;66;03m# type: ignore[misc]\u001b[39;00m\n\u001b[32m   1738\u001b[39m \u001b[38;5;28;01melse\u001b[39;00m:\n\u001b[32m-> \u001b[39m\u001b[32m1739\u001b[39m     \u001b[38;5;28;01mreturn\u001b[39;00m \u001b[38;5;28;43mself\u001b[39;49m\u001b[43m.\u001b[49m\u001b[43m_call_impl\u001b[49m\u001b[43m(\u001b[49m\u001b[43m*\u001b[49m\u001b[43margs\u001b[49m\u001b[43m,\u001b[49m\u001b[43m \u001b[49m\u001b[43m*\u001b[49m\u001b[43m*\u001b[49m\u001b[43mkwargs\u001b[49m\u001b[43m)\u001b[49m\n",
      "\u001b[36mFile \u001b[39m\u001b[32m~/Documents/cs/lib/pytorch-venv-3.11.11/lib/python3.11/site-packages/torch/nn/modules/module.py:1750\u001b[39m, in \u001b[36mModule._call_impl\u001b[39m\u001b[34m(self, *args, **kwargs)\u001b[39m\n\u001b[32m   1745\u001b[39m \u001b[38;5;66;03m# If we don't have any hooks, we want to skip the rest of the logic in\u001b[39;00m\n\u001b[32m   1746\u001b[39m \u001b[38;5;66;03m# this function, and just call forward.\u001b[39;00m\n\u001b[32m   1747\u001b[39m \u001b[38;5;28;01mif\u001b[39;00m \u001b[38;5;129;01mnot\u001b[39;00m (\u001b[38;5;28mself\u001b[39m._backward_hooks \u001b[38;5;129;01mor\u001b[39;00m \u001b[38;5;28mself\u001b[39m._backward_pre_hooks \u001b[38;5;129;01mor\u001b[39;00m \u001b[38;5;28mself\u001b[39m._forward_hooks \u001b[38;5;129;01mor\u001b[39;00m \u001b[38;5;28mself\u001b[39m._forward_pre_hooks\n\u001b[32m   1748\u001b[39m         \u001b[38;5;129;01mor\u001b[39;00m _global_backward_pre_hooks \u001b[38;5;129;01mor\u001b[39;00m _global_backward_hooks\n\u001b[32m   1749\u001b[39m         \u001b[38;5;129;01mor\u001b[39;00m _global_forward_hooks \u001b[38;5;129;01mor\u001b[39;00m _global_forward_pre_hooks):\n\u001b[32m-> \u001b[39m\u001b[32m1750\u001b[39m     \u001b[38;5;28;01mreturn\u001b[39;00m \u001b[43mforward_call\u001b[49m\u001b[43m(\u001b[49m\u001b[43m*\u001b[49m\u001b[43margs\u001b[49m\u001b[43m,\u001b[49m\u001b[43m \u001b[49m\u001b[43m*\u001b[49m\u001b[43m*\u001b[49m\u001b[43mkwargs\u001b[49m\u001b[43m)\u001b[49m\n\u001b[32m   1752\u001b[39m result = \u001b[38;5;28;01mNone\u001b[39;00m\n\u001b[32m   1753\u001b[39m called_always_called_hooks = \u001b[38;5;28mset\u001b[39m()\n",
      "\u001b[36mFile \u001b[39m\u001b[32m~/Documents/cs/lib/pytorch-venv-3.11.11/lib/python3.11/site-packages/torch/nn/modules/linear.py:125\u001b[39m, in \u001b[36mLinear.forward\u001b[39m\u001b[34m(self, input)\u001b[39m\n\u001b[32m    124\u001b[39m \u001b[38;5;28;01mdef\u001b[39;00m\u001b[38;5;250m \u001b[39m\u001b[34mforward\u001b[39m(\u001b[38;5;28mself\u001b[39m, \u001b[38;5;28minput\u001b[39m: Tensor) -> Tensor:\n\u001b[32m--> \u001b[39m\u001b[32m125\u001b[39m     \u001b[38;5;28;01mreturn\u001b[39;00m \u001b[43mF\u001b[49m\u001b[43m.\u001b[49m\u001b[43mlinear\u001b[49m\u001b[43m(\u001b[49m\u001b[38;5;28;43minput\u001b[39;49m\u001b[43m,\u001b[49m\u001b[43m \u001b[49m\u001b[38;5;28;43mself\u001b[39;49m\u001b[43m.\u001b[49m\u001b[43mweight\u001b[49m\u001b[43m,\u001b[49m\u001b[43m \u001b[49m\u001b[38;5;28;43mself\u001b[39;49m\u001b[43m.\u001b[49m\u001b[43mbias\u001b[49m\u001b[43m)\u001b[49m\n",
      "\u001b[31mKeyboardInterrupt\u001b[39m: "
     ]
    }
   ],
   "source": [
    "train_losses, val_losses = train(\n",
    "    attn_module, optimizer,\n",
    "    train_ds=train_ds, val_ds=val_ds,\n",
    "    epochs=epochs, device=\"cpu\"\n",
    ")"
   ]
  },
  {
   "cell_type": "markdown",
   "id": "7a10bdc4",
   "metadata": {},
   "source": [
    "### Individual Inspection"
   ]
  },
  {
   "cell_type": "code",
   "execution_count": 104,
   "id": "ea386bb7",
   "metadata": {},
   "outputs": [
    {
     "data": {
      "text/plain": [
       "tensor([[0.4238],\n",
       "        [0.4668],\n",
       "        [0.4660],\n",
       "        ...,\n",
       "        [0.2850],\n",
       "        [0.2838],\n",
       "        [0.2828]], grad_fn=<SigmoidBackward0>)"
      ]
     },
     "execution_count": 104,
     "metadata": {},
     "output_type": "execute_result"
    }
   ],
   "source": [
    "G = train_ds[0]\n",
    "verts = G['vertices']\n",
    "one_ring = G['one_ring']\n",
    "geodesic = G['geodesic']\n",
    "attn_mask = G['attn_mask']\n",
    "\n",
    "attn_pred = F.sigmoid(attn_module(verts, one_ring, geodesic))\n",
    "attn_gt = attn_mask\n",
    "\n",
    "attn_pred"
   ]
  },
  {
   "cell_type": "code",
   "execution_count": 107,
   "id": "38645dec",
   "metadata": {},
   "outputs": [],
   "source": [
    "visualize_attention_heatmap(verts=verts.detach().numpy(), \n",
    "                           edges=one_ring.reshape(-1, 2).detach().numpy(), \n",
    "                           attn_pred=attn_pred.detach().numpy())"
   ]
  },
  {
   "cell_type": "markdown",
   "id": "ea33d449",
   "metadata": {},
   "source": [
    "Unclear if 4-5 epochs just isn't enough, if LR is too high or too low, etc. Need to run some hyperparameter search grids and evaluate with precision, recall, and F1 to see how the model is doing rather than just vibes\n",
    "\n",
    "- Use matplotlib to create colormap from the attention predictions (use a highly contrasting colormap)"
   ]
  }
 ],
 "metadata": {
  "kernelspec": {
   "display_name": "pytorch-venv-3.11.11",
   "language": "python",
   "name": "python3"
  },
  "language_info": {
   "codemirror_mode": {
    "name": "ipython",
    "version": 3
   },
   "file_extension": ".py",
   "mimetype": "text/x-python",
   "name": "python",
   "nbconvert_exporter": "python",
   "pygments_lexer": "ipython3",
   "version": "3.11.11"
  }
 },
 "nbformat": 4,
 "nbformat_minor": 5
}
