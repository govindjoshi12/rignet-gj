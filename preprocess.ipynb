{
 "cells": [
  {
   "cell_type": "markdown",
   "id": "2ad3aa4d",
   "metadata": {},
   "source": [
    "### Preprocessing for Rignet Data\n",
    "\n",
    "In this notebook, we process the input meshes into two mesh-graphs represented as adjacency lists. The first mesh graph contains the one-ring neighborhood as the edges of each vertex, and the second mesh graph contains the geodesic neighbord of the edges of each vertex. "
   ]
  },
  {
   "cell_type": "code",
   "execution_count": 1,
   "id": "2c20b58f",
   "metadata": {},
   "outputs": [],
   "source": [
    "import os\n",
    "import glob\n",
    "import numpy as np\n",
    "from collections import defaultdict\n",
    "from tqdm import tqdm\n",
    "import pickle\n",
    "import heapq\n",
    "import open3d as o3d"
   ]
  },
  {
   "cell_type": "code",
   "execution_count": 2,
   "id": "9ad7afa6",
   "metadata": {},
   "outputs": [],
   "source": [
    "import numpy as np\n",
    "from collections import defaultdict\n",
    "\n",
    "def convert_mesh_to_graph(obj_path: str):\n",
    "    \"\"\"\n",
    "    Reads an obj file and converts it to:\n",
    "      - vertices: list of (x,y,z) coords\n",
    "      - adjacency: dict mapping vertex index to list of (neighbor_index, distance)\n",
    "    \n",
    "    We first collect all 'v ' lines into `vertices`, and all 'f ' lines into `faces` as\n",
    "    lists of integer vertex indices. Then we build the adjacency.\n",
    "\n",
    "    return dictionary G = {\n",
    "        \"obj_path\": obj_path,\n",
    "        \"vertices\": vertices,\n",
    "        \"one_ring_distances\": adjaceny dict of tuples (node, distance),\n",
    "        \"one_ring\": edge list\n",
    "    }\n",
    "    \"\"\"\n",
    "    vertices: list[tuple[float, float, float]] = []\n",
    "    faces: list[list[int]] = []\n",
    "    adjacency: dict[int, list[tuple[int, float]]] = defaultdict(list)\n",
    "    \n",
    "    # collect vertices & faces\n",
    "    with open(obj_path, 'r') as f:\n",
    "        for line in f:\n",
    "            parts = line.strip().split()\n",
    "            if not parts:\n",
    "                continue\n",
    "            if parts[0] == 'v' and len(parts) >= 4:\n",
    "                x, y, z = map(float, parts[1:4])\n",
    "                vertices.append((x, y, z))\n",
    "            elif parts[0] == 'f' and len(parts) >= 4:\n",
    "                # parse only the vertex indices (ignore texture/normal)\n",
    "                # Add one because vertex indices are 1-based\n",
    "                idxs = [int(tok.split('/')[0]) - 1 for tok in parts[1:]]\n",
    "                faces.append(idxs)\n",
    "\n",
    "    # Translate mesh to origin using its centroid\n",
    "    pts = np.array(vertices, dtype=np.float64)\n",
    "    centroid = pts.mean(axis=0)\n",
    "    pts_centered = pts - centroid\n",
    "    vertices = [tuple(p) for p in pts_centered]\n",
    "    \n",
    "    # build adjacency from faces\n",
    "    total_edge_lengths = 0.0\n",
    "    num_edges = 0\n",
    "    for idxs in faces:\n",
    "        # assume triangular faces\n",
    "        n = len(idxs)\n",
    "        for j in range(n):\n",
    "            u = idxs[j]\n",
    "            v = idxs[(j + 1) % n]\n",
    "            dist = np.linalg.norm(np.subtract(vertices[u], vertices[v]))\n",
    "            total_edge_lengths += dist\n",
    "            num_edges += 1\n",
    "            adjacency[u].append((v, float(dist)))\n",
    "            adjacency[v].append((u, float(dist)))\n",
    "    \n",
    "    # compute mean edge length\n",
    "    mean_edge_length = (total_edge_lengths / num_edges) if num_edges else 0.0\n",
    "    \n",
    "    # deduplicate each adjacency list\n",
    "    # Edge List (actually used by the network)\n",
    "\n",
    "    edge_list = []\n",
    "    for node, nbrs in adjacency.items():\n",
    "        unique_nbrs = list(set(nbrs))\n",
    "        adjacency[node] = unique_nbrs\n",
    "        edge_list += [[node, nbr[0]] for nbr in unique_nbrs]\n",
    "\n",
    "    # Add a self‑edge [i, i] for every vertex\n",
    "    # to deal with max pooling edge cases\n",
    "    for i in range(len(vertices)):\n",
    "        edge_list.append([i, i])\n",
    "\n",
    "    # G = (V, E)\n",
    "    G = {\n",
    "        \"obj_path\": obj_path,\n",
    "        \"vertices\": vertices,\n",
    "        \"one_ring_distances\": dict(adjacency),\n",
    "        \"one_ring\": edge_list,\n",
    "        \"centroid\": centroid\n",
    "    }\n",
    "\n",
    "    return G\n",
    "\n"
   ]
  },
  {
   "cell_type": "markdown",
   "id": "d62948a4",
   "metadata": {},
   "source": [
    "### Geodesic Neighbors"
   ]
  },
  {
   "cell_type": "code",
   "execution_count": 3,
   "id": "77e8ffab",
   "metadata": {},
   "outputs": [],
   "source": [
    "def get_geodesic_adjacency_graph_from_mesh_graph(\n",
    "    adjacency_distances: dict[int, list[tuple[int, float]]],\n",
    "    geodesic_distance: float = 0.06\n",
    "):\n",
    "    \"\"\"\n",
    "    Given:\n",
    "      adjacency: dict[node] -> list of (neighbor, edge_length)\n",
    "      geodesic_distance: maximum path-length to consider\n",
    "    \n",
    "    Returns:\n",
    "      edge_list\n",
    "    \"\"\"\n",
    "    geodesic_edge_dict: dict[int, list[int]] = {}\n",
    "\n",
    "    # For each start node, run a Dijkstra‐like expansion until distance > threshold\n",
    "    for start in adjacency_distances:\n",
    "        # min‐heap of (cum_distance, node)\n",
    "        heap: list[tuple[float, int]] = [(0.0, start)]\n",
    "        visited_dist: dict[int, float] = {start: 0.0}\n",
    "        \n",
    "        while heap:\n",
    "            cum_dist, node = heapq.heappop(heap)\n",
    "            # if this popped entry is stale (we found a shorter path before), skip\n",
    "            if cum_dist > visited_dist[node]:\n",
    "                continue\n",
    "            # explore neighbors\n",
    "            for nbr, edge_len in adjacency_distances[node]:\n",
    "                new_dist = cum_dist + edge_len\n",
    "                # if within threshold and either unvisited or found shorter path\n",
    "                if new_dist <= geodesic_distance and (nbr not in visited_dist or new_dist < visited_dist[nbr]):\n",
    "                    visited_dist[nbr] = new_dist\n",
    "                    heapq.heappush(heap, (new_dist, nbr))\n",
    "        \n",
    "        # All visited_dist.keys() (excluding the start itself, if desired) are within the radius\n",
    "        # We’ll include the start too, since geodesic radius 0 includes itself\n",
    "        geodesic_edge_dict[start] = list(visited_dist.keys())\n",
    "\n",
    "    edge_list = []\n",
    "    for node, nbrs in geodesic_edge_dict.items():\n",
    "        edge_list += [[node, nbr] for nbr in nbrs]\n",
    "\n",
    "    return edge_list\n"
   ]
  },
  {
   "cell_type": "markdown",
   "id": "b50a49c1",
   "metadata": {},
   "source": [
    "### Label Lists (Joint Locations)"
   ]
  },
  {
   "cell_type": "code",
   "execution_count": 8,
   "id": "67f22278",
   "metadata": {},
   "outputs": [],
   "source": [
    "def get_joint_locations(rig_path, centroid):\n",
    "    # extraxt join locations\n",
    "    # disregard bone info. Only want joint locations\n",
    "    joints = []\n",
    "    with open(rig_path, \"r\") as f:\n",
    "        tokens = f.readline().split()\n",
    "        while(tokens[0] == \"joints\"):\n",
    "            joints.append(list(map(float, tokens[2:])))\n",
    "            tokens = f.readline().split()\n",
    "\n",
    "    joints = np.array(joints) - centroid\n",
    "    \n",
    "    return joints"
   ]
  },
  {
   "cell_type": "markdown",
   "id": "c2003bb6",
   "metadata": {},
   "source": [
    "### Save Train, Test, and Dev Sets"
   ]
  },
  {
   "cell_type": "code",
   "execution_count": 9,
   "id": "c134a042",
   "metadata": {},
   "outputs": [],
   "source": [
    "data_root = \"data/ModelResource_RigNetv1_preproccessed\"\n",
    "obj_folder = f'{data_root}/obj'\n",
    "rig_folder = f'{data_root}/rig_info'\n",
    "\n",
    "mesh_graphs_folder = f'{data_root}/mesh_graphs'"
   ]
  },
  {
   "cell_type": "code",
   "execution_count": 10,
   "id": "0b640d27",
   "metadata": {},
   "outputs": [
    {
     "name": "stderr",
     "output_type": "stream",
     "text": [
      "100%|██████████| 2163/2163 [02:37<00:00, 13.73it/s]\n"
     ]
    },
    {
     "name": "stdout",
     "output_type": "stream",
     "text": [
      "Saving to data/ModelResource_RigNetv1_preproccessed/mesh_graphs/train.pkl\n"
     ]
    },
    {
     "name": "stderr",
     "output_type": "stream",
     "text": [
      "100%|██████████| 270/270 [00:12<00:00, 22.35it/s]\n"
     ]
    },
    {
     "name": "stdout",
     "output_type": "stream",
     "text": [
      "Saving to data/ModelResource_RigNetv1_preproccessed/mesh_graphs/test.pkl\n"
     ]
    },
    {
     "name": "stderr",
     "output_type": "stream",
     "text": [
      "100%|██████████| 270/270 [00:14<00:00, 18.17it/s]\n"
     ]
    },
    {
     "name": "stdout",
     "output_type": "stream",
     "text": [
      "Saving to data/ModelResource_RigNetv1_preproccessed/mesh_graphs/val.pkl\n"
     ]
    }
   ],
   "source": [
    "MAX_GEODESIC_DISTANCE = 0.06\n",
    "\n",
    "for training_split in ['train', 'test', 'val']:\n",
    "\n",
    "    training_split_file = f'{data_root}/{training_split}_final.txt'\n",
    "    with open(training_split_file, \"r\") as file:\n",
    "        mesh_indices = list(map(int, file.readlines()))\n",
    "\n",
    "    graph_list = []\n",
    "    for mesh_idx in tqdm(mesh_indices):\n",
    "        obj_path = f'{obj_folder}/{mesh_idx}.obj'\n",
    "        rig_path = f'{rig_folder}/{mesh_idx}.txt'\n",
    "\n",
    "        G = convert_mesh_to_graph(obj_path)\n",
    "        G['geodesic'] = get_geodesic_adjacency_graph_from_mesh_graph(\n",
    "            G['one_ring_distances'],\n",
    "            MAX_GEODESIC_DISTANCE\n",
    "        )\n",
    "        del G['one_ring_distances']\n",
    "        G['joints'] = get_joint_locations(rig_path, G['centroid'])\n",
    "        graph_list.append(G)\n",
    "    \n",
    "    training_split_mesh_graph_file = f'{mesh_graphs_folder}/{training_split}.pkl'\n",
    "    with open(training_split_mesh_graph_file, \"wb+\") as file:\n",
    "        pickle.dump(graph_list, file)\n",
    "        print(\"Saving to\", training_split_mesh_graph_file)"
   ]
  },
  {
   "cell_type": "markdown",
   "id": "1290666c",
   "metadata": {},
   "source": [
    "### Visualize Adjacency Lists"
   ]
  },
  {
   "cell_type": "code",
   "execution_count": 11,
   "id": "02acf2b2",
   "metadata": {},
   "outputs": [],
   "source": [
    "def points_to_spheres(points, color=[0, 1, 1]):\n",
    "    spheres = []\n",
    "    for (x, y, z) in np.asarray(points):\n",
    "        sphere = o3d.geometry.TriangleMesh.create_sphere(radius=0.01)\n",
    "        sphere.translate((x, y, z))\n",
    "        sphere.paint_uniform_color(color)\n",
    "        spheres.append(sphere)\n",
    "    \n",
    "    return spheres\n",
    "\n",
    "def visualize_mesh_graph(vertices: np.ndarray,\n",
    "                        edge_list: np.ndarray,\n",
    "                        joints_gt: np.ndarray = None, \n",
    "                        mesh: o3d.geometry.TriangleMesh = None):\n",
    "\n",
    "    pts = vertices.astype(dtype=np.float64)\n",
    "    lines = edge_list.astype(dtype=np.int32)\n",
    "    \n",
    "    line_set = o3d.geometry.LineSet(\n",
    "        points=o3d.utility.Vector3dVector(pts),\n",
    "        lines=o3d.utility.Vector2iVector(lines)\n",
    "    )\n",
    "\n",
    "    colors = [[1.0, 0.0, 0.0] for _ in lines]\n",
    "    line_set.colors = o3d.utility.Vector3dVector(colors)\n",
    "    \n",
    "    to_draw = []\n",
    "    to_draw.append(line_set)\n",
    "\n",
    "    if joints_gt is not None:\n",
    "        to_draw.extend(points_to_spheres(joints_gt, color=[0, 1, 1]))\n",
    "\n",
    "    if mesh is not None:\n",
    "        mesh.compute_vertex_normals()\n",
    "        mesh.paint_uniform_color([0.8, 0.8, 0.8])\n",
    "        to_draw.append(mesh)\n",
    "    \n",
    "    o3d.visualization.draw_geometries(to_draw,\n",
    "                                      mesh_show_back_face=True,\n",
    "                                      window_name=\"Mesh Graph\",\n",
    "                                      width=800, height=600)"
   ]
  },
  {
   "cell_type": "code",
   "execution_count": 12,
   "id": "34c30231",
   "metadata": {},
   "outputs": [
    {
     "data": {
      "text/plain": [
       "'data/ModelResource_RigNetv1_preproccessed/mesh_graphs/test.pkl'"
      ]
     },
     "execution_count": 12,
     "metadata": {},
     "output_type": "execute_result"
    }
   ],
   "source": [
    "# Sanity Check\n",
    "file_path = f'{mesh_graphs_folder}/test.pkl'\n",
    "with open(file_path, \"rb\") as file:\n",
    "    _graph_list = pickle.load(file)\n",
    "file_path"
   ]
  },
  {
   "cell_type": "code",
   "execution_count": 14,
   "id": "8d886a4e",
   "metadata": {},
   "outputs": [
    {
     "name": "stderr",
     "output_type": "stream",
     "text": [
      "2025-04-17 01:39:57.625 python3[70737:16000520] +[IMKClient subclass]: chose IMKClient_Modern\n",
      "2025-04-17 01:39:57.625 python3[70737:16000520] +[IMKInputSession subclass]: chose IMKInputSession_Modern\n"
     ]
    }
   ],
   "source": [
    "visualize_mesh_graph(np.array(_graph_list[0]['vertices']), \n",
    "                     np.array(_graph_list[0]['one_ring']),\n",
    "                     np.array(_graph_list[0]['joints']))"
   ]
  },
  {
   "cell_type": "code",
   "execution_count": 15,
   "id": "8e5fa328",
   "metadata": {},
   "outputs": [],
   "source": [
    "visualize_mesh_graph(np.array(_graph_list[0]['vertices']), \n",
    "                     np.array(_graph_list[0]['geodesic']),\n",
    "                     np.array(_graph_list[0]['joints']))"
   ]
  },
  {
   "cell_type": "code",
   "execution_count": 175,
   "id": "8ca4980f",
   "metadata": {},
   "outputs": [
    {
     "data": {
      "text/plain": [
       "dict_keys(['obj_path', 'vertices', 'one_ring', 'geodesic', 'joints'])"
      ]
     },
     "execution_count": 175,
     "metadata": {},
     "output_type": "execute_result"
    }
   ],
   "source": [
    "_graph_list[0].keys()"
   ]
  }
 ],
 "metadata": {
  "kernelspec": {
   "display_name": "pytorch-venv-3.11.11",
   "language": "python",
   "name": "python3"
  },
  "language_info": {
   "codemirror_mode": {
    "name": "ipython",
    "version": 3
   },
   "file_extension": ".py",
   "mimetype": "text/x-python",
   "name": "python",
   "nbconvert_exporter": "python",
   "pygments_lexer": "ipython3",
   "version": "3.11.11"
  }
 },
 "nbformat": 4,
 "nbformat_minor": 5
}
